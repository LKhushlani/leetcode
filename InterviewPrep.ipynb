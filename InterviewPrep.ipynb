{
 "cells": [
  {
   "cell_type": "markdown",
   "id": "dd715798",
   "metadata": {},
   "source": [
    "# Majority Element"
   ]
  },
  {
   "cell_type": "code",
   "execution_count": 1,
   "id": "6e28e132",
   "metadata": {},
   "outputs": [],
   "source": [
    "#Approach 1 Hashmap \n",
    "def majority(array):\n",
    "    \n",
    "    res, hashmap = 0, {}\n",
    "    maxCount = 0\n",
    "    for n in array:\n",
    "        hashmap[n] = 1 + hashmap.get(n,0)\n",
    "        res = n if hashmap[n] > maxCount else res\n",
    "        maxCount = max( hashmap[n], maxCount)\n",
    "        \n",
    "    return res\n",
    "\n",
    "#Appraoch 2\n",
    "def majority(array):\n",
    "    \n",
    "    res , count = 0, 0\n",
    "    for n in array:\n",
    "        if count == 0:\n",
    "            res = n\n",
    "        count += ( 1 if res == n else -1)\n",
    "        \n",
    "    return res"
   ]
  },
  {
   "cell_type": "markdown",
   "id": "9389f354",
   "metadata": {},
   "source": [
    "# Search element in sorted and rotated array "
   ]
  },
  {
   "cell_type": "code",
   "execution_count": null,
   "id": "941848fe",
   "metadata": {},
   "outputs": [],
   "source": [
    "def searchInroatedArray(array, target):\n",
    "    \n",
    "    l , r = 0, len(array) - 1\n",
    "    while l < r: \n",
    "        mid = (l+r) // 2\n",
    "        if target == mid:\n",
    "            return mid \n",
    "        \n",
    "        #if num in left sorted portion of array\n",
    "        if array[l] < array[mid]:\n",
    "            if target > array[mid] or target < array[l]:\n",
    "                l = mid + 1 \n",
    "            else:\n",
    "                r = mid -1\n",
    "        else:\n",
    "            if target < array[mid] or target > array[r]:\n",
    "                l = mid -1 \n",
    "            else:\n",
    "                r = mid + 1\n",
    "        return -1"
   ]
  },
  {
   "cell_type": "code",
   "execution_count": null,
   "id": "21c17aa3",
   "metadata": {},
   "outputs": [],
   "source": [
    "'''\n",
    "case 1  ( numnber in left sorted array )\n",
    "4, 5, 6 ,7 0 , 1 , 2\n",
    " 7 8 9 0 3 4 5 6\n",
    "\n",
    "target = 5 \n",
    "l = 4 \n",
    "r = 2\n",
    "mid = 7 \n",
    "a ) 4 < 7 \n",
    " 1. if 5 > 7 or 5 < 4:\n",
    " basically checking the left bound first \n",
    " 4, 5 , 6 , 7 , 0 , 1 , 2\n",
    " <----------> This portion \n",
    "  l = mid + 1  \n",
    " and move left to  this portion \n",
    "                   <-------->\n",
    " else check the right portion \n",
    " 2. r = mid -1 = r = 6 \n",
    "m\n",
    " \n",
    " Case 2:\n",
    " target = 5 \n",
    " 5 < 0 or 5 > 6 \n",
    " \n",
    " So the whole idea is first we need to decide where the actual number \n",
    " is , is it in the left sorted array or right one. \n",
    " THen the entire algo will revolve in that case only. \n",
    " Like do we need to only check the left one or the right one.\n",
    " consequently wekeep on updating the l and r pointers only in \n",
    " that case. \n",
    " When we decide which side we need to chekc \n",
    " then only the bounds remain. \n",
    " ie \n",
    " checking of target with the mid , left or right end or array. \n",
    " and we can update the l, r accordingly\n",
    "\n",
    "\n",
    "\n",
    "'''"
   ]
  },
  {
   "cell_type": "markdown",
   "id": "030a0636",
   "metadata": {},
   "source": [
    "# Peak Element in biotonic array"
   ]
  },
  {
   "cell_type": "code",
   "execution_count": null,
   "id": "f2449471",
   "metadata": {},
   "outputs": [],
   "source": [
    "def peakElement(array):\n",
    "    l = 0\n",
    "    r = len(array)-1\n",
    "    \n",
    "    if l == r:\n",
    "        return array[l]\n",
    "    \n",
    "    while l <= r:\n",
    "        mid = (l + r) // 2\n",
    "        \n",
    "        #case 2 \n",
    "        if l+1 == r and array[l] > array[r]:\n",
    "            return array[l]\n",
    "        if l+1 == r and array[r] > array[l]:\n",
    "            return array[r] \n",
    "        \n",
    "        if array[mid]> array[mid-1] and array[mid] > array[mid+1]:\n",
    "            return array[mid]\n",
    "        \n",
    "        if array[mid] > array[mid+1] and array[mid] < array[mid-1]:\n",
    "            r = mid -1\n",
    "        else:\n",
    "            l = mid + 1\n",
    "            \n",
    "    return -1 "
   ]
  },
  {
   "cell_type": "code",
   "execution_count": null,
   "id": "466c911b",
   "metadata": {},
   "outputs": [],
   "source": [
    "\n",
    "'''\n",
    "peak in biotonic array ( array which is forst inc and then dec): \n",
    "case 1 : \n",
    "if there is only one element return the element\n",
    "case 2:\n",
    "if therer aer only 2 ele, \n",
    "then l == r-1 or l+1 = r \n",
    "check both cases if any one of them is greater , then return that. \n",
    "else check if the mid element is greater than element before it and also greater than next to\n",
    "it then the element is surely in the left portion then update the right else update the left\n",
    "eg 1, 2, 10, 9, 5 , 4,3,1\n",
    "mid element = 5  , 5 > 4 ,  5 < 9 \n",
    "'''\n"
   ]
  },
  {
   "cell_type": "markdown",
   "id": "1dee351b",
   "metadata": {},
   "source": [
    "# Merge 2 sorted arrays without extra space"
   ]
  },
  {
   "cell_type": "code",
   "execution_count": 11,
   "id": "b2bf2d88",
   "metadata": {},
   "outputs": [
    {
     "name": "stdout",
     "output_type": "stream",
     "text": [
      "[0, 1, 2, 3] [5, 6, 7, 8, 9]\n"
     ]
    }
   ],
   "source": [
    "def mergesortedarrays(a1, a2):\n",
    "    l1 = len(a1)\n",
    "    l2 = len(a2)\n",
    "    i ,j = 0, 0\n",
    "    \n",
    "    while i < l1:\n",
    "        if a1[i] > a2[j]:\n",
    "            a1[i], a2[j] = a2[j], a1[i]\n",
    "            fixArray2(a2)\n",
    "        i += 1\n",
    "        \n",
    "    print(a1, a2)\n",
    "def fixArray2(a):\n",
    "    for i in range(1,len(a)):\n",
    "        if a[i-1] > a[i]: \n",
    "            a[i], a[i-1]= a[i-1], a[i]\n",
    "            \n",
    "\n",
    "mergesortedarrays( [1,3,5,7], [0,2,6,8,9])"
   ]
  },
  {
   "cell_type": "markdown",
   "id": "072187f8",
   "metadata": {},
   "source": [
    "#  search in a row wise and column wise sorted matrix"
   ]
  },
  {
   "cell_type": "code",
   "execution_count": 4,
   "id": "ecb13aa5",
   "metadata": {},
   "outputs": [
    {
     "name": "stdout",
     "output_type": "stream",
     "text": [
      "found at [3, 2]\n"
     ]
    },
    {
     "data": {
      "text/plain": [
       "[3, 2]"
      ]
     },
     "execution_count": 4,
     "metadata": {},
     "output_type": "execute_result"
    }
   ],
   "source": [
    "# time complexity = O(n + m)\n",
    "def searchInMatrix(a, t):\n",
    "    numRows = len(a)\n",
    "    numCols = len(a[0])\n",
    "    \n",
    "    i = 0\n",
    "    j = numCols -1\n",
    "    \n",
    "    while(i >= 0 and i < numRows and j <= numCols and j >=0):\n",
    "        if t == a[i][j]:\n",
    "            print(\"found at\", [i,j])\n",
    "            return [i,j]\n",
    "        elif t < a[i][j]:\n",
    "            j -=1 \n",
    "        else:\n",
    "            i +=1\n",
    "    print(\"Not found\")\n",
    "    return [-1,-1]\n",
    "\n",
    "searchInMatrix(\n",
    "[\n",
    "                [35,45,55,65],\n",
    "                [40,50,60,70],\n",
    "                [52,54,62,73],\n",
    "                [57,58,64,75]\n",
    "], 64\n",
    ")\n",
    "\n",
    "'''\n",
    "Intuition \n",
    "since arrys are sorted row wise and column wise , \n",
    "we can start from top right \n",
    "now 3 cases \n",
    "1. if t is found at [i,j] = top right in the begenning pos , return target pos\n",
    "2. if t is  < pos , then it ll be less than all values in that column , as the cols are sorted in asc order\n",
    "hence we skip that col and move to next col\n",
    "similarly , if t > currentpos, then we inc the row , as element might be greater \n",
    "'''"
   ]
  },
  {
   "cell_type": "markdown",
   "id": "2281d25e",
   "metadata": {},
   "source": [
    "# 2 pair sum"
   ]
  },
  {
   "cell_type": "code",
   "execution_count": 8,
   "id": "090b57c2",
   "metadata": {},
   "outputs": [
    {
     "data": {
      "text/plain": [
       "-1"
      ]
     },
     "execution_count": 8,
     "metadata": {},
     "output_type": "execute_result"
    }
   ],
   "source": [
    "def twopairSum(array, t):\n",
    "    h = {}\n",
    "    for n in array:\n",
    "        r = t-n\n",
    "        if r not in h:\n",
    "            h[n] = True\n",
    "            \n",
    "        else:\n",
    "            return [n,r]\n",
    "    return -1\n",
    "\n",
    "twopairSum([1,2,3,4,5,6,7], 14)"
   ]
  },
  {
   "cell_type": "markdown",
   "id": "da1fab26",
   "metadata": {},
   "source": [
    "# 3 pair sum"
   ]
  },
  {
   "cell_type": "code",
   "execution_count": 20,
   "id": "d05ad872",
   "metadata": {},
   "outputs": [
    {
     "data": {
      "text/plain": [
       "[[-8, 2, 6], [-8, 3, 5], [-6, 1, 5]]"
      ]
     },
     "execution_count": 20,
     "metadata": {},
     "output_type": "execute_result"
    }
   ],
   "source": [
    "# O n2\n",
    "def threeNumberSum(a, t):\n",
    "    # Write your code here.\n",
    "    a.sort()\n",
    "    res = []\n",
    "    for i in range(len(a)-2):\n",
    "        l = i+1\n",
    "        r = len(a) -1\n",
    "        # print(n,a[l], a[r])\n",
    "        while l < r:\n",
    "            cursum = a[l] + a[r] + a[i]\n",
    "            # print(\"c\",cursum, \"a[l]\", a[l], \"a[r]\", a[r], \"n\", n)\n",
    "            if cursum == t:\n",
    "                res.append([a[i],a[l], a[r]])\n",
    "                l+=1\n",
    "                r -=1\n",
    "            elif cursum > t:\n",
    "                r -=1\n",
    "            elif cursum < t:\n",
    "                l += 1\n",
    "                \n",
    "    return res\n",
    "threeNumberSum([12, 3, 1, 2, -6, 5, -8, 6],0)\n"
   ]
  },
  {
   "cell_type": "markdown",
   "id": "b7f4ce5d",
   "metadata": {},
   "source": [
    "# segregate 0 and 1 and 2 "
   ]
  },
  {
   "cell_type": "code",
   "execution_count": 26,
   "id": "a94a61c2",
   "metadata": {},
   "outputs": [
    {
     "name": "stdout",
     "output_type": "stream",
     "text": [
      "[0, 1, 2, 1, 1, 2, 0, 0, 1]\n",
      "[0, 0, 0, 1, 1, 1, 1, 2, 2]\n"
     ]
    },
    {
     "data": {
      "text/plain": [
       "'\\nintuition\\nit all revolves areounf the med pointer\\nl = 0 \\nm = 0 \\nh = len(a) -1 \\nall checks through m ptr\\nwhile m <= h \\nif m == 0 \\nthen swap m with l \\nbecause we need to keep all 0 at l , and inc m and l\\nif m == 1 \\ndo nothing and inc m \\nif m == 2 \\nthen swap h with m , and dec h and inc m \\n\\n'"
      ]
     },
     "execution_count": 26,
     "metadata": {},
     "output_type": "execute_result"
    }
   ],
   "source": [
    "# [0,1,2,1,1,2,0,0,1]\n",
    "def segnums(a):\n",
    "    print(a)\n",
    "    low = 0\n",
    "    med = 0\n",
    "    high = len(a) -1\n",
    "    while med <= high:\n",
    "        if a[med] == 0:\n",
    "            a[low], a[med] = a[med], a[low]\n",
    "            med +=1\n",
    "            low +=1\n",
    "        elif a[med] == 1:\n",
    "            med += 1\n",
    "        elif a[med] == 2:\n",
    "            a[med], a[high] = a[high], a[med]\n",
    "            high -=1\n",
    "            \n",
    "    print(a)\n",
    "    return a\n",
    "\n",
    "segnums([0,1,2,1,1,2,0,0,1])\n",
    "              \n",
    "'''\n",
    "intuition\n",
    "it all revolves areounf the med pointer\n",
    "l = 0 \n",
    "m = 0 \n",
    "h = len(a) -1 \n",
    "all checks through m ptr\n",
    "while m <= h \n",
    "if m == 0 \n",
    "then swap m with l \n",
    "because we need to keep all 0 at l , and inc m and l\n",
    "if m == 1 \n",
    "do nothing and inc m \n",
    "if m == 2 \n",
    "then swap h with m , and dec h and inc m \n",
    "\n",
    "'''"
   ]
  },
  {
   "cell_type": "markdown",
   "id": "0ec8bd16",
   "metadata": {},
   "source": [
    "# min steps in infinite grid"
   ]
  },
  {
   "cell_type": "code",
   "execution_count": null,
   "id": "d4cf93b9",
   "metadata": {},
   "outputs": [],
   "source": [
    "#  given some coordinates , { 1,3}, { 4,5}, { 0,2}, { 4,8} \n",
    "# reach from 1st to last in given order in min steps you can move diagonally as well. \n",
    "# the whole idea  = this formula \n",
    "# max ( abs( x1 -x2)  , (y1-y2))\n"
   ]
  },
  {
   "cell_type": "markdown",
   "id": "5056a253",
   "metadata": {},
   "source": [
    "# Largest Sum Contiguous Subarray or Kadanes algo"
   ]
  },
  {
   "cell_type": "code",
   "execution_count": 40,
   "id": "163173ab",
   "metadata": {},
   "outputs": [
    {
     "name": "stdout",
     "output_type": "stream",
     "text": [
      "19\n"
     ]
    }
   ],
   "source": [
    "def kadanesAlgorithm(array):\n",
    "    # Write your code here.\n",
    "    curr_sum = 0 \n",
    "    max_sum = 0\n",
    "    for i in range(len(array)):\n",
    "        curr_sum = max( curr_sum + array[i] , array[i])\n",
    "        max_sum = max(max_sum,curr_sum)\n",
    " \n",
    "    print(max_sum)\n",
    " \n",
    "  \n",
    "array = [3, 5, -9, 1, 3, -2, 3, 4, 7, 2, -9, 6, 3, 1, -5, 4]\n",
    "kadanesAlgorithm(array)"
   ]
  },
  {
   "cell_type": "markdown",
   "id": "9b01bb44",
   "metadata": {},
   "source": [
    "# Max Sum of non Adjacent Elements"
   ]
  },
  {
   "cell_type": "code",
   "execution_count": 5,
   "id": "4acbf64a",
   "metadata": {},
   "outputs": [
    {
     "name": "stdout",
     "output_type": "stream",
     "text": [
      "Ans 33\n",
      "A2 33\n"
     ]
    },
    {
     "data": {
      "text/plain": [
       "33"
      ]
     },
     "execution_count": 5,
     "metadata": {},
     "output_type": "execute_result"
    }
   ],
   "source": [
    "def maxSum(a):\n",
    "    sumsArray = [0 for _ in a]\n",
    "    sumsArray[0] = a[0]\n",
    "    sumsArray[1] = max(a[0], a[1])\n",
    "    for i in range(2,len(a)):\n",
    "        sumsArray[i] = max(sumsArray[i-1], sumsArray[i-2]+ a[i])\n",
    "        \n",
    "    print(\"Ans\", sumsArray[-1])\n",
    "    return sumsArray[-1]\n",
    "    \n",
    "    \n",
    "    \n",
    "    \n",
    "    \n",
    "    \n",
    "maxSum([ 7,10,12,7, 9, 14])\n",
    "    \n",
    "'''\n",
    "Intuition:\n",
    "a = [ 7,10,12,7, 9, 14]\n",
    "ans = 33 \n",
    "Here we will use DP. \n",
    "we will store the nums in an array where sum is precomputed \n",
    "so at any point in the array \n",
    "we will calc, the max of either \n",
    "the sum of that element (i) + array[i-2]\n",
    "\n",
    "or the sum of arr[i-1]\n",
    "so \n",
    "max of (\n",
    "arr[i] + sumsArray[i-2], \n",
    "sumsArray[i-1]\n",
    ")\n",
    "\n",
    "'''\n",
    "\n",
    "# on time o1 space \n",
    "def maxSumApproach2(a):\n",
    "    \n",
    "    if len(a) == 0:\n",
    "        return 0\n",
    "    \n",
    "    if len(a) == 1:\n",
    "        return a[1]\n",
    "    \n",
    "    second = a[0]\n",
    "    first = max(a[0], a[1])\n",
    "    for i in range(2, len(a)):\n",
    "        current = max(first, second+a[i])\n",
    "        second = first\n",
    "        first = current\n",
    "    print(\"A2\", first)\n",
    "    return first\n",
    "    \n",
    "maxSumApproach2([ 7,10,12,7, 9, 14])\n"
   ]
  },
  {
   "cell_type": "markdown",
   "id": "962385c6",
   "metadata": {},
   "source": [
    "# Minimum Window Substring"
   ]
  },
  {
   "cell_type": "code",
   "execution_count": 10,
   "id": "adbe76e5",
   "metadata": {},
   "outputs": [
    {
     "name": "stdout",
     "output_type": "stream",
     "text": [
      "{'A': 1, 'B': 1, 'C': 1}\n",
      "A\n",
      "Win {'A': 1}\n",
      "have 1\n",
      "window {'A': 1}\n",
      "D\n",
      "Win {'A': 1, 'D': 1}\n",
      "have 1\n",
      "window {'A': 1, 'D': 1}\n",
      "O\n",
      "Win {'A': 1, 'D': 1, 'O': 1}\n",
      "have 1\n",
      "window {'A': 1, 'D': 1, 'O': 1}\n",
      "B\n",
      "Win {'A': 1, 'D': 1, 'O': 1, 'B': 1}\n",
      "have 2\n",
      "window {'A': 1, 'D': 1, 'O': 1, 'B': 1}\n",
      "E\n",
      "Win {'A': 1, 'D': 1, 'O': 1, 'B': 1, 'E': 1}\n",
      "have 2\n",
      "window {'A': 1, 'D': 1, 'O': 1, 'B': 1, 'E': 1}\n",
      "C\n",
      "Win {'A': 1, 'D': 1, 'O': 1, 'B': 1, 'E': 1, 'C': 1}\n",
      "have 3\n",
      "window {'A': 1, 'D': 1, 'O': 1, 'B': 1, 'E': 1, 'C': 1}\n",
      "Win After {'A': 0, 'D': 1, 'O': 1, 'B': 1, 'E': 1, 'C': 1} 2\n",
      "O\n",
      "Win {'A': 0, 'D': 1, 'O': 2, 'B': 1, 'E': 1, 'C': 1}\n",
      "have 2\n",
      "window {'A': 0, 'D': 1, 'O': 2, 'B': 1, 'E': 1, 'C': 1}\n",
      "D\n",
      "Win {'A': 0, 'D': 2, 'O': 2, 'B': 1, 'E': 1, 'C': 1}\n",
      "have 2\n",
      "window {'A': 0, 'D': 2, 'O': 2, 'B': 1, 'E': 1, 'C': 1}\n",
      "E\n",
      "Win {'A': 0, 'D': 2, 'O': 2, 'B': 1, 'E': 2, 'C': 1}\n",
      "have 2\n",
      "window {'A': 0, 'D': 2, 'O': 2, 'B': 1, 'E': 2, 'C': 1}\n",
      "B\n",
      "Win {'A': 0, 'D': 2, 'O': 2, 'B': 2, 'E': 2, 'C': 1}\n",
      "have 2\n",
      "window {'A': 0, 'D': 2, 'O': 2, 'B': 2, 'E': 2, 'C': 1}\n",
      "A\n",
      "Win {'A': 1, 'D': 2, 'O': 2, 'B': 2, 'E': 2, 'C': 1}\n",
      "have 3\n",
      "window {'A': 1, 'D': 2, 'O': 2, 'B': 2, 'E': 2, 'C': 1}\n",
      "Win After {'A': 1, 'D': 1, 'O': 2, 'B': 2, 'E': 2, 'C': 1} 3\n",
      "Win After {'A': 1, 'D': 1, 'O': 1, 'B': 2, 'E': 2, 'C': 1} 3\n",
      "Win After {'A': 1, 'D': 1, 'O': 1, 'B': 1, 'E': 2, 'C': 1} 3\n",
      "Win After {'A': 1, 'D': 1, 'O': 1, 'B': 1, 'E': 1, 'C': 1} 3\n",
      "Win After {'A': 1, 'D': 1, 'O': 1, 'B': 1, 'E': 1, 'C': 0} 2\n",
      "N\n",
      "Win {'A': 1, 'D': 1, 'O': 1, 'B': 1, 'E': 1, 'C': 0, 'N': 1}\n",
      "have 2\n",
      "window {'A': 1, 'D': 1, 'O': 1, 'B': 1, 'E': 1, 'C': 0, 'N': 1}\n",
      "C\n",
      "Win {'A': 1, 'D': 1, 'O': 1, 'B': 1, 'E': 1, 'C': 1, 'N': 1}\n",
      "have 3\n",
      "window {'A': 1, 'D': 1, 'O': 1, 'B': 1, 'E': 1, 'C': 1, 'N': 1}\n",
      "Win After {'A': 1, 'D': 1, 'O': 0, 'B': 1, 'E': 1, 'C': 1, 'N': 1} 3\n",
      "Win After {'A': 1, 'D': 0, 'O': 0, 'B': 1, 'E': 1, 'C': 1, 'N': 1} 3\n",
      "Win After {'A': 1, 'D': 0, 'O': 0, 'B': 1, 'E': 0, 'C': 1, 'N': 1} 3\n",
      "Win After {'A': 1, 'D': 0, 'O': 0, 'B': 0, 'E': 0, 'C': 1, 'N': 1} 2\n"
     ]
    },
    {
     "data": {
      "text/plain": [
       "'BANC'"
      ]
     },
     "execution_count": 10,
     "metadata": {},
     "output_type": "execute_result"
    }
   ],
   "source": [
    "def minWindowSubstring(s,t):\n",
    "    if len(s) == '':\n",
    "        return \"\"\n",
    "    countT, window = {}, {}\n",
    "    for c in t:\n",
    "        countT[c] = 1 + countT.get(c, 0)\n",
    "    \n",
    "    print(countT)\n",
    "    res, resLen = [-1,-1], float(\"inf\")\n",
    "\n",
    "    have, need = 0, len(countT)\n",
    "    l=0\n",
    "    for r in range(len(s)):\n",
    "        c = s[r]\n",
    "        print(c)\n",
    "        #if c in t: \n",
    "        window[c] = 1+ window.get(c, 0)\n",
    "        print(\"Win\", window)\n",
    "        \n",
    "        if c in countT and countT[c] == window[c]:\n",
    "            have += 1\n",
    "        print(\"have\", have)\n",
    "        print('window', window)\n",
    "        while have == need:\n",
    "            \n",
    "            if r-l+1 < resLen:\n",
    "                res = [l, r]\n",
    "                resLen = r-l+1\n",
    "                \n",
    "            #pop from left \n",
    "            window[s[l]] -= 1\n",
    "            if s[l] in countT and window[s[l]] < countT[s[l]]:\n",
    "                have -= 1\n",
    "            print(\"Win After\", window,have)\n",
    "                \n",
    "            l += 1\n",
    "        \n",
    "    l, r = res \n",
    "    return s[l:r+1] if resLen != float('inf') else \"\"\n",
    "                \n",
    "\n",
    "        \n",
    "s = \"ADOBECODEBANC\"\n",
    "t = \"ABC\"\n",
    "minWindowSubstring(s, t)\n",
    "#ans = 'BANC'\n",
    "\n",
    "\n",
    "'''\n",
    "1. Use two pointers: start and end to represent a window.\n",
    "2. Move end to find a valid window.\n",
    "3. When a valid window is found, move start to find a smaller window.\n",
    "'''"
   ]
  },
  {
   "cell_type": "markdown",
   "id": "1078db1f",
   "metadata": {},
   "source": [
    "# employee free time \n"
   ]
  },
  {
   "cell_type": "code",
   "execution_count": 1,
   "id": "b6c8762a",
   "metadata": {},
   "outputs": [],
   "source": [
    "# [ [[1,2],[5,6]] , [1,3], [4,10]]\n",
    "# sort all b\n",
    "#  [ [1,2], [1,3], [4,10], [5,6]]\n",
    "\n",
    "# lastEnd = 2 \n",
    "class Interval:\n",
    "    \n",
    "    def __init__(self, start:int=None, end:int = None):\n",
    "        self.start = start\n",
    "        self.end = end\n",
    "        \n",
    "class Solution:\n",
    "    def employeeFreeTime(self, schedule: '[[Interval]]') -> '[[Interval]]':\n",
    "        \n",
    "        #error cases \n",
    "        if not schedule:\n",
    "            return []\n",
    "        \n",
    "        #take out intervals into a list \n",
    "        intervals = []\n",
    "        for employee in schedule:\n",
    "            for interval in employee:\n",
    "                intervals.append([interval.start, interval.end])\n",
    "                    \n",
    "        #sort the intervals\n",
    "        intervals.sort(key = lambda x: x[0])\n",
    "        \n",
    "        #compute free time \n",
    "        result = []\n",
    "        lastEnd = intervals[0][1]\n",
    "        \n",
    "        for i in range(1,len(intervals)):\n",
    "            currentStart = intervals[i][0]\n",
    "            currentEnd = intervals[i][1]\n",
    "            if currentStart > lastEnd:\n",
    "                result.append([lastEnd, currentStart])\n",
    "            lastEnd = max(lastEnd, currentEnd)\n",
    "            \n",
    "        return result\n",
    "            "
   ]
  },
  {
   "cell_type": "markdown",
   "id": "8eb49d53",
   "metadata": {},
   "source": [
    "# remove k digits lc - 402"
   ]
  },
  {
   "cell_type": "code",
   "execution_count": 3,
   "id": "34c7df52",
   "metadata": {},
   "outputs": [],
   "source": [
    "'''\n",
    "Input: num = \"1432219\", k = 3\n",
    "Output: \"1219\"\n",
    "Explanation: Remove the three digits 4, 3, and 2 to form the new number 1219 which is the smallest.\n",
    "'''\n",
    "\n",
    "'''\n",
    "This is an exampple of monotonic stack \n",
    "what we do is we aim for decreasing order and left significant digit \n",
    "and pop out the left most value wihch  is higher than its next value\n",
    "if not we keep on adding the elements in the stack \n",
    "'''\n",
    "\n",
    "def removekdigits(num, k):\n",
    "    \n",
    "    res= ''\n",
    "    stack = []\n",
    "    for c in num:\n",
    "        if k > 0 and stack and stack[-1] > c:\n",
    "            k -=1\n",
    "            stack.pop()\n",
    "            \n",
    "        stack.append(c)\n",
    "    \n",
    "    stack = stack[:len(stack) - k]\n",
    "    res = \"\".join(stack)\n",
    "    \n",
    "    return str(int(res)) if res else \"\""
   ]
  },
  {
   "cell_type": "code",
   "execution_count": null,
   "id": "746114f8",
   "metadata": {},
   "outputs": [],
   "source": []
  }
 ],
 "metadata": {
  "kernelspec": {
   "display_name": "Python 3 (ipykernel)",
   "language": "python",
   "name": "python3"
  },
  "language_info": {
   "codemirror_mode": {
    "name": "ipython",
    "version": 3
   },
   "file_extension": ".py",
   "mimetype": "text/x-python",
   "name": "python",
   "nbconvert_exporter": "python",
   "pygments_lexer": "ipython3",
   "version": "3.10.0"
  }
 },
 "nbformat": 4,
 "nbformat_minor": 5
}
