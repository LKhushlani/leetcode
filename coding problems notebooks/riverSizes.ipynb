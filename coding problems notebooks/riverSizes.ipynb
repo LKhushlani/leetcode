{
 "cells": [
  {
   "cell_type": "code",
   "execution_count": 28,
   "metadata": {},
   "outputs": [],
   "source": [
    "def dfs(matrix, i ,j, count):\n",
    "    \n",
    "    if i < 0 or i>=len(matrix) or j <0 or j >= len(matrix[0]) or matrix[i][j] == 'Visited' or matrix[i][j] == 0:\n",
    "        return 0 \n",
    "#     print(\"^^^\")\n",
    "    matrix[i][j] = 'Visited'\n",
    "#     print(matrix)\n",
    "    \n",
    "#     print(count)\n",
    "#     print(\"^^^\")\n",
    "    count = 1+ dfs(matrix, i, j+1,count)\n",
    "    count += dfs(matrix, i,j-1, count)\n",
    "    count += dfs(matrix, i-1,j,count)\n",
    "    count += dfs(matrix, i+1,j,count)\n",
    "    return count\n",
    "\n",
    "def riverSizes(matrix):\n",
    "    # Write your code here.\n",
    "    count = 0\n",
    "    result = []\n",
    "    for i in range(len(matrix)):\n",
    "        for j in range(len(matrix[0])):\n",
    "            if matrix[i][j] == 1:\n",
    "                count  = 0\n",
    "                count = dfs(matrix, i, j, count)\n",
    "                print(matrix)\n",
    "                print(\"count\", count)\n",
    "                result.append(count)\n",
    "\n",
    "    return result\n"
   ]
  },
  {
   "cell_type": "code",
   "execution_count": 29,
   "metadata": {},
   "outputs": [
    {
     "name": "stdout",
     "output_type": "stream",
     "text": [
      "[['Visited', 0, 0, 1, 0], ['Visited', 0, 1, 0, 0], [0, 0, 1, 0, 1], [1, 0, 1, 0, 1], [1, 0, 1, 1, 0]]\n",
      "count 2\n",
      "[['Visited', 0, 0, 'Visited', 0], ['Visited', 0, 1, 0, 0], [0, 0, 1, 0, 1], [1, 0, 1, 0, 1], [1, 0, 1, 1, 0]]\n",
      "count 1\n",
      "[['Visited', 0, 0, 'Visited', 0], ['Visited', 0, 'Visited', 0, 0], [0, 0, 'Visited', 0, 1], [1, 0, 'Visited', 0, 1], [1, 0, 'Visited', 'Visited', 0]]\n",
      "count 5\n",
      "[['Visited', 0, 0, 'Visited', 0], ['Visited', 0, 'Visited', 0, 0], [0, 0, 'Visited', 0, 'Visited'], [1, 0, 'Visited', 0, 'Visited'], [1, 0, 'Visited', 'Visited', 0]]\n",
      "count 2\n",
      "[['Visited', 0, 0, 'Visited', 0], ['Visited', 0, 'Visited', 0, 0], [0, 0, 'Visited', 0, 'Visited'], ['Visited', 0, 'Visited', 0, 'Visited'], ['Visited', 0, 'Visited', 'Visited', 0]]\n",
      "count 2\n"
     ]
    },
    {
     "data": {
      "text/plain": [
       "[2, 1, 5, 2, 2]"
      ]
     },
     "execution_count": 29,
     "metadata": {},
     "output_type": "execute_result"
    }
   ],
   "source": [
    "mat = [\n",
    "  [1, 0, 0, 1, 0],\n",
    "  [1, 0, 1, 0, 0],\n",
    "  [0, 0, 1, 0, 1],\n",
    "  [1, 0, 1, 0, 1],\n",
    "  [1, 0, 1, 1, 0]\n",
    "]\n",
    "riverSizes(mat)"
   ]
  },
  {
   "cell_type": "code",
   "execution_count": null,
   "metadata": {},
   "outputs": [],
   "source": []
  }
 ],
 "metadata": {
  "kernelspec": {
   "display_name": "Python 3",
   "language": "python",
   "name": "python3"
  },
  "language_info": {
   "codemirror_mode": {
    "name": "ipython",
    "version": 3
   },
   "file_extension": ".py",
   "mimetype": "text/x-python",
   "name": "python",
   "nbconvert_exporter": "python",
   "pygments_lexer": "ipython3",
   "version": "3.7.0"
  }
 },
 "nbformat": 4,
 "nbformat_minor": 2
}
