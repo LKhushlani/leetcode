{
 "cells": [
  {
   "cell_type": "markdown",
   "metadata": {},
   "source": [
    "#  next permutation"
   ]
  },
  {
   "cell_type": "code",
   "execution_count": 85,
   "metadata": {},
   "outputs": [
    {
     "name": "stdout",
     "output_type": "stream",
     "text": [
      "4\n",
      "5\n",
      "3\n",
      "[5, 4, 1, 0]\n",
      "[0, 1, 4, 5]\n",
      "6230145\n"
     ]
    }
   ],
   "source": [
    "# number = [5,6,3,2,1]\n",
    "\n",
    "number = [6,2,1,5,4,3,0]\n",
    "#          [0,1,2,3,5,6,7]\n",
    "    \n",
    "# i  = 3\n",
    "# smallest = 5\n",
    "# x = 1\n",
    "def findNext(number,n): \n",
    "\n",
    "    for i in range(n-1,0,-1):\n",
    "        if number[i] > number[i-1]: \n",
    "            break\n",
    "    if i == 1 and number[i] <= number[i-1]: \n",
    "        print(\"Next number not possible\")\n",
    "        return\n",
    "    \n",
    "    nextsmallestIndex = i\n",
    "    smallest = number[i-1]  \n",
    "    \n",
    "    for j in range(i+1, len(number)):\n",
    "        if  number[j] > smallest and number[j] < number[nextsmallestIndex]:\n",
    "            nextsmallestIndex = j\n",
    "            print(nextsmallestIndex)\n",
    "    \n",
    "    number[nextsmallestIndex], number[i-1] = number[i-1], number[nextsmallestIndex]\n",
    "    print(i)\n",
    "    print(number[i:])\n",
    "    Rrem = sorted(number[i:])\n",
    "    print(Rrem)\n",
    "    Lrem = number[:i]\n",
    "    number = Lrem+Rrem\n",
    "\n",
    "    print(int(\"\".join(str(i) for i in number)))\n",
    "\n",
    "findNext(number, 7)"
   ]
  },
  {
   "cell_type": "code",
   "execution_count": null,
   "metadata": {},
   "outputs": [],
   "source": [
    "# Python3 implementation of the approach \n",
    "\n",
    "# Link list node \n",
    "class Node: \n",
    "    def __init__(self): \n",
    "        self.data = 0\n",
    "        self.next = None\n",
    "\n",
    "def getIntersectionNode( head1, head2): \n",
    "\n",
    "    curr1 = head1 \n",
    "    curr2 = head2 \n",
    "\n",
    "    # While both the pointers are not equal \n",
    "    while (curr1 != curr2): \n",
    "\n",
    "\n",
    "        if (curr1 == None) : \n",
    "            curr1 = head2 \n",
    "\n",
    "        else: \n",
    "            curr1 = curr1.next\n",
    "\n",
    "        if (curr2 == None): \n",
    "            curr2 = head1 \n",
    "\n",
    "        else: \n",
    "            curr2 = curr2.next\n",
    "\n",
    "    # Return the intersection node \n",
    "    return curr1.data \n",
    "\n",
    "\n",
    "newNode = None\n",
    "head1 = Node() \n",
    "head1.data = 10\n",
    "head2 = Node() \n",
    "head2.data = 3\n",
    "newNode = Node() \n",
    "newNode.data = 6\n",
    "head2.next = newNode \n",
    "newNode = Node() \n",
    "newNode.data = 9\n",
    "head2.next.next = newNode \n",
    "newNode = Node() \n",
    "newNode.data = 15\n",
    "head1.next = newNode \n",
    "head2.next.next.next = newNode \n",
    "newNode = Node() \n",
    "newNode.data = 30\n",
    "head1.next.next = newNode \n",
    "head1.next.next.next = None\n",
    "print( getIntersectionNode(head1, head2)) \n",
    "\n"
   ]
  },
  {
   "cell_type": "markdown",
   "metadata": {},
   "source": [
    "# candy crush"
   ]
  },
  {
   "cell_type": "code",
   "execution_count": 1,
   "metadata": {},
   "outputs": [],
   "source": [
    "# arr = [1,1, 3, 3, 3, 2, 2, 2,  1]\n",
    "class Solution:\n",
    "    def removeDuplicates(self, s: str, k: int) -> str:\n",
    "        \n",
    "        stack = []\n",
    "        for i in range(len(s)):\n",
    "            if stack and stack[-1][0] == s[i]:\n",
    "                stack[-1][1] += 1\n",
    "                if stack[-1][1] >=k:\n",
    "                    stack.pop()\n",
    "            else:\n",
    "                stack.append([s[i], 1])\n",
    "                \n",
    "        res= ''\n",
    "        for item in stack:\n",
    "            res += str(item[0]* item[1])\n",
    "        return res\n",
    "    "
   ]
  },
  {
   "cell_type": "markdown",
   "metadata": {},
   "source": [
    "# fisher yates"
   ]
  },
  {
   "cell_type": "code",
   "execution_count": 6,
   "metadata": {},
   "outputs": [
    {
     "name": "stdout",
     "output_type": "stream",
     "text": [
      "[3, 2, 5, 1, 4]\n"
     ]
    }
   ],
   "source": [
    "# intuition : left unshuffled right gets shuffled everytime. \n",
    "import random\n",
    "arr = [1,2,3,4,5]\n",
    "def shuffle(array):\n",
    "    last_idx = len(array)-1\n",
    "    \n",
    "    while last_idx>0:\n",
    "        \n",
    "        random_idx = random.randint(0,last_idx)\n",
    "        array[random_idx], array[last_idx] = array[last_idx], array[random_idx]\n",
    "        last_idx-=1\n",
    "    print(array)\n",
    "shuffle(arr)"
   ]
  },
  {
   "cell_type": "markdown",
   "metadata": {},
   "source": [
    "#  House Robber "
   ]
  },
  {
   "cell_type": "code",
   "execution_count": 94,
   "metadata": {},
   "outputs": [
    {
     "name": "stdout",
     "output_type": "stream",
     "text": [
      "[2, 7, -inf, -inf, -inf]\n",
      "-inf 2\n",
      "-inf 7\n",
      "-inf 11\n",
      "[2, 7, 11, 11, 12]\n",
      "12\n"
     ]
    }
   ],
   "source": [
    "a = [2,7,9,3,1]\n",
    "currentMax = 0,\n",
    "OverAllMax = 0\n",
    "\n",
    "def houserobber(a):\n",
    "    \n",
    "    if len(a) == 0:\n",
    "        return a[0]\n",
    "    \n",
    "    if len(a) == 2:\n",
    "        return max(a[0], a[1])\n",
    "    \n",
    "    dp = [-float('inf')]*len(a)\n",
    "    dp[0] = a[0]\n",
    "    dp[1] = max(a[0], a[1])\n",
    "    for i in range(2, len(a)):\n",
    "        dp[i]  = max((a[i]+ dp[i-2]), dp[i-1])\n",
    "        \n",
    "    print(dp)\n",
    "    print(dp[-1])\n",
    "\n",
    "houserobber(a)"
   ]
  },
  {
   "cell_type": "markdown",
   "metadata": {},
   "source": [
    "# Convert n1 to n2 with min operations ( *2 and -1)"
   ]
  },
  {
   "cell_type": "code",
   "execution_count": 1,
   "metadata": {},
   "outputs": [
    {
     "name": "stdout",
     "output_type": "stream",
     "text": [
      "2\n"
     ]
    }
   ],
   "source": [
    "# import queue\n",
    "class node:\n",
    "    def __init__(self, val, level):\n",
    "        self.val = val\n",
    "        self.level = level\n",
    "\n",
    "def minOperations(x,y):\n",
    "    \n",
    "    visited = set()\n",
    "    q  = []\n",
    "    n  = node(x,0)\n",
    "    q.append(n)\n",
    "    \n",
    "    while len(q) >0:\n",
    "        \n",
    "        t = q.pop()\n",
    "        \n",
    "        if t.val == y:\n",
    "            return t.level\n",
    "        \n",
    "        visited.add(t.val)\n",
    "        \n",
    "        if t.val*2 == y or t.val -1 == y:\n",
    "            return t.level+1\n",
    "        \n",
    "        if t.val *2  not in visited:\n",
    "            n.val = t.val*2\n",
    "            n.level = t.level+1       \n",
    "            q.append(n)\n",
    "        if  t.val >=0 and t.val -1 not in visited:\n",
    "            n.val = t.val-1\n",
    "            n.level = t.level + 1\n",
    "            q.append(n)\n",
    "            \n",
    "        \n",
    "if __name__ == '__main__': \n",
    "  \n",
    "    x = 4 \n",
    "    y = 7\n",
    "    print(minOperations(x, y))"
   ]
  },
  {
   "cell_type": "markdown",
   "metadata": {},
   "source": [
    "# recurring seq"
   ]
  },
  {
   "cell_type": "code",
   "execution_count": 12,
   "metadata": {},
   "outputs": [
    {
     "name": "stdout",
     "output_type": "stream",
     "text": [
      "4\n",
      "4\n",
      "{1: 0, 4: 1}\n",
      "16 4\n"
     ]
    },
    {
     "data": {
      "text/plain": [
       "'6'"
      ]
     },
     "execution_count": 12,
     "metadata": {},
     "output_type": "execute_result"
    }
   ],
   "source": [
    "def recurringSeq(num, den):\n",
    "    h = {}\n",
    "    res = ''\n",
    "    rem = num% den\n",
    "    \n",
    "    while rem != 0 and rem not in h:\n",
    "        \n",
    "        h[rem] = len(res)\n",
    "        \n",
    "        rem = rem*10\n",
    "        rem_part = rem // den\n",
    "        res = res+ str(rem_part)\n",
    "        \n",
    "        rem = rem % den\n",
    "        print(rem)\n",
    "        \n",
    "    print(h)\n",
    "    print(res, rem)\n",
    "    if rem == 0:\n",
    "        return \"\"\n",
    "    else:\n",
    "        return res[h[rem]:]\n",
    "    \n",
    "recurringSeq(1,6)"
   ]
  },
  {
   "cell_type": "code",
   "execution_count": 13,
   "metadata": {},
   "outputs": [],
   "source": [
    "# quick sort\n",
    "# best Onlogn | space Ologn \n",
    "def quickSort(array):\n",
    "    quickSortHelper(array, 0, len(arr)-1)\n",
    "    return array\n",
    "\n",
    "def quickSortHelper(array, startIdx, endIdx):\n",
    "    \n",
    "    if startIdx>= endIdx:\n",
    "        return\n",
    "    \n",
    "    pivotIdx = startIdx\n",
    "    leftIdx  = startIdx+1\n",
    "    rightIdx  = endIdx\n",
    "    while leftIdx <= rightIdx:\n",
    "    \n",
    "        if array[leftIdx] > array[pivotIdx] and array[rightIdx] < array[pivotIdx]:\n",
    "            swap(array,leftIdx, rightIdx)\n",
    "\n",
    "        if array[leftIdx] <= array[pivotIdx]:\n",
    "            leftIdx+=1\n",
    "        if array[rightIdx] >= array[pivotIdx]:\n",
    "            rightIdx -=1\n",
    "    \n",
    "    swap(array, pivotIdx, rightIdx)\n",
    "    getMinSubArray = (rightIdx-1)-startIdx < endIdx-(rightIdx+1) \n",
    "    if getMinSubArray:\n",
    "        quickSortHelper(array, startIdx, rightIdx-1)\n",
    "        quickSortHelper(array, rightIdx+1, endIdx)\n",
    "    else:\n",
    "        quickSortHelper(array, rightIdx+1, endIdx)\n",
    "        quickSortHelper(array, startIdx, rightIdx-1)\n",
    "\n",
    "    \n",
    "def swap(array, x, y):\n",
    "    array[x] , array[y] = array[y], array[x]\n",
    "        \n",
    "     \n",
    "'''\n",
    "'''array = [1,2,4,5,6]\n",
    "#                 r  l\n",
    "\n",
    "# thereforre  r-1 - start\n",
    "# end index = end -r+1\n",
    "\n",
    "    \n",
    "\n",
    "    "
   ]
  },
  {
   "cell_type": "markdown",
   "metadata": {},
   "source": [
    "# merge sort "
   ]
  },
  {
   "cell_type": "code",
   "execution_count": 14,
   "metadata": {},
   "outputs": [],
   "source": [
    "#  nlogn time nlogn space \n",
    "#  log n levels(divide in half) and On time for each merge sort call \n",
    "#  space  (nlogn)\n",
    "def mergeSort(array):\n",
    "\n",
    "    if len(array)  == 1:\n",
    "        return array\n",
    "    middle = len(array) // 2\n",
    "    leftHalf = array[:middle]\n",
    "    rightHalf = array[middle:]\n",
    "    return mergeArraysHelper(mergeSort(leftHalf) , mergeSort(rightHalf))\n",
    "\n",
    "def mergeArraysHelper(leftHalf, rightHalf):\n",
    "    \n",
    "    sortedArray = [None]* (len(leftHalf) + len(rightHalf))\n",
    "    k = i= j = 0\n",
    "    \n",
    "    while i < len(leftHalf) and j < len(rightHalf):\n",
    "        if leftHalf[i] < rightHalf[j]:\n",
    "            sortedArray[k] = leftHalf[i]\n",
    "            i +=1\n",
    "        else:\n",
    "            sortedArray[k] = rightHalf[j]\n",
    "            j +=1\n",
    "        k +=1\n",
    "    while i< len(leftHalf):\n",
    "        sortedArray[k] = leftHalf[i]\n",
    "        i+=1\n",
    "        k += 1\n",
    "    while j< len(rightHalf):\n",
    "        sortedArray[k] = rightHalf[j]\n",
    "        j+=1\n",
    "        k +=1\n",
    "        \n",
    "    return sortedArray\n",
    "        \n",
    "        "
   ]
  },
  {
   "cell_type": "markdown",
   "metadata": {},
   "source": [
    "# level order + left view of binary tree "
   ]
  },
  {
   "cell_type": "code",
   "execution_count": 28,
   "metadata": {},
   "outputs": [
    {
     "name": "stdout",
     "output_type": "stream",
     "text": [
      "[0] 0 1\n",
      "[12]\n",
      "j [1] 1\n",
      "[1] 1 2\n",
      "[12, 10]\n",
      "j [2] 2\n",
      "j [2] 2\n",
      "[2] 2 3\n",
      "[12, 10, 25]\n",
      "j [3] 3\n",
      "j [3] 3\n"
     ]
    }
   ],
   "source": [
    "class Node:\n",
    "    def __init__(self, value):\n",
    "        self.value = value \n",
    "        self.left = None \n",
    "        self.right = None\n",
    "def leftViewHelper(root, level, maxlevel, lnodes):\n",
    "    \n",
    "    if root is None:\n",
    "        return \n",
    "    \n",
    "    if maxlevel[0] < level:\n",
    "        print(maxlevel,maxlevel[0], level)\n",
    "        lnodes.append(root.value)\n",
    "        print(lnodes)\n",
    "        maxlevel[0]  = level\n",
    "        \n",
    "    print(\"j\",maxlevel, level)\n",
    "    leftViewHelper(root.left, level+1, maxlevel,lnodes)\n",
    "    leftViewHelper(root.right , level+1, maxlevel,lnodes)\n",
    "    \n",
    "def leftView(root):\n",
    "    maxlevel = [0]\n",
    "    lnodes = []\n",
    "    leftViewHelper(root, 1, maxlevel, lnodes)\n",
    "    \n",
    "    \n",
    "root = Node(12) \n",
    "root.left = Node(10) \n",
    "root.right = Node(20) \n",
    "root.right.left = Node(25) \n",
    "root.right.right = Node(40) \n",
    "  \n",
    "leftView(root) \n"
   ]
  },
  {
   "cell_type": "code",
   "execution_count": null,
   "metadata": {},
   "outputs": [],
   "source": [
    "def leftView():\n",
    "    \n",
    "    level = 0\n",
    "    maxLevel = [0]\n",
    "    \n",
    "    leftViewHelper(tree, maxLevel, level)\n",
    "    \n",
    "def leftViewHelper(tree, maxLevel, level):\n",
    "    \n",
    "    if max\n",
    "    \n"
   ]
  },
  {
   "cell_type": "markdown",
   "metadata": {},
   "source": [
    "# last stone weight"
   ]
  },
  {
   "cell_type": "code",
   "execution_count": 1,
   "metadata": {},
   "outputs": [],
   "source": [
    "import heapq\n",
    "def laststonewt(array):\n",
    "    min_heap = [-i for i in array]\n",
    "    heapq.heapify(min_heap)\n",
    "    while len(min_heap) > 1:\n",
    "        weight1 = abs(heapq.heappop(min_heap))\n",
    "        weight2 = abs(heapq.heappop(min_heap))\n",
    "        if weight1 != weight2:\n",
    "            rem_weight = -(abs(weight1-weight2))\n",
    "            heapq.heappush(min_heap, rem_weight)\n",
    "    if len(min_heap) ==1:\n",
    "        return abs(min_heap[0])\n",
    "    else:\n",
    "        return 0\n",
    "        "
   ]
  },
  {
   "cell_type": "markdown",
   "metadata": {},
   "source": [
    "# find largest number"
   ]
  },
  {
   "cell_type": "code",
   "execution_count": 11,
   "metadata": {},
   "outputs": [],
   "source": []
  },
  {
   "cell_type": "code",
   "execution_count": 13,
   "metadata": {},
   "outputs": [
    {
     "name": "stdout",
     "output_type": "stream",
     "text": [
      "54546 54654 -1\n",
      "546548 548546 -1\n",
      "54860 60548 -1\n"
     ]
    },
    {
     "data": {
      "text/plain": [
       "[60, 548, 546, 54]"
      ]
     },
     "execution_count": 13,
     "metadata": {},
     "output_type": "execute_result"
    }
   ],
   "source": [
    "a = [54, 546, 548, 60]\n",
    "import functools\n",
    "\n",
    "def comparator(a, b):\n",
    "    ab = str(a) + str(b)\n",
    "    ba = str(b) + str(a)\n",
    "\n",
    "    print(int(ba) ,int(ab),(int(ba) > int(ab)) -\n",
    "             (int(ba) < int(ab)))\n",
    "    return ((int(ba) > int(ab)) -\n",
    "             (int(ba) < int(ab)))\n",
    "b = sorted(a, key=functools.cmp_to_key(comparator))\n",
    "b"
   ]
  },
  {
   "cell_type": "markdown",
   "metadata": {},
   "source": [
    "# rotate array"
   ]
  },
  {
   "cell_type": "code",
   "execution_count": 96,
   "metadata": {},
   "outputs": [
    {
     "name": "stdout",
     "output_type": "stream",
     "text": [
      "[[], [], []]\n",
      "[[3, 6, 9], [2, 5, 8], [1, 4, 7]]\n"
     ]
    }
   ],
   "source": [
    "a = [[1,2,3],\n",
    "     [4,5,6],\n",
    "     [7,8,9]]\n",
    "a = [[1,2,3],\n",
    "     [4,5,6],\n",
    "     [7,8,9]]\n",
    "def rotate(a):\n",
    "    l = len(a)\n",
    "    clockw = [[] for i in range(l)]\n",
    "    print(clockw)\n",
    "    for i in range(l):\n",
    "        for j in range(l):\n",
    "            \n",
    "#             clockw[i].insert(0,a[j].pop(0))  ( clockwise)\n",
    "            clockw[i].append(a[j].pop(-1))      # (aniclockwise)\n",
    "    print(clockw)\n",
    "\n",
    "\n",
    "rotate(a)"
   ]
  },
  {
   "cell_type": "code",
   "execution_count": 97,
   "metadata": {},
   "outputs": [
    {
     "name": "stdout",
     "output_type": "stream",
     "text": [
      "[[], [], []]\n",
      "[[7, 4, 1], [8, 5, 2], [9, 6, 3]]\n"
     ]
    }
   ],
   "source": [
    "# a = [[1,2,3,10],\n",
    "#      [4,5,6,11],\n",
    "#      [7,8,9,12]]\n",
    "a = [[1,2,3],\n",
    "     [4,5,6],\n",
    "     [7,8,9]]\n",
    "def rotate(a):\n",
    "    lc = len(a[0])\n",
    "    lr = len(a)\n",
    "    clockw = [[] for i in range(lc)]\n",
    "    print(clockw)\n",
    "    for i in range(lr):\n",
    "        for j in range(lc):\n",
    "            \n",
    "            clockw[i].insert(0,a[j].pop(0))  #( clockwise)\n",
    "#             clockw[i].append(a[j].pop(-1))      # (anticlockwise)\n",
    "    print(clockw)\n",
    "\n",
    "\n",
    "rotate(a)"
   ]
  },
  {
   "cell_type": "code",
   "execution_count": 52,
   "metadata": {},
   "outputs": [],
   "source": [
    "# %%timeit\n",
    "from threading import Thread\n",
    "import os\n",
    "\n",
    "def cal_sq():\n",
    "    for i in range(1,1000):\n",
    "        return i^2\n",
    "    \n",
    "threads = []\n",
    "\n",
    "for i in range(os.cpu_count()):\n",
    "    print('registering thred', i)\n",
    "    threads.append(Thread(target = cal_sq))\n",
    "    \n",
    "for thread in threads:\n",
    "    thread.start()\n",
    "    \n",
    "for thread in threads:\n",
    "    thread.join()\n"
   ]
  },
  {
   "cell_type": "code",
   "execution_count": 31,
   "metadata": {},
   "outputs": [],
   "source": [
    "# %%timeit\n",
    "from multiprocessing import Process\n",
    "import os\n",
    "\n",
    "def cal_sq():\n",
    "    for i in range(1,1000):\n",
    "        return i^2\n",
    "    \n",
    "processes = []\n",
    "\n",
    "for i in range(os.cpu_count()):\n",
    "    print(\"i\", i)\n",
    "    processes.append(Process(target=cal_sq))\n",
    "    \n",
    "for process in processes:\n",
    "    process.start()\n",
    "    \n",
    "for process in processes:\n",
    "    process.join()\n"
   ]
  },
  {
   "cell_type": "markdown",
   "metadata": {},
   "source": [
    "# Check if tree is balanced"
   ]
  },
  {
   "cell_type": "code",
   "execution_count": null,
   "metadata": {},
   "outputs": [],
   "source": [
    "class Solution(object):\n",
    "    def maxDepth(self, root):\n",
    "        \"\"\"\n",
    "        :type root: TreeNode\n",
    "        :rtype: int\n",
    "        \"\"\"\n",
    "        if (root == None):\n",
    "            return 0\n",
    "        else:\n",
    "            left = self.maxDepth(root.left)\n",
    "            right = self.maxDepth(root.right)\n",
    "            return (max(left,right) + 1)\n",
    "        \n",
    "    def isBalanced(self, root):\n",
    "        \"\"\"\n",
    "        :type root: TreeNode\n",
    "        :rtype: bool\n",
    "        \"\"\"\n",
    "        if (root == None):\n",
    "            return True\n",
    "        else:\n",
    "            return(self.isBalanced(root.left) and self.isBalanced(root.right) and abs(self.maxDepth(root.left)-self.maxDepth(root.right)) <=1)"
   ]
  },
  {
   "cell_type": "code",
   "execution_count": null,
   "metadata": {},
   "outputs": [],
   "source": []
  },
  {
   "cell_type": "markdown",
   "metadata": {},
   "source": [
    "# sort a stack using recursion"
   ]
  },
  {
   "cell_type": "code",
   "execution_count": 73,
   "metadata": {},
   "outputs": [
    {
     "name": "stdout",
     "output_type": "stream",
     "text": [
      "[5, 2, 1]\n"
     ]
    }
   ],
   "source": [
    "def sort(s):\n",
    "    # Code here\n",
    "    \n",
    "    if len(s) == 0:\n",
    "        return\n",
    "    \n",
    "    temp = s.pop()\n",
    "    sort(s)\n",
    "    insertSortedElements(s, temp)\n",
    "\n",
    "def insertSortedElements(s, element):\n",
    "    if len(s) == 0 or element < s[-1]:\n",
    "        s.append(element)\n",
    "        \n",
    "    else:\n",
    "        temp = s.pop()\n",
    "        insertSortedElements(s, element)\n",
    "        s.append(temp)\n",
    "        print(s)\n",
    "a = sort([5,1,2])"
   ]
  },
  {
   "cell_type": "markdown",
   "metadata": {},
   "source": [
    "## Minimum index to split array into subarrays with co-prime products"
   ]
  },
  {
   "cell_type": "code",
   "execution_count": 70,
   "metadata": {},
   "outputs": [
    {
     "name": "stdout",
     "output_type": "stream",
     "text": [
      "[2, 6, 24, 120]\n",
      "[120, 60, 20, 5]\n",
      "2 60\n",
      "6 20\n",
      "24 5\n",
      "2\n"
     ]
    }
   ],
   "source": [
    "def GCD(a, b):\n",
    "    if (b == 0):\n",
    "        return a\n",
    "\n",
    "    return GCD(b, a % b)\n",
    "\n",
    "def findPartition(nums, N):\n",
    "\n",
    "    prefix=[0] * N\n",
    "    suffix=[0] * N\n",
    "\n",
    "    prefix[0] = nums[0]\n",
    "\n",
    "    for i in range(1, N):\n",
    "        prefix[i] = (prefix[i - 1] *\n",
    "                    nums[i])\n",
    "\n",
    "    suffix[N - 1] = nums[N - 1]\n",
    "    for i in range(N - 2, -1, -1):\n",
    "        suffix[i] = (suffix[i + 1] *\n",
    "                    nums[i])\n",
    "    print(prefix)\n",
    "    print(suffix)\n",
    "    for k in range(N - 1):\n",
    "        print(prefix[k], suffix[k+1])\n",
    "        if (GCD(prefix[k],\n",
    "                suffix[k + 1]) == 1):\n",
    "            return k\n",
    "\n",
    "    return -1\n",
    "\n",
    "if __name__ == '__main__':\n",
    "\n",
    "    arr = [2, 3, 4, 5]\n",
    "    N = len(arr)\n",
    "\n",
    "    # Function call\n",
    "    print(findPartition(arr, N))\n"
   ]
  },
  {
   "cell_type": "markdown",
   "metadata": {},
   "source": [
    "# min platforms needed"
   ]
  },
  {
   "cell_type": "code",
   "execution_count": 11,
   "metadata": {},
   "outputs": [
    {
     "name": "stdout",
     "output_type": "stream",
     "text": [
      "[900, 940, 950, 1100, 1500, 1800]\n",
      "[910, 1120, 1130, 1200, 1900, 2000]\n",
      "3\n"
     ]
    }
   ],
   "source": [
    "arr= [ 900, 940, 950, 1100, 1800, 1500 ]\n",
    "dep= [ 910, 1200, 1120, 1130, 1900, 2000] \n",
    "def min_platforms(arr, dep):\n",
    "    arr = sorted(arr)\n",
    "    dep = sorted(dep)\n",
    "    print(arr)\n",
    "    print(dep)\n",
    "    \n",
    "    min_platforms = 1\n",
    "    needed = 1\n",
    "    i= 1\n",
    "    j = 0\n",
    "    while i < len(arr) and j < len(dep):\n",
    "        if arr[i] >= dep[j]:\n",
    "            min_platforms -=1\n",
    "            j+=1\n",
    "        else:\n",
    "            min_platforms +=1\n",
    "            i += 1\n",
    "        if needed < min_platforms:\n",
    "            needed = min_platforms\n",
    "\n",
    "    print(needed)\n",
    "\n",
    "min_platforms(arr, dep)\n"
   ]
  },
  {
   "cell_type": "code",
   "execution_count": 13,
   "metadata": {},
   "outputs": [
    {
     "name": "stdout",
     "output_type": "stream",
     "text": [
      "Maximum sum path is 122\n"
     ]
    }
   ],
   "source": [
    "\n",
    "def maxPathSum(ar1, ar2, m, n):\n",
    " \n",
    "    # initialize indexes for ar1[] and ar2[]\n",
    "    i, j = 0, 0\n",
    "    result, sum1, sum2 = 0, 0, 0\n",
    "\n",
    "    while (i < m and j < n):\n",
    "\n",
    "        if ar1[i] < ar2[j]:\n",
    "            sum1 += ar1[i]\n",
    "            i += 1\n",
    "\n",
    "        elif ar1[i] > ar2[j]:\n",
    "            sum2 += ar2[j]\n",
    "            j += 1\n",
    " \n",
    "        else:   # we reached a common point\n",
    "\n",
    "            result += max(sum1, sum2)\n",
    "\n",
    "            sum1, sum2 = 0, 0\n",
    "\n",
    "            temp = i\n",
    "            while i < m and ar1[i] == ar2[j]:\n",
    "                sum1 += ar1[i];\n",
    "                i += 1\n",
    "            while j<n and ar1[temp] == ar2[j]:\n",
    "                sum2 += ar2[j]\n",
    "                j += 1\n",
    "            result += max(sum1,sum2)\n",
    "            sum1 = sum2 = 0;           \n",
    " \n",
    "    while i < m:\n",
    "        sum1 += ar1[i]\n",
    "        i += 1\n",
    "    while j < n:\n",
    "        sum2 += ar2[j]\n",
    "        j += 1\n",
    "     \n",
    "    result += max(sum1, sum2)\n",
    " \n",
    "    return result\n",
    "\n",
    "ar1 = [2, 3, 7, 10, 12, 15, 30, 34]\n",
    "ar2 = [1, 5, 7, 8, 10, 15, 16, 19]\n",
    "m = len(ar1)\n",
    "n = len(ar2)\n",
    "print (\"Maximum sum path is\", maxPathSum(ar1, ar2, m, n))\n",
    " \n",
    "\n"
   ]
  },
  {
   "cell_type": "markdown",
   "metadata": {},
   "source": [
    "# LRU cache "
   ]
  },
  {
   "cell_type": "code",
   "execution_count": null,
   "metadata": {},
   "outputs": [],
   "source": [
    "# Do not edit the class below except for the insertKeyValuePair,\n",
    "# getValueFromKey, and getMostRecentKey methods. Feel free\n",
    "# to add new properties and methods to the class.\n",
    "class LRUCache:\n",
    "    def __init__(self, maxSize):\n",
    "        self.maxSize = maxSize or 1\n",
    "        self.cache = {}\n",
    "        self.currentSize = 0\n",
    "        self.mostRecentValues = DoublyLinkedList()\n",
    "\n",
    "\n",
    "    def insertKeyValuePair(self, key, value):\n",
    "        # Write your code here.\n",
    "        # 1. chache size full ( remove tail,)\n",
    "        # 2. if item not in list and current size < maxSize\n",
    "        # 3. if item in list update, set head to new value\n",
    "        if key not in self.cache:\n",
    "            if self.currentSize < self.maxSize:\n",
    "                self.currentSize += 1\n",
    "            elif self.currentSize == self.maxSize:\n",
    "                self.evictLeastRecent()\n",
    "            self.cache[key]  = DoublyLinkedListNode(key, value)\n",
    "        else:\n",
    "            self.replacekey(key, value)\n",
    "        self.updateMostRecent(self.cache[key])\n",
    "\n",
    "    def evictLeastRecent(self):\n",
    "        key_to_remove = self.mostRecentValues.tail.key \n",
    "        self.mostRecentValues.removeTail()\n",
    "        del self.cache[key_to_remove]\n",
    "\n",
    "    def updateMostRecent(self, node):\n",
    "        self.mostRecentValues.setHead(node)\n",
    "\n",
    "    def replacekey(self,key, value):\n",
    "        if key not in self.cache:\n",
    "            raise Exception(\"Key not in cache\")\n",
    "        self.cache[key].value  = value\n",
    "\n",
    "\n",
    "    def getValueFromKey(self, key):\n",
    "        # Write your code here.\n",
    "        # 1. if key is present , return value, else , return None\n",
    "        if key in self.cache:\n",
    "            self.updateMostRecent(self.cache[key])\n",
    "            return self.cache[key].value\n",
    "        else:\n",
    "            return None\n",
    "\n",
    "    def getMostRecentKey(self):\n",
    "        # Write your code here.\n",
    "        # return head  if none return None\n",
    "        if self.mostRecentValues.head is None:\n",
    "            return None\n",
    "        return self.mostRecentValues.head.key\n",
    "\n",
    "\n",
    "    class DoublyLinkedList:\n",
    "\n",
    "    def __init__(self):\n",
    "        self.head = None\n",
    "        self.tail = None\n",
    "\n",
    "    def setHead(self, node):\n",
    "\n",
    "        if self.head == node:\n",
    "            return\n",
    "        # no node , one node or a list\n",
    "        elif self.head is None:\n",
    "            self.head = node\n",
    "            self.tail = node\n",
    "\n",
    "        elif self.head == self.tail:\n",
    "            self.tail.prev = node\n",
    "            self.head = node\n",
    "            self.head.next = self.tail\n",
    "\n",
    "        else:\n",
    "\n",
    "            if self.tail == node:\n",
    "                self.removeTail()\n",
    "\n",
    "            node.removeBindings()\n",
    "            self.head.prev = node\n",
    "            node.next  = self.head\n",
    "            self.head  = node\n",
    "\n",
    "    def removeTail(self):\n",
    "\n",
    "        if self.tail is None:\n",
    "            return \n",
    "        elif self.head == self.tail:\n",
    "            self.head = None\n",
    "            self.tail = None\n",
    "        else:\n",
    "            self.tail = self.tail.prev \n",
    "            self.tail.next = None\t\n",
    "\n",
    "    class DoublyLinkedListNode:\n",
    "\n",
    "    def __init__(self, key, value):\n",
    "        self.key = key\n",
    "        self.value = value\n",
    "        self.prev = None\n",
    "        self.next = None\n",
    "\n",
    "    def removeBindings(self):\n",
    "\n",
    "        if self.prev is not None:\n",
    "            self.prev.next = self.next\n",
    "        if self.next is not None:\n",
    "            self.next.prev = self.prev\n",
    "        self.next = None\n",
    "        self.prev = None\n"
   ]
  },
  {
   "cell_type": "markdown",
   "metadata": {},
   "source": [
    "# all permutations "
   ]
  },
  {
   "cell_type": "code",
   "execution_count": 4,
   "metadata": {},
   "outputs": [],
   "source": [
    "# O (n*n!) space and time\n",
    "# scpae all have length n and n! combinations , same in space \n",
    "# n leaves and N! calls to helper method \n",
    "def getPermutations(array):\n",
    "    # Write your code here.\n",
    "    permutations = []\n",
    "    permutationsHelper(0, array, permutations)\n",
    "    return permutations\n",
    "\n",
    "    def permutationsHelper(i, array, permutations):\n",
    "\n",
    "        if i == len(array) -1:\n",
    "            permutations.append(array[:])\n",
    "\n",
    "        else:\n",
    "            for j in range(i, len(array)):\n",
    "                swap(array, i, j)\n",
    "                permutationsHelper(i+1, array, permutations)\n",
    "                swap(array, i, j)\n",
    "\n",
    "    def swap(array, i, j):\n",
    "        array[i] , array[j] = array[j], array[i]\n"
   ]
  },
  {
   "cell_type": "markdown",
   "metadata": {},
   "source": [
    "# levinshtein distance"
   ]
  },
  {
   "cell_type": "code",
   "execution_count": 23,
   "metadata": {},
   "outputs": [
    {
     "data": {
      "text/plain": [
       "2"
      ]
     },
     "execution_count": 23,
     "metadata": {},
     "output_type": "execute_result"
    }
   ],
   "source": [
    "def levenshteinDistance(str1, str2):\n",
    "    # Write your code here.\n",
    "    distanceMatrix = [[0 for x in range(len(str2)+1)] for j in range(len(str1)+1)]\n",
    "    for i in range(len(str1)+1):\n",
    "        distanceMatrix[i][0] = i\n",
    "    for i in range(len(str2)+1):\n",
    "        distanceMatrix[0][i] = i\n",
    "\n",
    "    for i in range(1,len(str1)+1):\n",
    "        for j in range(1, len(str2)+1):\n",
    "            if str1[i-1] == str2[j-1]:\n",
    "                distanceMatrix[i][j]=distanceMatrix[i-1][j-1]\n",
    "            else:\n",
    "                distanceMatrix[i][j] = 1 + min(distanceMatrix[i-1][j-1], distanceMatrix[i-1][j], distanceMatrix[i][j-1])\n",
    "\n",
    "    return distanceMatrix[-1][-1]\n",
    "                \n",
    "    print(distanceMatrix)\n",
    "                                      \n",
    "s1 = 'abc'\n",
    "s2 = 'yabd'\n",
    "\n",
    "levenshteinDistance(s1, s2)\n"
   ]
  },
  {
   "cell_type": "markdown",
   "metadata": {},
   "source": [
    "# powerset"
   ]
  },
  {
   "cell_type": "code",
   "execution_count": 29,
   "metadata": {},
   "outputs": [
    {
     "data": {
      "text/plain": [
       "[[], [1], [2], [1, 2], [3], [1, 3], [2, 3], [1, 2, 3]]"
      ]
     },
     "execution_count": 29,
     "metadata": {},
     "output_type": "execute_result"
    }
   ],
   "source": [
    "\n",
    "def powerset(array):\n",
    "    # Write your code here.\n",
    "    subsets = [[]]\n",
    "    for ele in array:\n",
    "        for i in range(len(subsets)):\n",
    "            currentSubset = subsets[i]\n",
    "            subsets.append(currentSubset + [ele])\n",
    "\n",
    "    return subsets\n",
    "\n",
    "powerset([1,2,3])"
   ]
  },
  {
   "cell_type": "markdown",
   "metadata": {},
   "source": [
    "# spiral"
   ]
  },
  {
   "cell_type": "code",
   "execution_count": 50,
   "metadata": {},
   "outputs": [
    {
     "name": "stdout",
     "output_type": "stream",
     "text": [
      "1 2 3 4 A\n",
      "5 6 7 B\n",
      "8 9 C\n",
      "10 11 12 D\n",
      "13 14 A\n",
      "15 B\n",
      "C\n",
      "16 D\n",
      "[1, 2, 3, 4, 5, 6, 7, 8, 9, 10, 11, 12, 13, 14, 15, 16]\n"
     ]
    }
   ],
   "source": [
    "def spiralTraverse(array):\n",
    "    # Write your code here.\n",
    "    spiral = []\n",
    "    sr , sc  = 0, 0\n",
    "    er, ec  = len(array)-1, len(array[0])-1\n",
    "    \n",
    "    while sr <= er and sc <= ec:\n",
    "    \n",
    "        for i in range(sc, ec+1):\n",
    "            print(array[sr][i], end=\" \")\n",
    "            spiral.append(array[sr][i])\n",
    "        print(\"A\")\n",
    "        for i in range(sr+1, er+1):\n",
    "            print(array[i][ec], end=\" \")\n",
    "            spiral.append(array[i][ec])\n",
    "\n",
    "        print(\"B\")\n",
    "        for i in reversed(range(sc+1, ec)):\n",
    "            print(array[er][i], end=\" \")\n",
    "            \n",
    "            if sr == er:\n",
    "                break\n",
    "            spiral.append(array[er][i])\n",
    "\n",
    "        print(\"C\")\n",
    "        for i in reversed(range(sr+1,er+1)):\n",
    "            print(array[i][sc], end= \" \")\n",
    "            if sc == ec:\n",
    "                break\n",
    "            spiral.append(array[i][sc])\n",
    "\n",
    "        \n",
    "        print(\"D\")\n",
    "        sr += 1\n",
    "        sc += 1 \n",
    "        er -= 1\n",
    "        ec -= 1\n",
    "    print(spiral)\n",
    "\n",
    "arr = [[1, 2, 3, 4], [12, 13, 14, 5], [11, 16, 15, 6], [10, 9, 8, 7]]\n",
    "spiralTraverse(arr)"
   ]
  },
  {
   "cell_type": "markdown",
   "metadata": {},
   "source": [
    "# pivot in sorted and rotated array"
   ]
  },
  {
   "cell_type": "code",
   "execution_count": 64,
   "metadata": {},
   "outputs": [
    {
     "data": {
      "text/plain": [
       "8"
      ]
     },
     "execution_count": 64,
     "metadata": {},
     "output_type": "execute_result"
    }
   ],
   "source": [
    "a = [4,5,6,7,8,1,2]\n",
    "def pivot(a):\n",
    "    \n",
    "    start  = 0\n",
    "    end  = len(a) -1\n",
    "    \n",
    "    while start < end:\n",
    "        mid = (start+ end) // 2\n",
    "        if a[mid] > a[mid+1] and mid < end:\n",
    "            return a[mid]\n",
    "        \n",
    "        if a[mid] < a[mid-1]and mid > start:\n",
    "            return a[mid-1]\n",
    "        \n",
    "        if a[mid] <= a[start] :\n",
    "            end = mid-1\n",
    "            \n",
    "        if a[mid] >= a[end]:\n",
    "            start = mid+1\n",
    "      \n",
    "        \n",
    "pivot(a)\n",
    "            \n",
    "        "
   ]
  },
  {
   "cell_type": "markdown",
   "metadata": {},
   "source": [
    "# min ele in rotated sorted array"
   ]
  },
  {
   "cell_type": "code",
   "execution_count": null,
   "metadata": {},
   "outputs": [],
   "source": [
    "class Solution:\n",
    "    def findMin(self, num: List[int]) -> int:\n",
    "        \n",
    "        \n",
    "        first, last = 0, len(num) - 1\n",
    "        while first < last:\n",
    "            midpoint = (first + last) // 2\n",
    "            if num[midpoint] > num[last]:\n",
    "                first = midpoint + 1\n",
    "            else:\n",
    "                last = midpoint\n",
    "                \n",
    "        return num[first]\n",
    "                \n",
    "        "
   ]
  }
 ],
 "metadata": {
  "celltoolbar": "Raw Cell Format",
  "kernelspec": {
   "display_name": "Python 3",
   "language": "python",
   "name": "python3"
  },
  "language_info": {
   "codemirror_mode": {
    "name": "ipython",
    "version": 3
   },
   "file_extension": ".py",
   "mimetype": "text/x-python",
   "name": "python",
   "nbconvert_exporter": "python",
   "pygments_lexer": "ipython3",
   "version": "3.7.0"
  }
 },
 "nbformat": 4,
 "nbformat_minor": 2
}
