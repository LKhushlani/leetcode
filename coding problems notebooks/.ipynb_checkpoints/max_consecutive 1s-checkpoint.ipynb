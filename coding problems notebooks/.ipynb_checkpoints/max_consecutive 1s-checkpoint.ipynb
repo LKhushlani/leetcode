{
 "cells": [
  {
   "cell_type": "code",
   "execution_count": 2,
   "metadata": {},
   "outputs": [
    {
     "name": "stdout",
     "output_type": "stream",
     "text": [
      "10\n"
     ]
    }
   ],
   "source": [
    "l = [1,1,1,1,0,0,1,1,1,1,1,1,1,1,1,1,0]\n",
    "# for i in range(len(l)):\n",
    "#     if a[]\n",
    "ans = 0\n",
    "count = 0\n",
    "for i in l:\n",
    "    if i == 1:\n",
    "        count +=1 \n",
    "    else:\n",
    "        ans = max(ans, count)\n",
    "        count = 0\n",
    "    ans = max(ans,count)\n",
    "\n",
    "print(ans)\n",
    "    \n",
    "    "
   ]
  },
  {
   "cell_type": "markdown",
   "metadata": {},
   "source": [
    "# Count even nos "
   ]
  },
  {
   "cell_type": "code",
   "execution_count": 10,
   "metadata": {},
   "outputs": [
    {
     "name": "stdout",
     "output_type": "stream",
     "text": [
      "2009\n",
      "1\n",
      "200\n",
      "2\n",
      "20\n",
      "3\n",
      "2\n",
      "4\n",
      "0\n",
      "5\n"
     ]
    }
   ],
   "source": [
    "n = 20092\n",
    "count1  = 0\n",
    "while n != 0:\n",
    "    n = n//10\n",
    "    print(n)\n",
    "    count1 +=1 \n",
    "    print(count1)\n"
   ]
  },
  {
   "cell_type": "code",
   "execution_count": 8,
   "metadata": {},
   "outputs": [
    {
     "data": {
      "text/plain": [
       "328"
      ]
     },
     "execution_count": 8,
     "metadata": {},
     "output_type": "execute_result"
    }
   ],
   "source": [
    "count1"
   ]
  },
  {
   "cell_type": "markdown",
   "metadata": {},
   "source": [
    "# squares of sorted array"
   ]
  },
  {
   "cell_type": "code",
   "execution_count": 16,
   "metadata": {},
   "outputs": [
    {
     "name": "stdout",
     "output_type": "stream",
     "text": [
      "[0, 1, 9, 16, 100]\n"
     ]
    }
   ],
   "source": [
    "nums= [-4,-1,0,3,10]\n",
    "\n",
    "start = 0\n",
    "output = []\n",
    "end = len(nums) -1 \n",
    "while start <= end:\n",
    "    if nums[start]**2 > nums[end]**2:\n",
    "        output = [nums[start]**2] + output \n",
    "        start += 1 \n",
    "    else:\n",
    "        output = [nums[end]**2] + output \n",
    "        end -= 1\n",
    "        \n",
    "print(output)\n",
    "        \n",
    "    "
   ]
  },
  {
   "cell_type": "markdown",
   "metadata": {},
   "source": [
    "# Duplicte 0s"
   ]
  },
  {
   "cell_type": "markdown",
   "metadata": {},
   "source": [
    "Algorithm: \n",
    "1st Pass\n",
    "1. find shifts \n",
    "2nd Pass \n",
    "2. Iterate again backwards and start shifting elements \n",
    "if 0 then add 0 \n",
    "else shift \n",
    "a[i] to = a[i+1] "
   ]
  },
  {
   "cell_type": "code",
   "execution_count": 31,
   "metadata": {},
   "outputs": [
    {
     "data": {
      "text/plain": [
       "[1, 0, 0, 2, 3, 0, 0, 4]"
      ]
     },
     "execution_count": 31,
     "metadata": {},
     "output_type": "execute_result"
    }
   ],
   "source": [
    "arr =  [1,0,2,3,0,4,5,0]\n",
    "l = len(li)\n",
    "shifts = 0\n",
    "for i in range(l):\n",
    "    if arr[i] == 0:\n",
    "        shifts += 1 \n",
    "\n",
    "for i in range((l-1), -1, -1):\n",
    "    if shifts+i <l:\n",
    "        arr[shifts +i] = arr[i]\n",
    "    if arr[i] == 0:\n",
    "        shifts -=1\n",
    "        if shifts +i < l:\n",
    "            arr[shifts+i] = 0\n",
    "arr"
   ]
  },
  {
   "cell_type": "markdown",
   "metadata": {},
   "source": [
    "# Merge Sorted Arrays"
   ]
  },
  {
   "cell_type": "code",
   "execution_count": 40,
   "metadata": {},
   "outputs": [],
   "source": [
    "nums1 = [1,2,3,0,0,0] \n",
    "nums2 = [2,5,6]\n",
    "m, n = 3,3 "
   ]
  },
  {
   "cell_type": "code",
   "execution_count": 41,
   "metadata": {},
   "outputs": [
    {
     "name": "stdout",
     "output_type": "stream",
     "text": [
      "E [1, 2, 3, 0, 0, 6]\n",
      "E [1, 2, 3, 0, 5, 6]\n",
      "H [1, 2, 3, 3, 5, 6]\n"
     ]
    },
    {
     "data": {
      "text/plain": [
       "[1, 2, 3, 3, 5, 6]"
      ]
     },
     "execution_count": 41,
     "metadata": {},
     "output_type": "execute_result"
    }
   ],
   "source": [
    "n1 = m-1\n",
    "n2 = n-1\n",
    "l = len(nums1)\n",
    "for i in range(l-1, -1, -1):\n",
    "    if nums1[n1] > nums2[n2] and n1 >=0:\n",
    "        nums1[i] = nums1[n1]\n",
    "        print(\"H\", nums1)\n",
    "        n1 -= 1 \n",
    "    if nums1[n1] < nums2[n2] and n2>=0: \n",
    "        nums1[i] = nums2[n2]\n",
    "        print(\"E\", nums1)\n",
    "        n2 -= 1 \n"
   ]
  },
  {
   "cell_type": "code",
   "execution_count": 1,
   "metadata": {},
   "outputs": [],
   "source": [
    "# nums1 = [1,2,3,0,0,0,0,0,0] \n",
    "# nums2 = [2,5,6,7,8,9]\n",
    "# m, n = 3,6\n",
    "\n",
    "nums1 = [2,0]\n",
    "m = 1\n",
    "nums2 = [1]\n",
    "n = 1\n"
   ]
  },
  {
   "cell_type": "code",
   "execution_count": null,
   "metadata": {},
   "outputs": [],
   "source": [
    "i1 = m-1\n",
    "i2 = n-1\n",
    "j = m+n-1\n",
    "while j>=0:\n",
    "    if i2 >=0 and nums1[i1] > nums2[i2]:\n",
    "        print(\"H1 j i1\", nums1, j, i1)\n",
    "        nums1[j], nums1[i1] = nums1[i1], nums1[j]\n",
    "        print(nums1)\n",
    "        i1 -=1\n",
    "        print(\"H, j, i1\", nums1, j, i1)\n",
    "    elif  i2>=0 and nums1[i1] <= nums2[i2] :\n",
    "        print(\"E1\", nums1)\n",
    "        nums1[j] = nums2[i2]\n",
    "        i2 -=1\n",
    "        print(\"E, i2\", nums1, i2)\n",
    "    j -=1\n",
    "if i2>-1:\n",
    "    print(\"in\")\n",
    "    for i in range(i2+1):\n",
    "        numsi[i] = nums2[i2]\n",
    "    \n",
    "    \n",
    "\n"
   ]
  },
  {
   "cell_type": "code",
   "execution_count": null,
   "metadata": {},
   "outputs": [],
   "source": [
    "nums1"
   ]
  },
  {
   "cell_type": "code",
   "execution_count": null,
   "metadata": {},
   "outputs": [],
   "source": [
    "import pdb"
   ]
  },
  {
   "cell_type": "code",
   "execution_count": null,
   "metadata": {},
   "outputs": [],
   "source": [
    "nums1 = [2,0] \n",
    "nums2 = [1]\n",
    "m, n = 1,1\n",
    "i1 = m - 1\n",
    "i2 = n - 1\n",
    "j = n + m - 1\n",
    "pdb.set_trace()\n",
    "while j >= 0:\n",
    "    if i2 > -1 and nums1[i1] > nums2[i2]:\n",
    "        nums1[j], nums1[i1] = nums1[i1], nums1[j]\n",
    "        if i1: i1 -= 1 \n",
    "    elif i2 >= 0 and (m == 0 or nums2[i2] >= nums1[i1]):\n",
    "        nums1[j] = nums2[i2]\n",
    "        i2 -= 1\n",
    "           \n",
    "    j -= 1\n",
    "\n",
    "if i2 > -1:\n",
    "    for i in range(i2 + 1):\n",
    "        nums1[i] = nums2[i]"
   ]
  },
  {
   "cell_type": "code",
   "execution_count": 85,
   "metadata": {},
   "outputs": [
    {
     "data": {
      "text/plain": [
       "[1]"
      ]
     },
     "execution_count": 85,
     "metadata": {},
     "output_type": "execute_result"
    }
   ],
   "source": [
    "nums1"
   ]
  },
  {
   "cell_type": "code",
   "execution_count": null,
   "metadata": {},
   "outputs": [],
   "source": []
  }
 ],
 "metadata": {
  "kernelspec": {
   "display_name": "Python 3",
   "language": "python",
   "name": "python3"
  },
  "language_info": {
   "codemirror_mode": {
    "name": "ipython",
    "version": 3
   },
   "file_extension": ".py",
   "mimetype": "text/x-python",
   "name": "python",
   "nbconvert_exporter": "python",
   "pygments_lexer": "ipython3",
   "version": "3.7.0"
  }
 },
 "nbformat": 4,
 "nbformat_minor": 2
}
