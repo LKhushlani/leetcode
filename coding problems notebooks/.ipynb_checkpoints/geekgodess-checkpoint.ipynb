{
 "cells": [
  {
   "cell_type": "code",
   "execution_count": 13,
   "metadata": {},
   "outputs": [],
   "source": [
    "def main(matrix):\n",
    "        \n",
    "    domain_count = max_count = 0\n",
    "    \n",
    "    def dfs(matrix, i,j, domain_count):\n",
    "        if i <0 or j<0 or i>=len(matrix) or j >= len(matrix[0]) or matrix[i][j] != 1:\n",
    "            return \n",
    "        matrix[i][j] = 'Visited'\n",
    "        domain_count += 1\n",
    "        dc1 = dfs(matrix, i ,j+1, domain_count)\n",
    "        dc2 = dfs(matrix, i-1 ,j, domain_count)\n",
    "        dc3 = dfs(matrix, i+1 ,j, domain_count)\n",
    "        dc4 = dfs(matrix, i,j-1, domain_count)\n",
    "        \n",
    "        print(\"i,j\", i,j,\":\",domain_count)\n",
    "        \n",
    "        return max(dc1, dc2, dc3, dc4)\n",
    "    for i in range(len(matrix)):\n",
    "#         import pdb;pdb.set_trace()\n",
    "        for j in range(len(matrix[0])):\n",
    "            \n",
    "            if matrix[i][j] == 1:\n",
    "                domain_count = dfs(matrix, i, j, domain_count)\n",
    "                print(domain_count, max_count)\n",
    "                if domain_count > max_count:\n",
    "                    max_count = domain_count\n",
    "                    \n",
    "        \n",
    "    return max_count"
   ]
  },
  {
   "cell_type": "code",
   "execution_count": 14,
   "metadata": {},
   "outputs": [
    {
     "name": "stdout",
     "output_type": "stream",
     "text": [
      "i,j 1 1 : 5\n"
     ]
    },
    {
     "ename": "TypeError",
     "evalue": "'>' not supported between instances of 'NoneType' and 'NoneType'",
     "output_type": "error",
     "traceback": [
      "\u001b[1;31m---------------------------------------------------------------------------\u001b[0m",
      "\u001b[1;31mTypeError\u001b[0m                                 Traceback (most recent call last)",
      "\u001b[1;32m<ipython-input-14-427171c5ae0f>\u001b[0m in \u001b[0;36m<module>\u001b[1;34m()\u001b[0m\n\u001b[1;32m----> 1\u001b[1;33m \u001b[0mmain\u001b[0m\u001b[1;33m(\u001b[0m\u001b[1;33m[\u001b[0m\u001b[1;33m[\u001b[0m\u001b[1;36m1\u001b[0m\u001b[1;33m,\u001b[0m \u001b[1;36m1\u001b[0m\u001b[1;33m,\u001b[0m \u001b[1;36m1\u001b[0m\u001b[1;33m,\u001b[0m \u001b[1;36m0\u001b[0m\u001b[1;33m,\u001b[0m \u001b[1;36m0\u001b[0m\u001b[1;33m]\u001b[0m\u001b[1;33m,\u001b[0m \u001b[1;33m[\u001b[0m\u001b[1;36m0\u001b[0m\u001b[1;33m,\u001b[0m \u001b[1;36m1\u001b[0m\u001b[1;33m,\u001b[0m \u001b[1;36m1\u001b[0m\u001b[1;33m,\u001b[0m \u001b[1;36m0\u001b[0m\u001b[1;33m,\u001b[0m \u001b[1;36m0\u001b[0m\u001b[1;33m]\u001b[0m\u001b[1;33m,\u001b[0m \u001b[1;33m[\u001b[0m \u001b[1;36m0\u001b[0m\u001b[1;33m,\u001b[0m \u001b[1;36m0\u001b[0m \u001b[1;33m,\u001b[0m\u001b[1;36m0\u001b[0m\u001b[1;33m,\u001b[0m \u001b[1;36m0\u001b[0m\u001b[1;33m,\u001b[0m \u001b[1;36m1\u001b[0m\u001b[1;33m]\u001b[0m\u001b[1;33m,\u001b[0m \u001b[1;33m[\u001b[0m\u001b[1;36m1\u001b[0m\u001b[1;33m,\u001b[0m \u001b[1;36m0\u001b[0m\u001b[1;33m,\u001b[0m \u001b[1;36m0\u001b[0m\u001b[1;33m,\u001b[0m \u001b[1;36m1\u001b[0m\u001b[1;33m,\u001b[0m \u001b[1;36m1\u001b[0m\u001b[1;33m]\u001b[0m\u001b[1;33m,\u001b[0m \u001b[1;33m[\u001b[0m\u001b[1;36m1\u001b[0m\u001b[1;33m,\u001b[0m \u001b[1;36m1\u001b[0m\u001b[1;33m,\u001b[0m \u001b[1;36m0\u001b[0m\u001b[1;33m,\u001b[0m \u001b[1;36m0\u001b[0m\u001b[1;33m,\u001b[0m \u001b[1;36m1\u001b[0m\u001b[1;33m]\u001b[0m\u001b[1;33m]\u001b[0m\u001b[1;33m)\u001b[0m\u001b[1;33m\u001b[0m\u001b[0m\n\u001b[0m",
      "\u001b[1;32m<ipython-input-13-11c9f8f86090>\u001b[0m in \u001b[0;36mmain\u001b[1;34m(matrix)\u001b[0m\n\u001b[0;32m     21\u001b[0m \u001b[1;33m\u001b[0m\u001b[0m\n\u001b[0;32m     22\u001b[0m             \u001b[1;32mif\u001b[0m \u001b[0mmatrix\u001b[0m\u001b[1;33m[\u001b[0m\u001b[0mi\u001b[0m\u001b[1;33m]\u001b[0m\u001b[1;33m[\u001b[0m\u001b[0mj\u001b[0m\u001b[1;33m]\u001b[0m \u001b[1;33m==\u001b[0m \u001b[1;36m1\u001b[0m\u001b[1;33m:\u001b[0m\u001b[1;33m\u001b[0m\u001b[0m\n\u001b[1;32m---> 23\u001b[1;33m                 \u001b[0mdomain_count\u001b[0m \u001b[1;33m=\u001b[0m \u001b[0mdfs\u001b[0m\u001b[1;33m(\u001b[0m\u001b[0mmatrix\u001b[0m\u001b[1;33m,\u001b[0m \u001b[0mi\u001b[0m\u001b[1;33m,\u001b[0m \u001b[0mj\u001b[0m\u001b[1;33m,\u001b[0m \u001b[0mdomain_count\u001b[0m\u001b[1;33m,\u001b[0m \u001b[1;36m0\u001b[0m\u001b[1;33m,\u001b[0m\u001b[1;36m0\u001b[0m\u001b[1;33m,\u001b[0m\u001b[1;36m0\u001b[0m\u001b[1;33m,\u001b[0m\u001b[1;36m0\u001b[0m\u001b[1;33m)\u001b[0m\u001b[1;33m\u001b[0m\u001b[0m\n\u001b[0m\u001b[0;32m     24\u001b[0m                 \u001b[0mprint\u001b[0m\u001b[1;33m(\u001b[0m\u001b[0mdomain_count\u001b[0m\u001b[1;33m,\u001b[0m \u001b[0mmax_count\u001b[0m\u001b[1;33m)\u001b[0m\u001b[1;33m\u001b[0m\u001b[0m\n\u001b[0;32m     25\u001b[0m                 \u001b[1;32mif\u001b[0m \u001b[0mdomain_count\u001b[0m \u001b[1;33m>\u001b[0m \u001b[0mmax_count\u001b[0m\u001b[1;33m:\u001b[0m\u001b[1;33m\u001b[0m\u001b[0m\n",
      "\u001b[1;32m<ipython-input-13-11c9f8f86090>\u001b[0m in \u001b[0;36mdfs\u001b[1;34m(matrix, i, j, domain_count, dc1, dc2, dc3, dc4)\u001b[0m\n\u001b[0;32m      8\u001b[0m         \u001b[0mmatrix\u001b[0m\u001b[1;33m[\u001b[0m\u001b[0mi\u001b[0m\u001b[1;33m]\u001b[0m\u001b[1;33m[\u001b[0m\u001b[0mj\u001b[0m\u001b[1;33m]\u001b[0m \u001b[1;33m=\u001b[0m \u001b[1;34m'Visited'\u001b[0m\u001b[1;33m\u001b[0m\u001b[0m\n\u001b[0;32m      9\u001b[0m         \u001b[0mdomain_count\u001b[0m \u001b[1;33m+=\u001b[0m \u001b[1;36m1\u001b[0m\u001b[1;33m\u001b[0m\u001b[0m\n\u001b[1;32m---> 10\u001b[1;33m         \u001b[0mdc1\u001b[0m \u001b[1;33m=\u001b[0m \u001b[0mdfs\u001b[0m\u001b[1;33m(\u001b[0m\u001b[0mmatrix\u001b[0m\u001b[1;33m,\u001b[0m \u001b[0mi\u001b[0m \u001b[1;33m,\u001b[0m\u001b[0mj\u001b[0m\u001b[1;33m+\u001b[0m\u001b[1;36m1\u001b[0m\u001b[1;33m,\u001b[0m \u001b[0mdomain_count\u001b[0m\u001b[1;33m,\u001b[0m \u001b[0mdc1\u001b[0m\u001b[1;33m,\u001b[0m \u001b[0mdc2\u001b[0m\u001b[1;33m,\u001b[0m \u001b[0mdc3\u001b[0m\u001b[1;33m,\u001b[0m \u001b[0mdc4\u001b[0m\u001b[1;33m)\u001b[0m\u001b[1;33m\u001b[0m\u001b[0m\n\u001b[0m\u001b[0;32m     11\u001b[0m         \u001b[0mdc2\u001b[0m \u001b[1;33m=\u001b[0m \u001b[0mdfs\u001b[0m\u001b[1;33m(\u001b[0m\u001b[0mmatrix\u001b[0m\u001b[1;33m,\u001b[0m \u001b[0mi\u001b[0m\u001b[1;33m-\u001b[0m\u001b[1;36m1\u001b[0m \u001b[1;33m,\u001b[0m\u001b[0mj\u001b[0m\u001b[1;33m,\u001b[0m \u001b[0mdomain_count\u001b[0m\u001b[1;33m,\u001b[0m \u001b[0mdc1\u001b[0m\u001b[1;33m,\u001b[0m \u001b[0mdc2\u001b[0m\u001b[1;33m,\u001b[0m \u001b[0mdc3\u001b[0m\u001b[1;33m,\u001b[0m \u001b[0mdc4\u001b[0m\u001b[1;33m)\u001b[0m\u001b[1;33m\u001b[0m\u001b[0m\n\u001b[0;32m     12\u001b[0m         \u001b[0mdc3\u001b[0m \u001b[1;33m=\u001b[0m \u001b[0mdfs\u001b[0m\u001b[1;33m(\u001b[0m\u001b[0mmatrix\u001b[0m\u001b[1;33m,\u001b[0m \u001b[0mi\u001b[0m\u001b[1;33m+\u001b[0m\u001b[1;36m1\u001b[0m \u001b[1;33m,\u001b[0m\u001b[0mj\u001b[0m\u001b[1;33m,\u001b[0m \u001b[0mdomain_count\u001b[0m\u001b[1;33m,\u001b[0m \u001b[0mdc1\u001b[0m\u001b[1;33m,\u001b[0m \u001b[0mdc2\u001b[0m\u001b[1;33m,\u001b[0m \u001b[0mdc3\u001b[0m\u001b[1;33m,\u001b[0m \u001b[0mdc4\u001b[0m\u001b[1;33m)\u001b[0m\u001b[1;33m\u001b[0m\u001b[0m\n",
      "\u001b[1;32m<ipython-input-13-11c9f8f86090>\u001b[0m in \u001b[0;36mdfs\u001b[1;34m(matrix, i, j, domain_count, dc1, dc2, dc3, dc4)\u001b[0m\n\u001b[0;32m      8\u001b[0m         \u001b[0mmatrix\u001b[0m\u001b[1;33m[\u001b[0m\u001b[0mi\u001b[0m\u001b[1;33m]\u001b[0m\u001b[1;33m[\u001b[0m\u001b[0mj\u001b[0m\u001b[1;33m]\u001b[0m \u001b[1;33m=\u001b[0m \u001b[1;34m'Visited'\u001b[0m\u001b[1;33m\u001b[0m\u001b[0m\n\u001b[0;32m      9\u001b[0m         \u001b[0mdomain_count\u001b[0m \u001b[1;33m+=\u001b[0m \u001b[1;36m1\u001b[0m\u001b[1;33m\u001b[0m\u001b[0m\n\u001b[1;32m---> 10\u001b[1;33m         \u001b[0mdc1\u001b[0m \u001b[1;33m=\u001b[0m \u001b[0mdfs\u001b[0m\u001b[1;33m(\u001b[0m\u001b[0mmatrix\u001b[0m\u001b[1;33m,\u001b[0m \u001b[0mi\u001b[0m \u001b[1;33m,\u001b[0m\u001b[0mj\u001b[0m\u001b[1;33m+\u001b[0m\u001b[1;36m1\u001b[0m\u001b[1;33m,\u001b[0m \u001b[0mdomain_count\u001b[0m\u001b[1;33m,\u001b[0m \u001b[0mdc1\u001b[0m\u001b[1;33m,\u001b[0m \u001b[0mdc2\u001b[0m\u001b[1;33m,\u001b[0m \u001b[0mdc3\u001b[0m\u001b[1;33m,\u001b[0m \u001b[0mdc4\u001b[0m\u001b[1;33m)\u001b[0m\u001b[1;33m\u001b[0m\u001b[0m\n\u001b[0m\u001b[0;32m     11\u001b[0m         \u001b[0mdc2\u001b[0m \u001b[1;33m=\u001b[0m \u001b[0mdfs\u001b[0m\u001b[1;33m(\u001b[0m\u001b[0mmatrix\u001b[0m\u001b[1;33m,\u001b[0m \u001b[0mi\u001b[0m\u001b[1;33m-\u001b[0m\u001b[1;36m1\u001b[0m \u001b[1;33m,\u001b[0m\u001b[0mj\u001b[0m\u001b[1;33m,\u001b[0m \u001b[0mdomain_count\u001b[0m\u001b[1;33m,\u001b[0m \u001b[0mdc1\u001b[0m\u001b[1;33m,\u001b[0m \u001b[0mdc2\u001b[0m\u001b[1;33m,\u001b[0m \u001b[0mdc3\u001b[0m\u001b[1;33m,\u001b[0m \u001b[0mdc4\u001b[0m\u001b[1;33m)\u001b[0m\u001b[1;33m\u001b[0m\u001b[0m\n\u001b[0;32m     12\u001b[0m         \u001b[0mdc3\u001b[0m \u001b[1;33m=\u001b[0m \u001b[0mdfs\u001b[0m\u001b[1;33m(\u001b[0m\u001b[0mmatrix\u001b[0m\u001b[1;33m,\u001b[0m \u001b[0mi\u001b[0m\u001b[1;33m+\u001b[0m\u001b[1;36m1\u001b[0m \u001b[1;33m,\u001b[0m\u001b[0mj\u001b[0m\u001b[1;33m,\u001b[0m \u001b[0mdomain_count\u001b[0m\u001b[1;33m,\u001b[0m \u001b[0mdc1\u001b[0m\u001b[1;33m,\u001b[0m \u001b[0mdc2\u001b[0m\u001b[1;33m,\u001b[0m \u001b[0mdc3\u001b[0m\u001b[1;33m,\u001b[0m \u001b[0mdc4\u001b[0m\u001b[1;33m)\u001b[0m\u001b[1;33m\u001b[0m\u001b[0m\n",
      "\u001b[1;32m<ipython-input-13-11c9f8f86090>\u001b[0m in \u001b[0;36mdfs\u001b[1;34m(matrix, i, j, domain_count, dc1, dc2, dc3, dc4)\u001b[0m\n\u001b[0;32m     10\u001b[0m         \u001b[0mdc1\u001b[0m \u001b[1;33m=\u001b[0m \u001b[0mdfs\u001b[0m\u001b[1;33m(\u001b[0m\u001b[0mmatrix\u001b[0m\u001b[1;33m,\u001b[0m \u001b[0mi\u001b[0m \u001b[1;33m,\u001b[0m\u001b[0mj\u001b[0m\u001b[1;33m+\u001b[0m\u001b[1;36m1\u001b[0m\u001b[1;33m,\u001b[0m \u001b[0mdomain_count\u001b[0m\u001b[1;33m,\u001b[0m \u001b[0mdc1\u001b[0m\u001b[1;33m,\u001b[0m \u001b[0mdc2\u001b[0m\u001b[1;33m,\u001b[0m \u001b[0mdc3\u001b[0m\u001b[1;33m,\u001b[0m \u001b[0mdc4\u001b[0m\u001b[1;33m)\u001b[0m\u001b[1;33m\u001b[0m\u001b[0m\n\u001b[0;32m     11\u001b[0m         \u001b[0mdc2\u001b[0m \u001b[1;33m=\u001b[0m \u001b[0mdfs\u001b[0m\u001b[1;33m(\u001b[0m\u001b[0mmatrix\u001b[0m\u001b[1;33m,\u001b[0m \u001b[0mi\u001b[0m\u001b[1;33m-\u001b[0m\u001b[1;36m1\u001b[0m \u001b[1;33m,\u001b[0m\u001b[0mj\u001b[0m\u001b[1;33m,\u001b[0m \u001b[0mdomain_count\u001b[0m\u001b[1;33m,\u001b[0m \u001b[0mdc1\u001b[0m\u001b[1;33m,\u001b[0m \u001b[0mdc2\u001b[0m\u001b[1;33m,\u001b[0m \u001b[0mdc3\u001b[0m\u001b[1;33m,\u001b[0m \u001b[0mdc4\u001b[0m\u001b[1;33m)\u001b[0m\u001b[1;33m\u001b[0m\u001b[0m\n\u001b[1;32m---> 12\u001b[1;33m         \u001b[0mdc3\u001b[0m \u001b[1;33m=\u001b[0m \u001b[0mdfs\u001b[0m\u001b[1;33m(\u001b[0m\u001b[0mmatrix\u001b[0m\u001b[1;33m,\u001b[0m \u001b[0mi\u001b[0m\u001b[1;33m+\u001b[0m\u001b[1;36m1\u001b[0m \u001b[1;33m,\u001b[0m\u001b[0mj\u001b[0m\u001b[1;33m,\u001b[0m \u001b[0mdomain_count\u001b[0m\u001b[1;33m,\u001b[0m \u001b[0mdc1\u001b[0m\u001b[1;33m,\u001b[0m \u001b[0mdc2\u001b[0m\u001b[1;33m,\u001b[0m \u001b[0mdc3\u001b[0m\u001b[1;33m,\u001b[0m \u001b[0mdc4\u001b[0m\u001b[1;33m)\u001b[0m\u001b[1;33m\u001b[0m\u001b[0m\n\u001b[0m\u001b[0;32m     13\u001b[0m         \u001b[0mdc4\u001b[0m \u001b[1;33m=\u001b[0m \u001b[0mdfs\u001b[0m\u001b[1;33m(\u001b[0m\u001b[0mmatrix\u001b[0m\u001b[1;33m,\u001b[0m \u001b[0mi\u001b[0m\u001b[1;33m,\u001b[0m\u001b[0mj\u001b[0m\u001b[1;33m-\u001b[0m\u001b[1;36m1\u001b[0m\u001b[1;33m,\u001b[0m \u001b[0mdomain_count\u001b[0m\u001b[1;33m,\u001b[0m \u001b[0mdc1\u001b[0m\u001b[1;33m,\u001b[0m \u001b[0mdc2\u001b[0m\u001b[1;33m,\u001b[0m \u001b[0mdc3\u001b[0m\u001b[1;33m,\u001b[0m \u001b[0mdc4\u001b[0m\u001b[1;33m)\u001b[0m\u001b[1;33m\u001b[0m\u001b[0m\n\u001b[0;32m     14\u001b[0m \u001b[1;33m\u001b[0m\u001b[0m\n",
      "\u001b[1;32m<ipython-input-13-11c9f8f86090>\u001b[0m in \u001b[0;36mdfs\u001b[1;34m(matrix, i, j, domain_count, dc1, dc2, dc3, dc4)\u001b[0m\n\u001b[0;32m     11\u001b[0m         \u001b[0mdc2\u001b[0m \u001b[1;33m=\u001b[0m \u001b[0mdfs\u001b[0m\u001b[1;33m(\u001b[0m\u001b[0mmatrix\u001b[0m\u001b[1;33m,\u001b[0m \u001b[0mi\u001b[0m\u001b[1;33m-\u001b[0m\u001b[1;36m1\u001b[0m \u001b[1;33m,\u001b[0m\u001b[0mj\u001b[0m\u001b[1;33m,\u001b[0m \u001b[0mdomain_count\u001b[0m\u001b[1;33m,\u001b[0m \u001b[0mdc1\u001b[0m\u001b[1;33m,\u001b[0m \u001b[0mdc2\u001b[0m\u001b[1;33m,\u001b[0m \u001b[0mdc3\u001b[0m\u001b[1;33m,\u001b[0m \u001b[0mdc4\u001b[0m\u001b[1;33m)\u001b[0m\u001b[1;33m\u001b[0m\u001b[0m\n\u001b[0;32m     12\u001b[0m         \u001b[0mdc3\u001b[0m \u001b[1;33m=\u001b[0m \u001b[0mdfs\u001b[0m\u001b[1;33m(\u001b[0m\u001b[0mmatrix\u001b[0m\u001b[1;33m,\u001b[0m \u001b[0mi\u001b[0m\u001b[1;33m+\u001b[0m\u001b[1;36m1\u001b[0m \u001b[1;33m,\u001b[0m\u001b[0mj\u001b[0m\u001b[1;33m,\u001b[0m \u001b[0mdomain_count\u001b[0m\u001b[1;33m,\u001b[0m \u001b[0mdc1\u001b[0m\u001b[1;33m,\u001b[0m \u001b[0mdc2\u001b[0m\u001b[1;33m,\u001b[0m \u001b[0mdc3\u001b[0m\u001b[1;33m,\u001b[0m \u001b[0mdc4\u001b[0m\u001b[1;33m)\u001b[0m\u001b[1;33m\u001b[0m\u001b[0m\n\u001b[1;32m---> 13\u001b[1;33m         \u001b[0mdc4\u001b[0m \u001b[1;33m=\u001b[0m \u001b[0mdfs\u001b[0m\u001b[1;33m(\u001b[0m\u001b[0mmatrix\u001b[0m\u001b[1;33m,\u001b[0m \u001b[0mi\u001b[0m\u001b[1;33m,\u001b[0m\u001b[0mj\u001b[0m\u001b[1;33m-\u001b[0m\u001b[1;36m1\u001b[0m\u001b[1;33m,\u001b[0m \u001b[0mdomain_count\u001b[0m\u001b[1;33m,\u001b[0m \u001b[0mdc1\u001b[0m\u001b[1;33m,\u001b[0m \u001b[0mdc2\u001b[0m\u001b[1;33m,\u001b[0m \u001b[0mdc3\u001b[0m\u001b[1;33m,\u001b[0m \u001b[0mdc4\u001b[0m\u001b[1;33m)\u001b[0m\u001b[1;33m\u001b[0m\u001b[0m\n\u001b[0m\u001b[0;32m     14\u001b[0m \u001b[1;33m\u001b[0m\u001b[0m\n\u001b[0;32m     15\u001b[0m         \u001b[0mprint\u001b[0m\u001b[1;33m(\u001b[0m\u001b[1;34m\"i,j\"\u001b[0m\u001b[1;33m,\u001b[0m \u001b[0mi\u001b[0m\u001b[1;33m,\u001b[0m\u001b[0mj\u001b[0m\u001b[1;33m,\u001b[0m\u001b[1;34m\":\"\u001b[0m\u001b[1;33m,\u001b[0m\u001b[0mdomain_count\u001b[0m\u001b[1;33m)\u001b[0m\u001b[1;33m\u001b[0m\u001b[0m\n",
      "\u001b[1;32m<ipython-input-13-11c9f8f86090>\u001b[0m in \u001b[0;36mdfs\u001b[1;34m(matrix, i, j, domain_count, dc1, dc2, dc3, dc4)\u001b[0m\n\u001b[0;32m     15\u001b[0m         \u001b[0mprint\u001b[0m\u001b[1;33m(\u001b[0m\u001b[1;34m\"i,j\"\u001b[0m\u001b[1;33m,\u001b[0m \u001b[0mi\u001b[0m\u001b[1;33m,\u001b[0m\u001b[0mj\u001b[0m\u001b[1;33m,\u001b[0m\u001b[1;34m\":\"\u001b[0m\u001b[1;33m,\u001b[0m\u001b[0mdomain_count\u001b[0m\u001b[1;33m)\u001b[0m\u001b[1;33m\u001b[0m\u001b[0m\n\u001b[0;32m     16\u001b[0m \u001b[1;33m\u001b[0m\u001b[0m\n\u001b[1;32m---> 17\u001b[1;33m         \u001b[1;32mreturn\u001b[0m \u001b[0mmax\u001b[0m\u001b[1;33m(\u001b[0m\u001b[0mdc1\u001b[0m\u001b[1;33m,\u001b[0m \u001b[0mdc2\u001b[0m\u001b[1;33m,\u001b[0m \u001b[0mdc3\u001b[0m\u001b[1;33m,\u001b[0m \u001b[0mdc4\u001b[0m\u001b[1;33m)\u001b[0m\u001b[1;33m\u001b[0m\u001b[0m\n\u001b[0m\u001b[0;32m     18\u001b[0m     \u001b[1;32mfor\u001b[0m \u001b[0mi\u001b[0m \u001b[1;32min\u001b[0m \u001b[0mrange\u001b[0m\u001b[1;33m(\u001b[0m\u001b[0mlen\u001b[0m\u001b[1;33m(\u001b[0m\u001b[0mmatrix\u001b[0m\u001b[1;33m)\u001b[0m\u001b[1;33m)\u001b[0m\u001b[1;33m:\u001b[0m\u001b[1;33m\u001b[0m\u001b[0m\n\u001b[0;32m     19\u001b[0m \u001b[1;31m#         import pdb;pdb.set_trace()\u001b[0m\u001b[1;33m\u001b[0m\u001b[1;33m\u001b[0m\u001b[0m\n",
      "\u001b[1;31mTypeError\u001b[0m: '>' not supported between instances of 'NoneType' and 'NoneType'"
     ]
    }
   ],
   "source": []
  },
  {
   "cell_type": "code",
   "execution_count": 25,
   "metadata": {},
   "outputs": [],
   "source": [
    "def main(matrix):\n",
    "        \n",
    "    domain_count = max_count = 0\n",
    "    \n",
    "    def dfs(matrix, i,j, domain_count, max_count):\n",
    "        \n",
    "        if domain_count > max_count:\n",
    "            max_count = domain_count\n",
    "            \n",
    "        if i <0 or j<0 or i>=len(matrix) or j >= len(matrix[0]) or matrix[i][j] != 1:\n",
    "            return \n",
    "        matrix[i][j] = 'Visited'\n",
    "        domain_count += 1\n",
    "        v = dfs(matrix, i ,j+1, domain_count, max_count)\n",
    "        \n",
    "        dfs(matrix, i-1 ,j, domain_count, max_count)\n",
    "        dfs(matrix, i+1 ,j, domain_count, max_count)\n",
    "        dfs(matrix, i,j-1, domain_count, max_count)\n",
    "\n",
    "        return max_count \n",
    "    for i in range(len(matrix)):\n",
    "        \n",
    "        for j in range(len(matrix[0])):\n",
    "            if matrix[i][j] == 1:\n",
    "                max_count = dfs(matrix, i, j, domain_count, max_count)\n",
    "\n",
    "                    \n",
    "        \n",
    "    return max_count\n",
    "\n",
    "main([[1, 1, 1, 0, 0], [0, 1, 1, 0, 0], [ 0, 0 ,0, 0, 1], [1, 0, 0, 1, 1], [1, 1, 0, 0, 1]])"
   ]
  },
  {
   "cell_type": "code",
   "execution_count": 26,
   "metadata": {},
   "outputs": [
    {
     "data": {
      "text/plain": [
       "0"
      ]
     },
     "execution_count": 26,
     "metadata": {},
     "output_type": "execute_result"
    }
   ],
   "source": []
  },
  {
   "cell_type": "code",
   "execution_count": 51,
   "metadata": {},
   "outputs": [
    {
     "name": "stdout",
     "output_type": "stream",
     "text": [
      "1\n",
      "4\n",
      "3\n"
     ]
    },
    {
     "data": {
      "text/plain": [
       "4"
      ]
     },
     "execution_count": 51,
     "metadata": {},
     "output_type": "execute_result"
    }
   ],
   "source": [
    "def main():\n",
    "    row_cols = list(map(int, input().split()))\n",
    "    rows, cols = row_cols[0], row_cols[1]\n",
    "    matrix = []\n",
    "#     for i in range(rows):\n",
    "#         matrix.append(list(map(int, input().split())))\n",
    "\n",
    "  \n",
    "    max_count = 0\n",
    "    \n",
    "    def dfs(matrix, i,j, domain_count):\n",
    "        \n",
    "            \n",
    "        if i <0 or j<0 or i>=len(matrix) or j >= len(matrix[0]) or matrix[i][j] != 1:\n",
    "            return 0\n",
    "        matrix[i][j] = 'Visited'\n",
    "        domain_count += 1\n",
    "        v = dfs(matrix, i ,j+1, domain_count)\n",
    "        domain_count = max(v, domain_count)\n",
    "        v = dfs(matrix, i-1 ,j, domain_count)\n",
    "        domain_count = max(v, domain_count)\n",
    "        v = dfs(matrix, i+1 ,j, domain_count)\n",
    "        domain_count = max(v, domain_count)\n",
    "        v = dfs(matrix, i,j-1, domain_count)\n",
    "        domain_count = max(v, domain_count)\n",
    "\n",
    "\n",
    "        return domain_count \n",
    "    for i in range(len(matrix)):\n",
    "        \n",
    "        for j in range(len(matrix[0])):\n",
    "            if matrix[i][j] == 1:\n",
    "                domain_count = 0\n",
    "                domain_count = dfs(matrix, i, j, domain_count)\n",
    "                print(domain_count)\n",
    "                if domain_count > max_count:\n",
    "                    max_count = domain_count\n",
    "\n",
    "                    \n",
    "        \n",
    "    return max_count\n",
    "\n",
    "main([[0, 0 ,0,0, 0], [0, 1, 0, 0, 0], [ 0, 0 ,0, 0, 1], [1, 0, 0, 1, 1], [1, 1, 0, 0, 1]])"
   ]
  },
  {
   "cell_type": "code",
   "execution_count": 37,
   "metadata": {},
   "outputs": [
    {
     "ename": "IndentationError",
     "evalue": "unexpected indent (<ipython-input-37-0bf993c1c3b3>, line 2)",
     "output_type": "error",
     "traceback": [
      "\u001b[1;36m  File \u001b[1;32m\"<ipython-input-37-0bf993c1c3b3>\"\u001b[1;36m, line \u001b[1;32m2\u001b[0m\n\u001b[1;33m    [0, V, V, 0, 0],\u001b[0m\n\u001b[1;37m    ^\u001b[0m\n\u001b[1;31mIndentationError\u001b[0m\u001b[1;31m:\u001b[0m unexpected indent\n"
     ]
    }
   ],
   "source": [
    " 0 0 0 0 0\n",
    "0 1 0 0 0 \n",
    "0 0 0 0 1\n",
    "1 0 0 1 1 \n",
    "1 1 0 0 1"
   ]
  },
  {
   "cell_type": "code",
   "execution_count": 1,
   "metadata": {},
   "outputs": [],
   "source": [
    "def main(matrix):\n",
    "        \n",
    "    domain_count = max_count = 0\n",
    "    max_count_for_island = 0\n",
    "    \n",
    "    def dfs(matrix, i,j):\n",
    "        \n",
    "        if i <0 or j<0 or i>=len(matrix) or j >= len(matrix[0]) or matrix[i][j] != 1:\n",
    "            return 0;\n",
    "                  \n",
    "        matrix[i][j] = 'Visited'\n",
    "        domain_count = 1 + dfs(matrix, i ,j+1)\n",
    "        domain_count += dfs(matrix, i-1 ,j)\n",
    "        domain_count += dfs(matrix, i+1 ,j)\n",
    "        domain_count += dfs(matrix, i,j-1)\n",
    "        domain_count += dfs(matrix, i,j-1)\n",
    "        domain_count += dfs(matrix, i-1 ,j-1)\n",
    "        domain_count += dfs(matrix, i+1 ,j+1)\n",
    "        domain_count += dfs(matrix, i+1,j-1)\n",
    "        domain_count += dfs(matrix, i-1,j+1)\n",
    "        \n",
    "\n",
    "        \n",
    "        \n",
    "        return domain_count \n",
    "        \n",
    "    for i in range(len(matrix)):\n",
    "        for j in range(len(matrix[0])):\n",
    "            if matrix[i][j] == 1:\n",
    "                max_count_for_island = dfs(matrix, i, j)\n",
    "                print(max_count_for_island)\n",
    "                if(max_count_for_island>max_count):\n",
    "                    \n",
    "                    max_count = max_count_for_island\n",
    "\n",
    "    return max_count\n"
   ]
  },
  {
   "cell_type": "code",
   "execution_count": 2,
   "metadata": {},
   "outputs": [
    {
     "name": "stdout",
     "output_type": "stream",
     "text": [
      "5\n",
      "4\n",
      "3\n"
     ]
    },
    {
     "data": {
      "text/plain": [
       "5"
      ]
     },
     "execution_count": 2,
     "metadata": {},
     "output_type": "execute_result"
    }
   ],
   "source": [
    "main([[1, 1, 1, 0, 0], [0, 1, 1, 0, 0], [ 0, 0 ,0, 0, 1], [1, 0, 0, 1, 1], [1, 1, 0, 0, 1]])"
   ]
  },
  {
   "cell_type": "code",
   "execution_count": 59,
   "metadata": {},
   "outputs": [
    {
     "name": "stdout",
     "output_type": "stream",
     "text": [
      "2 3\n",
      "3 4\n"
     ]
    }
   ],
   "source": [
    "r = 3\n",
    "c = 2\n",
    "matrix = []\n",
    "for i in range(R):\n",
    "    matrix.append(list(map(int, input().split())))"
   ]
  },
  {
   "cell_type": "code",
   "execution_count": 70,
   "metadata": {},
   "outputs": [
    {
     "data": {
      "text/plain": [
       "[[0, 0], [0, 0], [0, 0]]"
      ]
     },
     "execution_count": 70,
     "metadata": {},
     "output_type": "execute_result"
    }
   ],
   "source": [
    "# n = int(input().strip()) rows\n",
    "# m = int(input().strip()) cols\n",
    "r = 3\n",
    "c = 2\n",
    "matrix = [[0]*c for _ in range(r)]\n",
    "matrix"
   ]
  },
  {
   "cell_type": "code",
   "execution_count": null,
   "metadata": {},
   "outputs": [],
   "source": [
    "for i in range(r):\n",
    "    matrix[i] = [int(j) for j in input().strip().split(\" \")]\n",
    "print(matrix)"
   ]
  },
  {
   "cell_type": "code",
   "execution_count": 62,
   "metadata": {},
   "outputs": [],
   "source": [
    "matrix = []"
   ]
  },
  {
   "cell_type": "code",
   "execution_count": 65,
   "metadata": {},
   "outputs": [
    {
     "name": "stdout",
     "output_type": "stream",
     "text": [
      "T\n"
     ]
    }
   ],
   "source": [
    "if len(matrix)== 0:\n",
    "    print(\"T\")\n",
    "    "
   ]
  },
  {
   "cell_type": "code",
   "execution_count": null,
   "metadata": {},
   "outputs": [],
   "source": [
    "''' Read input from STDIN. Print your output to STDOUT '''\n",
    "    #Use input() to read input from STDIN and use print to write your output to STDOUT\n",
    "\n",
    "def main():\n",
    "    row_cols = list(map(int, input().split()))\n",
    "    rows, cols = row_cols[0], row_cols[1]\n",
    "    matrix = []\n",
    "\n",
    "    for i in range(rows):\n",
    "        matrix.append(list(map(int, input().split())))\n",
    "\n",
    "    max_count = 0\n",
    "    \n",
    "    def dfs(matrix, i,j, domain_count):\n",
    "        \n",
    "            \n",
    "        if i <0 or j<0 or i>=len(matrix) or j >= len(matrix[0]) or matrix[i][j] != 1:\n",
    "            return 0\n",
    "        matrix[i][j] = 'Visited'\n",
    "        domain_count += 1\n",
    "        v = dfs(matrix, i ,j+1, domain_count)\n",
    "        domain_count = max(v, domain_count)\n",
    "        v = dfs(matrix, i-1 ,j, domain_count)\n",
    "        domain_count = max(v, domain_count)\n",
    "        v = dfs(matrix, i+1 ,j, domain_count)\n",
    "        domain_count = max(v, domain_count)\n",
    "        v = dfs(matrix, i,j-1, domain_count)\n",
    "        domain_count = max(v, domain_count)\n",
    "\n",
    "\n",
    "        return domain_count \n",
    "    for i in range(len(matrix)):\n",
    "        \n",
    "        for j in range(len(matrix[0])):\n",
    "            if matrix[i][j] == 1:\n",
    "                domain_count = 0\n",
    "                domain_count = dfs(matrix, i, j, domain_count)\n",
    "                if domain_count > max_count:\n",
    "                    max_count = domain_count\n",
    "\n",
    "    print(max_count)\n",
    "\n",
    "main()\n",
    "\n"
   ]
  },
  {
   "cell_type": "markdown",
   "metadata": {},
   "source": [
    "# final submision"
   ]
  },
  {
   "cell_type": "code",
   "execution_count": null,
   "metadata": {},
   "outputs": [],
   "source": [
    "def main():\n",
    "    row_cols = list(map(int, input().split()))\n",
    "    rows, cols = row_cols[0], row_cols[1]\n",
    "\n",
    "    if rows < 1 or cols > 10:\n",
    "        return 0\n",
    "\n",
    "    matrix = []\n",
    "    matrix = [[0]*cols for _ in range(rows)]\n",
    "\n",
    "    for i in range(rows):\n",
    "        matrix[i] = [int(j) for j in input().strip().split(\" \")]\n",
    "\n",
    "    domain_count = max_count = 0\n",
    "    max_count_for_island = 0\n",
    "    \n",
    "    def dfs(matrix, i,j):\n",
    "        if i <0 or j<0 or i>=len(matrix) or j >= len(matrix[0]) or matrix[i][j] != 1:\n",
    "            return 0;\n",
    "                  \n",
    "        matrix[i][j] = 'Visited'\n",
    "        domain_count = 1 + dfs(matrix, i ,j+1)\n",
    "        domain_count += dfs(matrix, i-1 ,j)\n",
    "        domain_count += dfs(matrix, i+1 ,j)\n",
    "        domain_count += dfs(matrix, i,j-1)\n",
    "        return domain_count \n",
    "        \n",
    "    for i in range(len(matrix)):\n",
    "        for j in range(len(matrix[0])):\n",
    "            if matrix[i][j] == 1:\n",
    "                max_count_for_island = dfs(matrix, i, j)\n",
    "                if(max_count_for_island>max_count):\n",
    "                    \n",
    "                    max_count = max_count_for_island\n",
    "\n",
    "    print(max_count)\n",
    "\n",
    "main()"
   ]
  },
  {
   "cell_type": "code",
   "execution_count": null,
   "metadata": {},
   "outputs": [],
   "source": [
    "        domain_count = 1 + dfs(matrix, i ,j+1)\n",
    "        domain_count += dfs(matrix, i-1 ,j)\n",
    "        domain_count += dfs(matrix, i+1 ,j)\n",
    "        domain_count += dfs(matrix, i,j-1)\n",
    "        domain_count += dfs(matrix, i,j-1)\n",
    "        domain_count += dfs(matrix, i-1 ,j-1)\n",
    "        domain_count += dfs(matrix, i+1 ,j+1)\n",
    "        domain_count += dfs(matrix, i+1,j-1)\n",
    "        domain_count += dfs(matrix, i-1,j+1)\n",
    "        "
   ]
  },
  {
   "cell_type": "markdown",
   "metadata": {},
   "source": [
    "# finale"
   ]
  },
  {
   "cell_type": "code",
   "execution_count": null,
   "metadata": {},
   "outputs": [],
   "source": [
    "\n",
    "\n",
    "def main():\n",
    "    row_cols = list(map(int, input().split()))\n",
    "    rows, cols = row_cols[0], row_cols[1]\n",
    "\n",
    "    if rows < 1 or cols > 10:\n",
    "        return 0\n",
    "\n",
    "    matrix = []\n",
    "    matrix = [[0]*cols for _ in range(rows)]\n",
    "\n",
    "    for i in range(rows):\n",
    "        matrix[i] = [int(j) for j in input().strip().split(\" \")]\n",
    "\n",
    "    domain_count = max_count = 0\n",
    "    max_count_for_island = 0\n",
    "    \n",
    "    def dfs(matrix, i,j):\n",
    "        if i <0 or j<0 or i>=len(matrix) or j >= len(matrix[0]) or matrix[i][j] != 1:\n",
    "            return 0;\n",
    "                  \n",
    "        matrix[i][j] = 'Visited'\n",
    "        domain_count = 1 + dfs(matrix, i ,j+1)\n",
    "        domain_count += dfs(matrix, i-1 ,j)\n",
    "        domain_count += dfs(matrix, i+1 ,j)\n",
    "        domain_count += dfs(matrix, i,j-1)\n",
    "        domain_count += dfs(matrix, i,j-1)\n",
    "        domain_count += dfs(matrix, i-1 ,j-1)\n",
    "        domain_count += dfs(matrix, i+1 ,j+1)\n",
    "        domain_count += dfs(matrix, i+1,j-1)\n",
    "        domain_count += dfs(matrix, i-1,j+1)\n",
    "        return domain_count \n",
    "        \n",
    "    for i in range(len(matrix)):\n",
    "        for j in range(len(matrix[0])):\n",
    "            if matrix[i][j] == 1:\n",
    "                max_count_for_island = dfs(matrix, i, j)\n",
    "                if(max_count_for_island>max_count):\n",
    "                    \n",
    "                    max_count = max_count_for_island\n",
    "\n",
    "    print(max_count)\n",
    "\n",
    "# main()"
   ]
  },
  {
   "cell_type": "code",
   "execution_count": null,
   "metadata": {},
   "outputs": [],
   "source": []
  }
 ],
 "metadata": {
  "kernelspec": {
   "display_name": "Python 3",
   "language": "python",
   "name": "python3"
  },
  "language_info": {
   "codemirror_mode": {
    "name": "ipython",
    "version": 3
   },
   "file_extension": ".py",
   "mimetype": "text/x-python",
   "name": "python",
   "nbconvert_exporter": "python",
   "pygments_lexer": "ipython3",
   "version": "3.7.0"
  }
 },
 "nbformat": 4,
 "nbformat_minor": 2
}
