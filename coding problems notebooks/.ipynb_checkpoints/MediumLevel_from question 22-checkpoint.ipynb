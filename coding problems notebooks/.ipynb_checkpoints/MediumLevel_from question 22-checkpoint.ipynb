{
 "cells": [
  {
   "cell_type": "markdown",
   "metadata": {},
   "source": [
    "# 8. validate BST"
   ]
  },
  {
   "cell_type": "code",
   "execution_count": null,
   "metadata": {},
   "outputs": [],
   "source": [
    "class BST:\n",
    "    def __init__(self, value):\n",
    "        self.value = value\n",
    "        self.left = None\n",
    "        self.right = None\n",
    "\n",
    "\n",
    "    def validateBst(tree):\n",
    "        # Write your code here.\n",
    "        return BSTHelper(tree, float(\"-inf\"), float(\"inf\"))\n",
    "\n",
    "\n",
    "    def BSTHelper(tree, minV, maxV):\n",
    "        if tree is None:\n",
    "            return True\n",
    "        if tree.value < minV or tree.value >= maxV:\n",
    "            return False\n",
    "        \n",
    "        return BSTHelper(tree.left, minV, tree.value) and BSTHelper(tree.right, tree.value, maxV)"
   ]
  },
  {
   "cell_type": "markdown",
   "metadata": {},
   "source": [
    "# 9. Tree Traversals"
   ]
  },
  {
   "cell_type": "code",
   "execution_count": null,
   "metadata": {},
   "outputs": [],
   "source": [
    "def inOrderTraverse(tree, array):\n",
    "\t\n",
    "\tif tree is not None: \n",
    "\t\tinOrderTraverse(tree.left,array)\n",
    "\t\tarray.append(tree.value)\n",
    "\t\tinOrderTraverse(tree.right,array)\n",
    "\t\t\n",
    "\treturn array\n",
    "\n",
    "def preOrderTraverse(tree, array):\n",
    "    # Write your code here.\n",
    "\tif tree is not None: \n",
    "\n",
    "\t\tarray.append(tree.value)\n",
    "\t\tpreOrderTraverse(tree.left, array)\n",
    "\t\tpreOrderTraverse(tree.right, array)\n",
    "\t\t\n",
    "\treturn array\n",
    "\n",
    "\n",
    "def postOrderTraverse(tree, array):\n",
    "\t\n",
    "\tif tree is not None: \n",
    "\t\tpostOrderTraverse(tree.left, array)\n",
    "\t\tpostOrderTraverse(tree.right, array)\n",
    "\t\tarray.append(tree.value)\n",
    "\t\n",
    "\treturn array\n",
    "\n",
    "\n",
    "# spaace= On for array , if print(), then o(depth), because of the call stack \n",
    "# time On"
   ]
  },
  {
   "cell_type": "markdown",
   "metadata": {},
   "source": [
    "# 10. MinHeightBST"
   ]
  },
  {
   "cell_type": "code",
   "execution_count": null,
   "metadata": {},
   "outputs": [],
   "source": [
    "def minHeightBst(array):\n",
    "    return calculateMinHeight(array, None, 0,len(array)-1)\n",
    "\n",
    "\n",
    "def calculateMinHeight(array, bst, startI, endI):\n",
    "    if startI > endI:\n",
    "        return\n",
    "    \n",
    "    midI = (startI+ endI) // 2\n",
    "    midV = array[midI]\n",
    "    if bst is None:\n",
    "        bst = BST(mid)\n",
    "    else:\n",
    "        bst = BST.insert(midV)\n",
    "    calculateMinHeight(array, bst, startI, midI-1)\n",
    "    calculateMinHeight(array, bst, midI+1, endI)\n",
    "    \n",
    "    return bst\n",
    "        \n",
    "\n",
    "class BST:\n",
    "    def __init__(self, value):\n",
    "        self.value = value\n",
    "        self.left = None\n",
    "        self.right = None\n",
    "\n",
    "    def insert(self, value):\n",
    "        if value < self.value:\n",
    "            if self.left is None:\n",
    "                self.left = BST(value)\n",
    "            else:\n",
    "                self.left.insert(value)\n",
    "        else:\n",
    "            if self.right is None:\n",
    "                self.right = BST(value)\n",
    "            else:\n",
    "                self.right.insert(value)"
   ]
  },
  {
   "cell_type": "markdown",
   "metadata": {},
   "source": [
    "# 11. Invert a binary tree"
   ]
  },
  {
   "cell_type": "code",
   "execution_count": null,
   "metadata": {},
   "outputs": [],
   "source": [
    "def invertBinaryTree(tree):\n",
    "    # Write your code here.\n",
    "    return invertHelper(tree)\n",
    "\n",
    "def invertHelper(tree):\n",
    "    currentNode = tree\n",
    "    if currentNode is None:\n",
    "        return  \n",
    "    else:\n",
    "        temp = currentNode.left\n",
    "        currentNode.left = currentNode.right\n",
    "        currentNode.right = temp\n",
    "        invertHelper(currentNode.left)\n",
    "        invertHelper(currentNode.right)\n",
    "    \n",
    "        \n",
    "\n",
    "\n",
    "# This is the class of the input binary tree.\n",
    "class BinaryTree:\n",
    "    def __init__(self, value):\n",
    "        self.value = value\n",
    "        self.left = None\n",
    "        self.right = None"
   ]
  },
  {
   "cell_type": "markdown",
   "metadata": {},
   "source": [
    "## approach 2"
   ]
  },
  {
   "cell_type": "code",
   "execution_count": 2,
   "metadata": {},
   "outputs": [],
   "source": [
    "def invertBinaryTree(tree):\n",
    "    # Write your code here.\n",
    "    currentNode = tree\n",
    "    if currentNode is None:\n",
    "        return  \n",
    "    else:\n",
    "        currentNode.left , currentNode.right= currentNode.right, currentNode.left\n",
    "        invertBinaryTree(currentNode.left)\n",
    "        invertBinaryTree(currentNode.right)\n",
    "    \n",
    "        \n",
    "# This is the class of the input binary tree.\n",
    "class BinaryTree:\n",
    "    def __init__(self, value):\n",
    "        self.value = value\n",
    "        self.left = None\n",
    "        self.right = None"
   ]
  },
  {
   "cell_type": "markdown",
   "metadata": {},
   "source": [
    "# max sum non adjacent"
   ]
  },
  {
   "cell_type": "code",
   "execution_count": 1,
   "metadata": {},
   "outputs": [],
   "source": [
    "a = [1,2,4,5,5]"
   ]
  },
  {
   "cell_type": "code",
   "execution_count": 4,
   "metadata": {},
   "outputs": [],
   "source": [
    "ab = a[-1]"
   ]
  },
  {
   "cell_type": "code",
   "execution_count": 5,
   "metadata": {},
   "outputs": [
    {
     "data": {
      "text/plain": [
       "5"
      ]
     },
     "execution_count": 5,
     "metadata": {},
     "output_type": "execute_result"
    }
   ],
   "source": [
    "ab"
   ]
  },
  {
   "cell_type": "code",
   "execution_count": null,
   "metadata": {},
   "outputs": [],
   "source": [
    "def maxSubsetSumNoAdjacent(array):\n",
    "    # Write your code here.\n",
    "\tif not len(array):\n",
    "\t\treturn 0\n",
    "\tif len(array) == 1:\n",
    "\t\treturn array[0]\n",
    "\t\n",
    "\tmax_sum = array[:]\n",
    "\tprint(max_sum)\n",
    "\tmax_sum[1] = max(max_sum[0], max_sum[1])\n",
    "\t\n",
    "\tfor i in range(2, len(array)):\n",
    "\t\tmax_sum[i] =  max(max_sum[i-1], max_sum[i-2]+max_sum[i])\n",
    "\t\t\n",
    "\tprint(max_sum)\n",
    "\treturn max_sum[-1]\n",
    "\t\t\n",
    "    \n"
   ]
  },
  {
   "cell_type": "code",
   "execution_count": null,
   "metadata": {},
   "outputs": [],
   "source": [
    "def maxSubsetSumNoAdjacent(array):\n",
    "    # Write your code here.\n",
    "\tif not len(array):\n",
    "\t\treturn 0\n",
    "\tif len(array) == 1:\n",
    "\t\treturn array[0]\n",
    "\t\n",
    "\tmax_sum = array[:]\n",
    "\tprint(max_sum)\n",
    "\tmax_sum[1] = max(max_sum[0], max_sum[1])\n",
    "\t\n",
    "\tfor i in range(2, len(array)):\n",
    "\t\tmax_sum[i] =  max(max_sum[i-1], max_sum[i-2]+max_sum[i])\n",
    "\t\t\n",
    "\tprint(max_sum)\n",
    "\treturn max_sum[-1]\n",
    "\t\t\n",
    "    \n"
   ]
  },
  {
   "cell_type": "markdown",
   "metadata": {},
   "source": [
    "# DENOMINATIONS"
   ]
  },
  {
   "cell_type": "code",
   "execution_count": null,
   "metadata": {},
   "outputs": [],
   "source": []
  }
 ],
 "metadata": {
  "kernelspec": {
   "display_name": "Python 3",
   "language": "python",
   "name": "python3"
  },
  "language_info": {
   "codemirror_mode": {
    "name": "ipython",
    "version": 3
   },
   "file_extension": ".py",
   "mimetype": "text/x-python",
   "name": "python",
   "nbconvert_exporter": "python",
   "pygments_lexer": "ipython3",
   "version": "3.7.0"
  }
 },
 "nbformat": 4,
 "nbformat_minor": 2
}
