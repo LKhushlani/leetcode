{
 "cells": [
  {
   "cell_type": "code",
   "execution_count": 8,
   "metadata": {},
   "outputs": [
    {
     "name": "stdout",
     "output_type": "stream",
     "text": [
      "2\n",
      "5 4 6\n",
      "2 2 2\n",
      "25\n",
      "4\n"
     ]
    }
   ],
   "source": [
    "def main():\n",
    "    test_cases= int(input())\n",
    "    result = []\n",
    "    while test_cases>0:\n",
    "        test_cases -=1\n",
    "        input_array = list(map( int, input().split()))\n",
    "        P, N, D = input_array[0], input_array[1], input_array[2]\n",
    "\n",
    "        result.append((P+(N*(D-1))))\n",
    "\n",
    "    \n",
    "    print(*result,sep='\\n')\n",
    " # Write code here \n",
    "\n",
    "main()"
   ]
  },
  {
   "cell_type": "code",
   "execution_count": null,
   "metadata": {},
   "outputs": [],
   "source": [
    "def main():\n",
    "    rows_cols_list = list(map(int, input().split())\n",
    "    rows, cols = rows_cols_list[0], rows_cols_list[1]\n",
    "                                                \n",
    "    \n",
    "    \n",
    "\n",
    "\n",
    "main()"
   ]
  },
  {
   "cell_type": "code",
   "execution_count": null,
   "metadata": {},
   "outputs": [],
   "source": [
    "def main():\n",
    "    rows_cols_list = list(map(int, input().split())        \n",
    "    rows, cols = rows_cols_list[0], rows_cols_list[1]\n",
    "    matrix\n",
    "    for i in range(len(rows)):\n",
    "        "
   ]
  },
  {
   "cell_type": "code",
   "execution_count": null,
   "metadata": {},
   "outputs": [],
   "source": [
    "def main(matrix):\n",
    "        \n",
    "    domain_count = max_count = 0\n",
    "    \n",
    "    def dfs(matrix, i,j, domain_count):\n",
    "        if i <0 or j<0 or i>=len(matrix) or j >= len(matrix[0]) or matrix[i][j] != 1:\n",
    "            return \n",
    "        matrix[i][j] = 'Visited'\n",
    "        domain_count += 1\n",
    "        print(\"1\")\n",
    "        dfs(matrix, i ,j+1, domain_count)\n",
    "        print(\"2\")\n",
    "\n",
    "        dfs(matrix, i-1 ,j, domain_count)\n",
    "        print(\"3\")\n",
    "\n",
    "        dfs(matrix, i+1 ,j, domain_count)\n",
    "        print(\"4\")\n",
    "\n",
    "        dfs(matrix, i,j-1, domain_count)\n",
    "        print(\"5\")\n",
    "\n",
    "        return domain_count\n",
    "    for i in range(len(matrix)):\n",
    "#         import pdb;pdb.set_trace()\n",
    "        for j in range(len(matrix[0])):\n",
    "            \n",
    "            if matrix[i][j] == 1:\n",
    "                domain_count = dfs(matrix, i, j, domain_count)\n",
    "                if domain_count > max_count:\n",
    "                    max_count = domain_count\n",
    "                    \n",
    "        \n",
    "    return max_count\n",
    "\n",
    "\n",
    "        \n",
    "\n",
    "                    "
   ]
  },
  {
   "cell_type": "code",
   "execution_count": null,
   "metadata": {},
   "outputs": [],
   "source": [
    "main([[1, 1, 1, 0, 0], [0, 1, 1, 0, 0], [ 0, 0 ,0, 0, 1], [1, 0, 0, 1, 1], [1, 1, 0, 0, 1]])"
   ]
  },
  {
   "cell_type": "code",
   "execution_count": 12,
   "metadata": {},
   "outputs": [],
   "source": [
    "def segregate0and1(arr):\n",
    "\n",
    "    left = 0\n",
    "    right = len(arr)-1\n",
    "\n",
    "    while left < right:\n",
    "        if arr[left] == 0:\n",
    "            left += 1\n",
    "        if arr[right] == 1:\n",
    "            right -=1\n",
    "\n",
    "        if arr[left] == 1 and arr[right] == 0:\n",
    "            arr[left], arr[right] = arr[right], arr[left]\n",
    "            left += 1\n",
    "            right -= 1\n",
    "    print(arr)\n",
    "                    \n",
    "            "
   ]
  },
  {
   "cell_type": "code",
   "execution_count": 13,
   "metadata": {},
   "outputs": [
    {
     "name": "stdout",
     "output_type": "stream",
     "text": [
      "[0, 0, 1, 1]\n"
     ]
    }
   ],
   "source": [
    "segregate0and1([1,0,0, 1])"
   ]
  },
  {
   "cell_type": "code",
   "execution_count": null,
   "metadata": {},
   "outputs": [],
   "source": []
  }
 ],
 "metadata": {
  "kernelspec": {
   "display_name": "Python 3",
   "language": "python",
   "name": "python3"
  },
  "language_info": {
   "codemirror_mode": {
    "name": "ipython",
    "version": 3
   },
   "file_extension": ".py",
   "mimetype": "text/x-python",
   "name": "python",
   "nbconvert_exporter": "python",
   "pygments_lexer": "ipython3",
   "version": "3.7.0"
  }
 },
 "nbformat": 4,
 "nbformat_minor": 2
}
