{
 "cells": [
  {
   "cell_type": "code",
   "execution_count": 1,
   "metadata": {},
   "outputs": [],
   "source": [
    "l = [([1,2], 112.12), ([3,4], 45.67)]"
   ]
  },
  {
   "cell_type": "code",
   "execution_count": 4,
   "metadata": {},
   "outputs": [
    {
     "data": {
      "text/plain": [
       "[1, 2]"
      ]
     },
     "execution_count": 4,
     "metadata": {},
     "output_type": "execute_result"
    }
   ],
   "source": [
    "l[0][0]"
   ]
  },
  {
   "cell_type": "code",
   "execution_count": 45,
   "metadata": {},
   "outputs": [],
   "source": [
    "import heapq,math \n"
   ]
  },
  {
   "cell_type": "code",
   "execution_count": 65,
   "metadata": {},
   "outputs": [],
   "source": [
    "class Solution:\n",
    "    def kClosest(self, points, K):\n",
    "        \n",
    "        closest = []\n",
    "        \n",
    "        def euclidean_distance(x,y):\n",
    "            print(-1 * round(math.sqrt(x**2+ y**2),4))\n",
    "            return -1 * round(math.sqrt(x**2+ y**2),4)\n",
    "        \n",
    "        for point in points:\n",
    "            if len(closest) < K:\n",
    "                heapq.heappush(closest, (point,euclidean_distance(point[0], point[1])))\n",
    "            \n",
    "            elif euclidean_distance(point[0], point[1]) > closest[0][1]:\n",
    "                heapq.heappop(closest)\n",
    "                heapq.heappush(closest,(point, euclidean_distance(point[0], point[1])))\n",
    "           \n",
    "        print(closest)\n",
    "        return points\n",
    "    \n",
    "                \n",
    "#     def euclidean_distance(x,y):\n",
    "#         print(-1 * round(math.sqrt(x**2+ y**2),4))\n",
    "#         return -1 * round(math.sqrt(x**2+ y**2),4)\n",
    "                \n",
    "                \n",
    "    "
   ]
  },
  {
   "cell_type": "code",
   "execution_count": 66,
   "metadata": {},
   "outputs": [
    {
     "name": "stdout",
     "output_type": "stream",
     "text": [
      "-3.1623\n",
      "-2.8284\n",
      "-2.8284\n",
      "[([-2, 2], -2.8284)]\n"
     ]
    },
    {
     "data": {
      "text/plain": [
       "[[1, 3], [-2, 2]]"
      ]
     },
     "execution_count": 66,
     "metadata": {},
     "output_type": "execute_result"
    }
   ],
   "source": [
    "Solution().kClosest([[1,3],[-2,2]], 1)"
   ]
  },
  {
   "cell_type": "code",
   "execution_count": null,
   "metadata": {},
   "outputs": [],
   "source": []
  },
  {
   "cell_type": "code",
   "execution_count": 72,
   "metadata": {},
   "outputs": [],
   "source": [
    "z = [([-2, 2], -2.8284)]\n",
    "a =  [point[0]for point in z]"
   ]
  },
  {
   "cell_type": "code",
   "execution_count": 70,
   "metadata": {},
   "outputs": [
    {
     "data": {
      "text/plain": [
       "[2.8284]"
      ]
     },
     "execution_count": 70,
     "metadata": {},
     "output_type": "execute_result"
    }
   ],
   "source": [
    "a"
   ]
  },
  {
   "cell_type": "code",
   "execution_count": null,
   "metadata": {},
   "outputs": [],
   "source": [
    "import heapq,math \n",
    "class Solution:\n",
    "    def kClosest(self, points: List[List[int]], K: int) -> List[List[int]]:\n",
    "        \n",
    "        closest = []\n",
    "        \n",
    "        def euclidean_distance(x,y):\n",
    "            print(x,y)\n",
    "            print(math.sqrt(x**2+ y**2))\n",
    "            return math.sqrt(x**2+ y**2)\n",
    "        \n",
    "        for point in points:\n",
    "            if len(closest) < K:\n",
    "                heapq.heappush(closest, (point,euclidean_distance(point[0], point[1])))\n",
    "            \n",
    "            elif euclidean_distance(point[0], point[1]) < closest[0][1]:\n",
    "                heapq.heappop(closest)\n",
    "                heapq.heappush(closest,(point, euclidean_distance(point[0], point[1])))\n",
    "                \n",
    "            print(closest)\n",
    "                \n",
    "                \n",
    "        return [point[0] for point in closest]\n",
    "                    \n",
    "\n",
    "            \n",
    "            \n",
    "        \n",
    "         \n",
    "        "
   ]
  }
 ],
 "metadata": {
  "kernelspec": {
   "display_name": "Python 3",
   "language": "python",
   "name": "python3"
  },
  "language_info": {
   "codemirror_mode": {
    "name": "ipython",
    "version": 3
   },
   "file_extension": ".py",
   "mimetype": "text/x-python",
   "name": "python",
   "nbconvert_exporter": "python",
   "pygments_lexer": "ipython3",
   "version": "3.7.0"
  }
 },
 "nbformat": 4,
 "nbformat_minor": 2
}
