{
 "cells": [
  {
   "cell_type": "code",
   "execution_count": null,
   "metadata": {},
   "outputs": [],
   "source": [
    "n = 4\n",
    "for i in range(1,n+1):\n",
    "    print(i,bin(i))"
   ]
  },
  {
   "cell_type": "code",
   "execution_count": null,
   "metadata": {},
   "outputs": [],
   "source": [
    "a = 'aba'\n",
    "b = 'bb'\n",
    "\n",
    "z  = max(a, b, key = lambda x: x[1]- x[0])"
   ]
  },
  {
   "cell_type": "code",
   "execution_count": null,
   "metadata": {},
   "outputs": [],
   "source": [
    "#code\n",
    "test_cases = int(input())\n",
    "while test_cases >=1:\n",
    "    string = str(input())\n",
    "    string_list = string.split(\".\")\n",
    "    result = \"\"\n",
    "    print(string_list)\n",
    "    for i in range(len(string_list)-1, -1, -1):\n",
    "        print(string_list[i])\n",
    "        result = result + string_list[i]+\".\"\n",
    "        \n",
    "    print(result)\n",
    "    result = result.rstrip(\".\")\n",
    "    test_cases -=1\n",
    "    print(result)"
   ]
  },
  {
   "cell_type": "markdown",
   "metadata": {},
   "source": [
    "# REVERSE STRING"
   ]
  },
  {
   "cell_type": "code",
   "execution_count": null,
   "metadata": {},
   "outputs": [],
   "source": [
    "#code\n",
    "string = \"i.like.this.program.very.much\"\n",
    "string_list = string.split(\".\")\n",
    "result = \"\"\n",
    "print(string_list)\n",
    "for i in range(len(string_list)-1, -1, -1):\n",
    "    result = result + string_list[i]+\".\"\n",
    "\n",
    "result = result.rstrip(\".\")\n",
    "print(result)"
   ]
  },
  {
   "cell_type": "code",
   "execution_count": null,
   "metadata": {},
   "outputs": [],
   "source": [
    "test_cases = int(input())\n",
    "while test_cases >=1:\n",
    "    char_array = [i for i in range(65,91)]\n",
    "    number = int(input())\n",
    "    number = number%26\n",
    "    print(chr(char_array[number-1]))"
   ]
  },
  {
   "cell_type": "markdown",
   "metadata": {},
   "source": [
    "# EXCEL NUMBER TO TILE"
   ]
  },
  {
   "cell_type": "code",
   "execution_count": null,
   "metadata": {},
   "outputs": [],
   "source": [
    "# given column number\n",
    "\n",
    "MAX = 50\n",
    "\n",
    "# Function to print Excel column name \n",
    "# for a given column number\n",
    "def printString(n):\n",
    "\n",
    "    # To store result (Excel column name)\n",
    "    string = [\"\\0\"] * MAX\n",
    "\n",
    "    # To store current index in str which is result\n",
    "    i = 0\n",
    "\n",
    "    while n > 0:\n",
    "        # Find remainder\n",
    "        rem = n % 26\n",
    "\n",
    "        # if remainder is 0, then a \n",
    "        # 'Z' must be there in output\n",
    "        if rem == 0:\n",
    "            string[i] = 'Z'\n",
    "            i += 1\n",
    "            n = int((n / 26)) - 1\n",
    "        else:\n",
    "            string[i] = chr((rem - 1) + ord('A'))\n",
    "            i += 1\n",
    "            n = int(n / 26)\n",
    "    string[i] = '\\0'\n",
    "\n",
    "    # Reverse the string and print result\n",
    "    string = string[::-1]\n",
    "    print(\"\".join(string))\n",
    "\n",
    "# Driver program to test the above Function\n",
    "printString(26)\n",
    "printString(51)\n",
    "printString(52)\n",
    "printString(80)\n",
    "printString(676)\n",
    "printString(702)\n",
    "printString(705)\n",
    "\n",
    "# This code is contributed by BHAVYA JAIN"
   ]
  },
  {
   "cell_type": "code",
   "execution_count": null,
   "metadata": {},
   "outputs": [],
   "source": [
    "MAX = 50\n",
    "def convert_number_to_string(n):\n",
    "    string = [\" \"]* MAX\n",
    "    i = 0\n",
    "    while n >= 0:\n",
    "        \n",
    "        rem = n % 26\n",
    "        if rem == 0:\n",
    "            string[i] = 'Z'\n",
    "            i += 1\n",
    "            n = int((n/26)) -1\n",
    "        else:\n",
    "            string[i] = chr((rem-1) + ord('A'))\n",
    "            n = int((n/26))\n",
    "            i +=1            \n",
    "\n",
    "    string[i] = ''\n",
    "    print(string)\n",
    "    string = string[::-1]\n",
    "    print(string)\n",
    "    result = \"\".join(string)\n",
    "    print(result)\n",
    "    \n",
    "\n",
    "             \n",
    "            \n",
    "        \n",
    "    "
   ]
  },
  {
   "cell_type": "code",
   "execution_count": null,
   "metadata": {},
   "outputs": [],
   "source": [
    "convert_number_to_string(705)"
   ]
  },
  {
   "cell_type": "markdown",
   "metadata": {},
   "source": [
    "# EXCEL ALPHA TO NUMBER"
   ]
  },
  {
   "cell_type": "code",
   "execution_count": null,
   "metadata": {},
   "outputs": [],
   "source": [
    "# Python program to return title to result  \n",
    "# of excel sheet.  \n",
    "  \n",
    "# Returns resul when we pass title.  \n",
    "def titleToNumber(s): \n",
    "    # This process is similar to binary-to-  \n",
    "    # decimal conversion  \n",
    "    result = 0;  \n",
    "    for B in range(len(s)):  \n",
    "        result *= 26;  \n",
    "        result += ord(s[B]) - ord('A') + 1;  \n",
    "        print(result)\n",
    "  \n",
    "    return result;  \n",
    "  \n",
    "# Driver function  \n",
    "print(titleToNumber(\"CDA\")); "
   ]
  },
  {
   "cell_type": "markdown",
   "metadata": {},
   "source": [
    "# FIRST NON REPEATING"
   ]
  },
  {
   "cell_type": "code",
   "execution_count": null,
   "metadata": {},
   "outputs": [],
   "source": [
    "s = 'hrlloh'\n",
    "hashmap = {}\n",
    "\n",
    "for i in range(len(s)):\n",
    "    \n",
    "    if s[i] not in hashmap:\n",
    "        hashmap[s[i]]= 1\n",
    "    else:\n",
    "        hashmap[s[i]] += 1\n",
    "for index,value in enumerate(s):\n",
    "    if value in hashmap and hashmap[value] == 1:\n",
    "        print(value)\n",
    "        break"
   ]
  },
  {
   "cell_type": "markdown",
   "metadata": {},
   "source": [
    "# increasing decreasing"
   ]
  },
  {
   "cell_type": "code",
   "execution_count": null,
   "metadata": {},
   "outputs": [],
   "source": [
    "# from collections import deque\n",
    "\n",
    "\n",
    "# # Function to decode the given sequence to construct minimum number\n",
    "# # without repeated digits\n",
    "# def decode(seq):\n",
    "\n",
    "#     # result store output String\n",
    "#     result = \"\"\n",
    "\n",
    "#     # create an empty stack of integers\n",
    "#     stack = deque()\n",
    "\n",
    "#     # run n+1 times where n is length of input sequence\n",
    "#     for i in range(len(seq) + 1):\n",
    "\n",
    "#         # push number i+1 into the stack\n",
    "#         stack.append(i + 1)\n",
    "\n",
    "#         # if all characters of the input sequence are processed or\n",
    "#         # current character is 'I' (increasing)\n",
    "#         if i == len(seq) or seq[i] == 'I':\n",
    "#             # run till stack is empty\n",
    "#             while stack:\n",
    "#                 # remove top element from the stack and add it to solution\n",
    "#                 result += str(stack.pop())\n",
    "\n",
    "#     return result\n",
    "\n",
    "\n",
    "# if __name__ == '__main__':\n",
    "\n",
    "#     seq = \"DIDI\" # input sequence\n",
    "\n",
    "#     print(\"Minimum number is\", decode(seq))"
   ]
  },
  {
   "cell_type": "code",
   "execution_count": null,
   "metadata": {},
   "outputs": [],
   "source": [
    "from collections import Counter\n",
    "\n",
    "products = ['eggs','milk','cheese']\n",
    "productPrices = [2.89,3.29,5.79]\n",
    "productsSold = ['eggs','eggs','milk','cheese']\n",
    "sellingPrices = [2.89,2.99,3.29,5.97]\n",
    "\n",
    "prod_price = dict(zip(products,productPrices))\n",
    "print(\"prod_price\", prod_price)\n",
    "prod_sold_dict = dict(Counter(productsSold))\n",
    "print(\"prod_sold_dict\", prod_sold_dict)"
   ]
  },
  {
   "cell_type": "code",
   "execution_count": null,
   "metadata": {},
   "outputs": [],
   "source": []
  },
  {
   "cell_type": "code",
   "execution_count": null,
   "metadata": {},
   "outputs": [],
   "source": [
    "prod_sold_dict"
   ]
  },
  {
   "cell_type": "code",
   "execution_count": null,
   "metadata": {},
   "outputs": [],
   "source": []
  },
  {
   "cell_type": "markdown",
   "metadata": {},
   "source": [
    "# Min path - DP"
   ]
  },
  {
   "cell_type": "code",
   "execution_count": null,
   "metadata": {},
   "outputs": [],
   "source": [
    "class Solution:\n",
    "    def minPathSum(self, grid: List[List[int]]) -> int:\n",
    "\n",
    "        for i in range(len(grid)):\n",
    "            for j in range(len(grid[0])):\n",
    "                \n",
    "                if i >0 and j > 0:\n",
    "                    grid[i][j] = min(grid[i][j] + grid[i][j-1], grid[i-1][j]+ grid[i][j])\n",
    "                    \n",
    "                elif i > 0:\n",
    "                    grid[i][j] += grid[i-1][j]\n",
    "                    \n",
    "                elif j > 0:\n",
    "                    grid[i][j] += grid[i][j-1]\n",
    "        print(grid)\n",
    "        return grid[-1][-1]\n",
    "                    "
   ]
  },
  {
   "cell_type": "markdown",
   "metadata": {},
   "source": [
    "# run length encoding"
   ]
  },
  {
   "cell_type": "code",
   "execution_count": 17,
   "metadata": {},
   "outputs": [
    {
     "data": {
      "text/plain": [
       "'w2a3b1'"
      ]
     },
     "execution_count": 17,
     "metadata": {},
     "output_type": "execute_result"
    }
   ],
   "source": [
    "s = \"wwaaab\"\n",
    "n = \"\"\n",
    "count = 1\n",
    "for index in range(1,len(s)):\n",
    "    if s[index] == s[index-1]:\n",
    "        count += 1\n",
    "        \n",
    "    elif s[index] != s[index-1]:\n",
    "        n += s[index-1] + str(count)\n",
    "        count = 1\n",
    "n += s[index]+ str(count)\n",
    "        \n",
    "n"
   ]
  },
  {
   "cell_type": "code",
   "execution_count": null,
   "metadata": {},
   "outputs": [],
   "source": [
    "\n",
    "    "
   ]
  },
  {
   "cell_type": "markdown",
   "metadata": {},
   "source": [
    "# Rain water tapping"
   ]
  },
  {
   "cell_type": "code",
   "execution_count": null,
   "metadata": {},
   "outputs": [],
   "source": [
    "class Solution:\n",
    "    def trap(self, height: List[int]) -> int:\n",
    "        \n",
    "        if len(height) == 0:\n",
    "            return 0\n",
    "        \n",
    "        result = 0\n",
    "        leftmax,rightmax = 0,0\n",
    "        left , right = 0, len(height)-1 \n",
    "\n",
    "        while left < right:\n",
    "\n",
    "            if height[left] <= height[right]:\n",
    "                leftmax = max(leftmax, height[left])\n",
    "                result += leftmax - height[left]\n",
    "                left += 1\n",
    "            else:\n",
    "                rightmax = max(rightmax, height[right])\n",
    "                result += rightmax - height[right]\n",
    "                right -=1\n",
    "\n",
    "        return result"
   ]
  },
  {
   "cell_type": "markdown",
   "metadata": {},
   "source": [
    "# buy and sell stocks"
   ]
  },
  {
   "cell_type": "code",
   "execution_count": null,
   "metadata": {},
   "outputs": [],
   "source": [
    "class Solution:\n",
    "    def maxProfit(self, prices: List[int]) -> int:\n",
    "        \n",
    "        minPrice , maxProfit = float('inf'), 0\n",
    "        if len(prices) == 0:\n",
    "            return 0\n",
    "\n",
    "        for i in range(len(prices)):\n",
    "            if prices[i] < minPrice:\n",
    "                minPrice = prices[i]\n",
    "            elif prices[i]-minPrice > maxProfit:\n",
    "                maxProfit = prices[i]- minPrice\n",
    "\n",
    "        return maxProfit"
   ]
  },
  {
   "cell_type": "markdown",
   "metadata": {},
   "source": [
    "# min distance by knight"
   ]
  },
  {
   "cell_type": "code",
   "execution_count": null,
   "metadata": {},
   "outputs": [],
   "source": [
    "class cell:\n",
    "    def __init__(self, x = 0, y = 0, dist = 0):\n",
    "        self.x = x\n",
    "        self.y = y\n",
    "        self.dist = dist\n",
    "\n",
    "def isInside(x,y,N):\n",
    "    if x >0 and x <= N  and y >0 and y <= N:\n",
    "        return True\n",
    "    else:\n",
    "        return False\n",
    "\n",
    "def minDistanceByAKnight(start, end , N):\n",
    "\n",
    "    dx = [2, 2, -2, -2, 1, 1, -1, -1] \n",
    "    dy = [1, -1, 1, -1, 2, -2, 2, -2] \n",
    "\n",
    "    queue = []\n",
    "\n",
    "    queue.append(cell(start[0], start[1], 0))\n",
    "    visited = [[False for i in range(N+1)] for j in range(N+1)]\n",
    "\n",
    "    visited[start[0]][start[1]]  = True\n",
    "\n",
    "    while len(queue) >0:\n",
    "\n",
    "        t = queue[0]\n",
    "        queue.pop(0)\n",
    "\n",
    "        if (t.x == end[0] and t.y == end[1]):\n",
    "            return t.dist\n",
    "\n",
    "        for i in range(8):\n",
    "\n",
    "            x = t.x+dx[i]\n",
    "            y = t.y + dy[i]\n",
    "\n",
    "            if isInside(x,y,N) and not visited[x][y]:\n",
    "                visited[x][y] = True\n",
    "                queue.append(cell(x,y, t.dist+ 1))\n",
    "\n",
    "\n",
    "if __name__ == '__main__':\n",
    "\n",
    "    N = 5\n",
    "    start  = [1,1]\n",
    "    end = [5,5]\n",
    "    print(minDistanceByAKnight(start, end, N))\n"
   ]
  },
  {
   "cell_type": "code",
   "execution_count": null,
   "metadata": {},
   "outputs": [],
   "source": [
    "l = [1,3,4]\n",
    "del l[0]"
   ]
  },
  {
   "cell_type": "code",
   "execution_count": null,
   "metadata": {},
   "outputs": [],
   "source": [
    "l"
   ]
  },
  {
   "cell_type": "markdown",
   "metadata": {},
   "source": [
    "# min max stack"
   ]
  },
  {
   "cell_type": "code",
   "execution_count": null,
   "metadata": {},
   "outputs": [],
   "source": [
    "# Feel free to add new properties and methods to the class.\n",
    "class MinMaxStack:\n",
    "    def __init__(self):\n",
    "        self.stack = []\n",
    "        self.minMaxStack = []\n",
    "\n",
    "    def peek(self):\n",
    "        # Write your code here.\n",
    "        return self.stack[len(self.stack)-1]\n",
    "\n",
    "    def pop(self):\n",
    "        # Write your code here.\n",
    "        self.minMaxStack.pop()\n",
    "        return self.stack.pop()\n",
    "\n",
    "    def push(self, number):\n",
    "        # Write your code here.\n",
    "        newMinMax = {'min': number, 'max': number}\n",
    "        if len(self.minMaxStack):\n",
    "            lastValue = self.minMaxStack[len(self.minMaxStack)-1]\n",
    "            newMinMax['min'] = min(number, lastValue['min'])\n",
    "            newMinMax['max'] = max(number, lastValue['max'])\n",
    "        self.minMaxStack.append(newMinMax)\n",
    "        self.stack.append(number)\n",
    "\n",
    "    def getMin(self):\n",
    "        # Write your code here.\n",
    "        return self.minMaxStack[len(self.minMaxStack)-1]['min']\n",
    "\n",
    "    def getMax(self):\n",
    "        # Write your code here.\n",
    "        return self.minMaxStack[len(self.minMaxStack)-1]['max']\n",
    "\n"
   ]
  },
  {
   "cell_type": "markdown",
   "metadata": {},
   "source": [
    "# max stack"
   ]
  },
  {
   "cell_type": "code",
   "execution_count": null,
   "metadata": {},
   "outputs": [],
   "source": [
    "# Feel free to add new properties and methods to the class.\n",
    "class MinMaxStack:\n",
    "    def __init__(self):\n",
    "        self.stack = []\n",
    "        self.minMaxStack = []\n",
    "\n",
    "    def peek(self):\n",
    "        # Write your code here.\n",
    "        return self.stack[len(self.stack)-1]\n",
    "\n",
    "    def pop(self):\n",
    "        # Write your code here.\n",
    "        self.minMaxStack.pop()\n",
    "        return self.stack.pop()\n",
    "\n",
    "    def push(self, number):\n",
    "        # Write your code here.\n",
    "        newMinMax = {'min': number, 'max': number}\n",
    "        if len(self.minMaxStack):\n",
    "            lastValue = self.minMaxStack[len(self.minMaxStack)-1]\n",
    "            newMinMax['min'] = min(number, lastValue['min'])\n",
    "            newMinMax['max'] = max(number, lastValue['max'])\n",
    "        self.minMaxStack.append(newMinMax)\n",
    "        self.stack.append(number)\n",
    "\n",
    "\n",
    "    def getMin(self):\n",
    "        # Write your code here.\n",
    "        return self.minMaxStack[len(self.minMaxStack)-1]['min']\n",
    "\n",
    "    def getMax(self):\n",
    "        # Write your code here.\n",
    "        return self.minMaxStack[len(self.minMaxStack)-1]['max']\n",
    "\n"
   ]
  },
  {
   "cell_type": "code",
   "execution_count": null,
   "metadata": {},
   "outputs": [],
   "source": [
    "class MinStack(object):\n",
    "\n",
    "    def __init__(self):\n",
    "        \"\"\"\n",
    "        initialize your data structure here.\n",
    "        \"\"\"\n",
    "        self.min_stack = []\n",
    "        self.min_val = float('inf')\n",
    "\n",
    "    def push(self, x):\n",
    "        \"\"\"\n",
    "        :type x: int\n",
    "        :rtype: None\n",
    "        \"\"\"\n",
    "        if len(self.min_stack) == 0:\n",
    "            # print(\"Here\")\n",
    "            self.min_val = float('inf')\n",
    "        else:\n",
    "            self.min_val = self.getMin()\n",
    "        if x < self.min_val:\n",
    "            self.min_val = x\n",
    "        self.min_stack.append((x,self.min_val))\n",
    "        # print(\"Printing Stack\", self.min_stack)\n",
    "     \n",
    "    def pop(self):\n",
    "        \"\"\"\n",
    "        :rtype: None\n",
    "        \"\"\"\n",
    "        if self.min_stack != None:\n",
    "            # print(\"Printing Popping\", self.min_stack[len(self.min_stack)-1][0])\n",
    "            return self.min_stack.pop()\n",
    "        else:\n",
    "            return None\n",
    "\n",
    "    def top(self):\n",
    "        \"\"\"\n",
    "        :rtype: int\n",
    "        \"\"\"\n",
    "        if not self.min_stack:\n",
    "            return None\n",
    "        return self.min_stack[len(self.min_stack)-1][0]\n",
    "        \n",
    "\n",
    "    def getMin(self):\n",
    "        \"\"\"\n",
    "        :rtype: int\n",
    "        \"\"\"\n",
    "        if len(self.min_stack) == 0:\n",
    "            return None\n",
    "        return self.min_stack[len(self.min_stack)-1][1]\n",
    "        \n",
    "\n",
    "\n",
    "# Your MinStack object will be instantiated and called as such:\n",
    "# obj = MinStack()\n",
    "# obj.push(x)\n",
    "# obj.pop()\n",
    "# param_3 = obj.top()\n",
    "# param_4 = obj.getMin()"
   ]
  },
  {
   "cell_type": "markdown",
   "metadata": {},
   "source": [
    "# 0 1 knapsak"
   ]
  },
  {
   "cell_type": "code",
   "execution_count": null,
   "metadata": {},
   "outputs": [],
   "source": [
    "def knapsackProblem(items, capacity):\n",
    "    # Write your code here.\n",
    "    # return [\n",
    "    #   10, // total value\n",
    "    #   [1, 2], // item indices\n",
    "    # ]\n",
    "    \n",
    "    knapsackValues = [[0 for i in range(capacity+1)] for j in range(len(items)+1)]\n",
    "\n",
    "    for i in range(1, len(items)+1):\n",
    "        currentWeight = items[i-1][1]\n",
    "        currentValue = items[i-1][0]\n",
    "        \n",
    "        for c in range(0,capacity+1):\n",
    "            if c >= currentWeight: \n",
    "                knapsackValues[i][c] = max(knapsackValues[i-1][c], knapsackValues[i-1][c-currentWeight]+ currentValue)\n",
    "                \n",
    "            else:\n",
    "                knapsackValues[i][c] = knapsackValues[i-1][c]\n",
    "                \n",
    "    return [knapsackValues[-1][-1], getItems(knapsackValues, items)]\n",
    "\n",
    "\n",
    "def getItems(knapsackValues, items):\n",
    "             \n",
    "    sequence = []\n",
    "    i = len(knapsackValues) -1\n",
    "    c = len(knapsackValues[0]) -1\n",
    "    \n",
    "    while i > 0:\n",
    "        if knapsackValues[i][c] == knapsackValues[i-1][c]:\n",
    "            i -=1\n",
    "        else:\n",
    "            sequence.append(i-1)\n",
    "            c -= items[i-1][1]\n",
    "            i -=1\n",
    "        if c == 0:\n",
    "            break \n",
    "    return list(reversed(sequence))"
   ]
  },
  {
   "cell_type": "markdown",
   "metadata": {},
   "source": [
    "#  balanced parenthesis"
   ]
  },
  {
   "cell_type": "code",
   "execution_count": null,
   "metadata": {},
   "outputs": [],
   "source": [
    "def balancedBrackets(string):\n",
    "    # Write your code here.\n",
    "    stack = []\n",
    "    for bracket in string:\n",
    "        if bracket in ['(' , '{' , '[']:\n",
    "            stack.append(bracket)\n",
    "\n",
    "\t\telif bracket in ['}', ']', ')']:\n",
    "\t\t\tif len(stack) == 0:\n",
    "\t\t\t\treturn False\n",
    "\t\t\t\t\n",
    "\t\t\telif stack[-1] == '{' and bracket == '}':\n",
    "\t\t\t\tstack.pop()\n",
    "\t\t\telif stack[-1] == '(' and bracket == ')':\n",
    "\t\t\t\tstack.pop()\n",
    "\t\t\telif stack[-1] == '[' and bracket == ']':\n",
    "\t\t\t\tstack.pop()\n",
    "\t\t\telse: \n",
    "\t\t\t\treturn False\n",
    "\t\t\t\n",
    "    return len(stack) == 0"
   ]
  },
  {
   "cell_type": "code",
   "execution_count": null,
   "metadata": {},
   "outputs": [],
   "source": [
    "def balancedBrackets(string):\n",
    "    # Write your code here.\n",
    "    stack = []\n",
    "\tmatchingPairs = {')' : '(', ']':'[', '}': '{'}\n",
    "    for bracket in string:\n",
    "        if bracket in ['(' , '{' , '[']:\n",
    "            stack.append(bracket)\n",
    "\n",
    "\t\telif bracket in ['}', ']', ')']:\n",
    "\t\t\tif len(stack) == 0:\n",
    "\t\t\t\treturn False\n",
    "\t\t\tif stack[-1] == matchingPairs[bracket]:\n",
    "\t\t\t\tstack.pop()\n",
    "\t\t\telse:\n",
    "\t\t\t\treturn False\n",
    "\t\n",
    "    return len(stack) == 0"
   ]
  },
  {
   "cell_type": "markdown",
   "metadata": {},
   "source": [
    "# min sub straing containg all chars of target string (AE Implementation)"
   ]
  },
  {
   "cell_type": "code",
   "execution_count": null,
   "metadata": {},
   "outputs": [],
   "source": []
  },
  {
   "cell_type": "code",
   "execution_count": null,
   "metadata": {},
   "outputs": [],
   "source": [
    "def getCharCounts(smallString):\n",
    "    charCount = {}\n",
    "    for char in charCount:\n",
    "        increaseCounts(char)\n",
    "    return charCount"
   ]
  },
  {
   "cell_type": "code",
   "execution_count": null,
   "metadata": {},
   "outputs": [],
   "source": [
    "def smallestSubstringContaining(bigString, smallString):\n",
    "    print(bigString, smallString)\n",
    "    targetCharCounts  = getCharCounts(smallString)\n",
    "    substringBounds = getSubstringCounts(bigString, targetCharCounts)\n",
    "    print(substringBounds)\n",
    "    return getSubstring(bigString, substringBounds)\n",
    "\n",
    "def getCharCounts(smallString):\n",
    "    charCounts = {}\n",
    "    for char in smallString:\n",
    "        increaseCounts(char, charCounts)\n",
    "    print(charCounts)\n",
    "    return charCounts\n",
    "           \n",
    "def getSubstringCounts(bigString, targetCharCounts):\n",
    "    substringBounds = [0,float(\"inf\")]\n",
    "    leftIdx , rightIdx = 0, 0\n",
    "    numUniqueChars = len(targetCharCounts.keys())\n",
    "    print(numUniqueChars)\n",
    "    uniqCharDone = 0\n",
    "    subCharCount = {}\n",
    "\n",
    "    while rightIdx < len(bigString):\n",
    "        rightChar = bigString[rightIdx]\n",
    "        print(rightChar)\n",
    "        if rightChar not in targetCharCounts:\n",
    "            rightIdx+=1\n",
    "            continue\n",
    "        increaseCounts(rightChar, subCharCount)\n",
    "        print(subCharCount)\n",
    "        if subCharCount[rightChar] == targetCharCounts[rightChar]:\n",
    "            uniqCharDone += 1\n",
    "        print(uniqCharDone)\n",
    "        while uniqCharDone == numUniqueChars and leftIdx <= rightIdx:\n",
    "            print(\"UD NUC\", uniqCharDone, numUniqueChars)\n",
    "            substringBounds = getSubStringBound(leftIdx, rightIdx, substringBounds[0], substringBounds[1])\n",
    "            leftChar = bigString[leftIdx]\n",
    "            print(\"LC\",leftChar)\n",
    "            if leftChar not in targetCharCounts:\n",
    "                leftIdx += 1\n",
    "                continue\n",
    "            if subCharCount[leftChar] == targetCharCounts[leftChar]:\n",
    "                uniqCharDone -=1\n",
    "            decreaseCounts(leftChar, subCharCount)\n",
    "            leftIdx +=1\n",
    "\n",
    "        rightIdx+=1\n",
    "        print(\"RI\", rightIdx)\n",
    "        \n",
    "    return substringBounds            \n",
    "            \n",
    "def getSubStringBound(id1, id2, id3, id4):\n",
    "    return [id1, id2] if id2 - id1 < id4-id3 else [id3,id4]\n",
    "\n",
    "\n",
    "def getSubstring(bigString,substringBounds):\n",
    "    print(substringBounds[0], substringBounds[1])\n",
    "\n",
    "    if substringBounds[1] == float(\"inf\"):\n",
    "        print(\"Yes\")\n",
    "        return ''\n",
    "    print(substringBounds[0], substringBounds[1])\n",
    "    return bigString[substringBounds[0] : substringBounds[1]+1]\n",
    "\n",
    "    \n",
    "def increaseCounts(char, charCounts):\n",
    "    if char not in charCounts:\n",
    "        charCounts[char] = 0\n",
    "    charCounts[char] += 1\n",
    "\n",
    "\n",
    "def decreaseCounts(char, charCount):\n",
    "    charCount[char] -=1\n",
    "    \n",
    "        "
   ]
  },
  {
   "cell_type": "code",
   "execution_count": null,
   "metadata": {},
   "outputs": [],
   "source": [
    "a = \"abcd$ef$axb$c$\"\n",
    "b = \"$$abf\"\n",
    "smallestSubstringContaining(a, b)"
   ]
  },
  {
   "cell_type": "markdown",
   "metadata": {},
   "source": [
    "# sum pairs with target sum "
   ]
  },
  {
   "cell_type": "code",
   "execution_count": null,
   "metadata": {},
   "outputs": [],
   "source": [
    "# a = [3, 5, 4, -8, 11, 1, -1, 6, 18, 5,5]\n",
    "# a = [10, 12, 10, 15, -1, 7, 6, \n",
    "#                    5, 4, 2, 1, 1, 1]\n",
    "a = [1, 5, 7, -1, 5] \n",
    "# n = len(arr) \n",
    "t = 6\n",
    "\n",
    "def targetPairs(a,t):\n",
    "    count = 0\n",
    "    hashmap = {}\n",
    "    res = []\n",
    "    \n",
    "    for num in a:\n",
    "        rem = t - num\n",
    "        if rem not in hashmap:\n",
    "            hashmap[num] = True\n",
    "        else:\n",
    "            count+=1\n",
    "            res.append([num, rem])\n",
    "    print(count)       \n",
    "    print(hashmap)\n",
    "    return res\n",
    "\n",
    "targetPairs(a,t)\n",
    "            \n",
    "        "
   ]
  },
  {
   "cell_type": "code",
   "execution_count": null,
   "metadata": {},
   "outputs": [],
   "source": [
    "# # Python 3 implementation of simple method \n",
    "# # to find count of pairs with given sum. \n",
    "# import sys \n",
    "\n",
    "# # Returns number of pairs in arr[0..n-1] \n",
    "# # with sum equal to 'sum' \n",
    "# def getPairsCount(arr, n, sum): \n",
    "\n",
    "#     m = [0] * 1000\n",
    "\n",
    "#     # Store counts of all elements in map m \n",
    "#     for i in range(0, n):\n",
    "        \n",
    "#         m[arr[i]] += 1\n",
    "        \n",
    "#         print(m[arr[i]], arr[i])\n",
    "#     twice_count = 0\n",
    "\n",
    "#     # Iterate through each element and increment \n",
    "#     # the count (Notice that every pair is \n",
    "#     # counted twice) \n",
    "#     for i in range(0, n): \n",
    "\n",
    "#         twice_count += m[sum - arr[i]]  \n",
    "\n",
    "#         # if (arr[i], arr[i]) pair satisfies the \n",
    "#         # condition, then we need to ensure that \n",
    "#         # the count is decreased by one such \n",
    "#         # that the (arr[i], arr[i]) pair is not \n",
    "#         # considered \n",
    "#         if (sum - arr[i] == arr[i]): \n",
    "#             twice_count -= 1\n",
    "\n",
    "#     # return the half of twice_c\n",
    "#     return int(twice_count / 2) \n",
    "\n",
    "# # Driver function \n",
    "# arr = [1, 5, 7, -1, 5] \n",
    "# n = len(arr) \n",
    "# sum = 6\n",
    "\n",
    "# print(\"Count of pairs is\", getPairsCount(arr,n, sum)) \n",
    "\n",
    "# # This code is contributed by \n",
    "# # Smitha Dinesh Semwal \n"
   ]
  },
  {
   "cell_type": "markdown",
   "metadata": {},
   "source": [
    "#  decode string"
   ]
  },
  {
   "cell_type": "code",
   "execution_count": null,
   "metadata": {},
   "outputs": [],
   "source": [
    "# #  on time o1 space \n",
    "# s = input()\n",
    "# ans = [1]\n",
    "# count = 0\n",
    "# for i in s:\n",
    "#     if i == 'I':\n",
    "#         count = 0\n",
    "#         k = len(ans)\n",
    "#         ans.append(k + 1)\n",
    "#     else:\n",
    "#         count += 1\n",
    "#         tmp = ans[-1]\n",
    "#         for i in range(-1, -1 - count, -1):\n",
    "#             ans[i] += 1\n",
    "#         ans.append(tmp)\n",
    "# for i in ans:\n",
    "#     print(i, end = \"\")"
   ]
  },
  {
   "cell_type": "code",
   "execution_count": 7,
   "metadata": {},
   "outputs": [
    {
     "name": "stdout",
     "output_type": "stream",
     "text": [
      "2 1 4 3 5 \n"
     ]
    }
   ],
   "source": [
    "#  on space on time \n",
    "Strr = 'DIDI'\n",
    "stack = []\n",
    "res = ''\n",
    "for i in range(len(Strr) + 1): \n",
    "\n",
    "    # Push number i+1 into the stack \n",
    "    stack.append(i + 1) \n",
    "\n",
    "    # If all characters of the input \n",
    "    # sequence are processed or current \n",
    "    # character is 'I  \n",
    "    if (i == len(Strr) or Strr[i] == 'I'): \n",
    "\n",
    "        # Run While Loop Untill stack is empty \n",
    "        while len(stack) > 0: \n",
    "\n",
    "            # pop the element on top of stack  \n",
    "            # And store it in result String \n",
    "            res += str(stack.pop()) \n",
    "            res += ' '\n",
    "\n",
    "# Print the result \n",
    "print(res)  "
   ]
  },
  {
   "cell_type": "markdown",
   "metadata": {},
   "source": [
    "#  min length subarray with sum > given number"
   ]
  },
  {
   "cell_type": "code",
   "execution_count": null,
   "metadata": {},
   "outputs": [],
   "source": [
    "# O(n) solution for finding smallest \n",
    "# subarray with sum greater than x \n",
    "\n",
    "# Returns length of smallest subarray \n",
    "# with sum greater than x. If there \n",
    "# is no subarray with given sum, then \n",
    "# returns n + 1 \n",
    "def smallestSubWithSum(arr, n, x): \n",
    "\n",
    "    # Initialize current sum and minimum length \n",
    "    curr_sum = 0\n",
    "    min_len = n + 1\n",
    "\n",
    "    # Initialize starting and ending indexes \n",
    "    start = 0\n",
    "    end = 0\n",
    "    while (end < n): \n",
    "\n",
    "        # Keep adding array elements while current \n",
    "        # sum is smaller than x \n",
    "        while (curr_sum <= x and end < n):\n",
    "            curr_sum += arr[end] \n",
    "            end+= 1\n",
    "\n",
    "        # If current sum becomes greater than x. \n",
    "        while (curr_sum > x and start < n): \n",
    "            print(\"currSum > x\", curr_sum)\n",
    "            # Update minimum length if needed \n",
    "            if (end - start < min_len): \n",
    "                min_len = end - start \n",
    "\n",
    "            # remove starting elements \n",
    "            curr_sum -= arr[start] \n",
    "            start+= 1\n",
    "            print(\"Start\",start)\n",
    "\n",
    "    return min_len \n",
    "\n",
    "# Driver program \n",
    "arr1 = [1, 4, 45, 6, 10, 19] \n",
    "x = 51\n",
    "n1 = len(arr1) \n",
    "res1 = smallestSubWithSum(arr1, n1, x) \n",
    "print(\"Not possible\") if (res1 == n1 + 1) else print(res1) \n"
   ]
  },
  {
   "cell_type": "markdown",
   "metadata": {},
   "source": [
    "# coins to make change"
   ]
  },
  {
   "cell_type": "code",
   "execution_count": null,
   "metadata": {},
   "outputs": [],
   "source": [
    "def minCoins(n, denoms):\n",
    "    \n",
    "    amount_array = [float('inf') for i in range(n+1)]\n",
    "    amount_array[0] = 0\n",
    "\n",
    "    for denom in denoms:\n",
    "        for amt in range(len(amount_array)):\n",
    "            \n",
    "            if denom <= amt:\n",
    "                amount_array[amt] = min(amount_array[amt], amount_array[amt-denom] +1)\n",
    "                \n",
    "    print(amount_array)\n",
    "    \n",
    "    print(amount_array[n] if amount_array[n]!= float('inf') else -1)            \n",
    "\n",
    "minCoins(12,[1,5,10])\n"
   ]
  },
  {
   "cell_type": "markdown",
   "metadata": {},
   "source": [
    "# print all results ( ways to make coins)"
   ]
  },
  {
   "cell_type": "code",
   "execution_count": 2,
   "metadata": {},
   "outputs": [
    {
     "name": "stdout",
     "output_type": "stream",
     "text": [
      "[1, 1, 1, 1, 1, 2, 2, 2, 2, 2, 4, 4, 4]\n"
     ]
    },
    {
     "data": {
      "text/plain": [
       "4"
      ]
     },
     "execution_count": 2,
     "metadata": {},
     "output_type": "execute_result"
    }
   ],
   "source": [
    "def minCoins(n, denoms):\n",
    "    \n",
    "    count_array = [0 for i in range(n+1)]\n",
    "    count_array[0] = 1\n",
    "\n",
    "    for denom in denoms:\n",
    "        for amt in range(1,n+1):\n",
    "            \n",
    "            if denom <= amt:\n",
    "                count_array[amt] += count_array[amt-denom]\n",
    "                \n",
    "    print(count_array)\n",
    "    return count_array[n]\n",
    "\n",
    "minCoins(12,[1,5,10])\n"
   ]
  },
  {
   "cell_type": "markdown",
   "metadata": {},
   "source": [
    "# longest pallindrome substring"
   ]
  },
  {
   "cell_type": "code",
   "execution_count": null,
   "metadata": {},
   "outputs": [],
   "source": [
    "def longestPalindromicSubstring(string):\n",
    "    # Write your code here.\n",
    "    currentLongest = [0,1]\n",
    "    for i in range(1,len(string)):\n",
    "        odd = getPallindromicSubstring(string, i-1, i+1)\n",
    "        even = getPallindromicSubstring(string, i-1, i)\n",
    "        longest = max(odd, even , key=(lambda x: x[1]- x[0]))\n",
    "        currentLongest = max(longest, currentLongest, key = lambda x: x[1] - x[0])\n",
    "        \n",
    "    return string[currentLongest[0]: currentLongest[1]]\n",
    "        \n",
    "        \n",
    "def getPallindromicSubstring(string, left, right):\n",
    "    \n",
    "    while  (left >=0 and right <len(string)) :\n",
    "        if string[left] != string[right]:\n",
    "            break\n",
    "        left-=1\n",
    "        right+=1\n",
    "        \n",
    "    return string[left+1:right]\n",
    "#  O(n2) \n"
   ]
  },
  {
   "cell_type": "markdown",
   "metadata": {},
   "source": [
    "\n",
    "# No of ways to reach nth stair"
   ]
  },
  {
   "cell_type": "code",
   "execution_count": null,
   "metadata": {},
   "outputs": [],
   "source": []
  },
  {
   "cell_type": "code",
   "execution_count": null,
   "metadata": {
    "scrolled": true
   },
   "outputs": [],
   "source": []
  },
  {
   "cell_type": "code",
   "execution_count": null,
   "metadata": {},
   "outputs": [],
   "source": [
    "#  [0 1 2 3 4 5]\n",
    "#  [1 1 2 3 4]\n",
    "def nthstair(n):\n",
    "    mem = [0 for i in range(n+1)]\n",
    "    mem[0], mem[1] = 1,1\n",
    "    for i in range(2,n+1):\n",
    "        mem[i] = mem[i-1]+ mem[i-2]\n",
    "        \n",
    "    print(mem)\n",
    "    print(mem[-1])\n",
    "\n",
    "nthstair(4)\n"
   ]
  },
  {
   "cell_type": "markdown",
   "metadata": {},
   "source": [
    "# egg dropping"
   ]
  },
  {
   "cell_type": "code",
   "execution_count": null,
   "metadata": {},
   "outputs": [],
   "source": [
    "#  O[n2*e]\n",
    "def eggdroppingSolver(n,e):\n",
    "    result = [[0 for i in range(e+1)] for j in range (n+1)]\n",
    "    for i in range(n+1):\n",
    "        result[i][1] = i\n",
    "    for i in range(e+1):\n",
    "        result[1][i] = 1\n",
    "        \n",
    "    for i in range (2,n+1):\n",
    "        for j in range(2, e+1):\n",
    "            result[i][j] = float('inf')\n",
    "            for x in range(1,i):\n",
    "                brokenEggRes = result[x-1][j-1]\n",
    "                survivedEggResult = result[i-x][j]\n",
    "                temp = max(brokenEggRes, survivedEggResult)+1\n",
    "                if temp < result[i][j]:\n",
    "                    result[i][j] = temp\n",
    "                \n",
    "    for i in range(n+1):\n",
    "        for j in range(e+1):\n",
    "            print(result[i][j], end = \" \")\n",
    "            \n",
    "        print(\"\") \n",
    "eggs = 4\n",
    "no_of_floors = 8\n",
    "eggdroppingSolver(no_of_floors, eggs)    \n",
    "    \n"
   ]
  },
  {
   "cell_type": "markdown",
   "metadata": {},
   "source": [
    "#  group anagrams"
   ]
  },
  {
   "cell_type": "code",
   "execution_count": null,
   "metadata": {},
   "outputs": [],
   "source": [
    "def groupAnagrams(words):\n",
    "    \n",
    "    if len(words) == 0:\n",
    "        return []\n",
    "    # Write your code here.\n",
    "    sortedWords = [\"\".join(sorted(word)) for word in words]\n",
    "    sortedIndicies = [i for i in range(len(words))]\n",
    "    sortedIndicies.sort(key = lambda x: sortedWords[x])\n",
    "    \n",
    "    result = []\n",
    "    currentAnagram = sortedWords[sortedIndicies[0]]\n",
    "    currentAnagramGroup = []\n",
    "    for index in sortedIndicies:\n",
    "        \n",
    "        word = words[index]\n",
    "        sortedWord = sortedWords[index]\n",
    "        \n",
    "        if sortedWord == currentAnagram:\n",
    "            currentAnagramGroup.append(word)\n",
    "            continue\n",
    "            \n",
    "        result.append(currentAnagramGroup)\n",
    "        currentAnagram = sortedWord\n",
    "        currentAnagramGroup = [word]\n",
    "        \n",
    "    result.append(currentAnagramGroup)\n",
    "    \n",
    "    return resut\n",
    "-----------------------------------------------------------------------------\n",
    "O wn\n",
    "time (w* nlogn)\n",
    "def groupAnagrams(words):\n",
    "    # Write your code here.\n",
    "    \n",
    "    anagrams = {}\n",
    "    for word in words:\n",
    "        sorted_word  = \"\".join(sorted(word))\n",
    "        if sorted_word in anagrams:\n",
    "            anagrams[sorted_word].append(word)\n",
    "        else:\n",
    "            anagrams[sorted_word] = [word]\n",
    "\n",
    "    return list(anagrams.values())"
   ]
  },
  {
   "cell_type": "markdown",
   "metadata": {},
   "source": [
    "# insertion sort"
   ]
  },
  {
   "cell_type": "code",
   "execution_count": null,
   "metadata": {},
   "outputs": [],
   "source": [
    "def insertionSort(array):\n",
    "    # Write your code here.\n",
    "\tfor i in range(1,len(array)):\n",
    "\t\tj = i\n",
    "\t\twhile j > 0 and array[j] < array[j-1]:\n",
    "\t\t\tswap(j,j-1,array)\n",
    "\t\t\tj -=1\n",
    "\t\t\t\n",
    "\treturn array\n",
    "\n",
    "def swap(i,j,array):\n",
    "\tarray[i], array[j] = array[j], array[i]\n",
    "    \n",
    "    \n",
    "    \n"
   ]
  },
  {
   "cell_type": "markdown",
   "metadata": {},
   "source": [
    "# bubble sort"
   ]
  },
  {
   "cell_type": "code",
   "execution_count": null,
   "metadata": {},
   "outputs": [],
   "source": [
    "def bubbleSort(array):\n",
    "    # Write your code here.\n",
    "    for i in range(len(array)-1,-1, -1):\n",
    "        for j in range(0,i):\n",
    "            if array[j] > array[j+1]:\n",
    "                array[j+1], array[j] = array[j], array[j+1]\n",
    "\t\t\n",
    "\treturn array"
   ]
  },
  {
   "cell_type": "markdown",
   "metadata": {},
   "source": [
    "# selection Sort"
   ]
  },
  {
   "cell_type": "code",
   "execution_count": null,
   "metadata": {},
   "outputs": [],
   "source": [
    "def selectionSort(array):\n",
    "    # Write your code here.\n",
    "    for i in range(len(array)):\n",
    "        pointer  = i\n",
    "        for j in range(i+1, len(array)):\n",
    "            if array[pointer] > array[j]:\n",
    "                pointer  = j\n",
    "                \n",
    "        swap(i,pointer,array)\n",
    "    return array\n",
    "\n",
    "def swap(i,j,array):\n",
    "        array[i], array[j] = array[j], array[i]"
   ]
  },
  {
   "cell_type": "markdown",
   "metadata": {},
   "source": [
    "# kadens algo"
   ]
  },
  {
   "cell_type": "code",
   "execution_count": null,
   "metadata": {},
   "outputs": [],
   "source": [
    "def kadanesAlgorithm(array):\n",
    "    # Write your code here.\n",
    "    currentSum = array[0]\n",
    "\tmaxSum = array[0]\n",
    "\tfor i in range(1,len(array)):\n",
    "\t\tnum= array[i]\n",
    "\t\tcurrentSum = max(num, currentSum+num)\n",
    "\t\tmaxSum = max(currentSum, maxSum)\n",
    "\t\t\n",
    "\treturn maxSum"
   ]
  },
  {
   "cell_type": "markdown",
   "metadata": {},
   "source": [
    "# trie Suffix Tree "
   ]
  },
  {
   "cell_type": "code",
   "execution_count": null,
   "metadata": {},
   "outputs": [],
   "source": [
    "# Do not edit the class below except for the\n",
    "# populateSuffixTrieFrom and contains methods.\n",
    "# Feel free to add new properties and methods\n",
    "# to the class.\n",
    "class SuffixTrie:\n",
    "    def __init__(self, string):\n",
    "        self.root = {}\n",
    "        self.endSymbol = \"*\"\n",
    "        self.populateSuffixTrieFrom(string)\n",
    "\n",
    "# \tO(n^2) time and space both\n",
    "    def populateSuffixTrieFrom(self, string):\n",
    "        # Write your code here.\n",
    "        for i in range(len(string)):\n",
    "\t\t\tself.populateSuffixHelper(i,string)\n",
    "\n",
    "\tdef populateSuffixHelper(self,i, string):\n",
    "\t\tnode = self.root\n",
    "\t\tfor j in range(i,len(string)):\n",
    "\t\t\tletter = string[j]\n",
    "\t\t\tif letter not in node:\n",
    "\t\t\t\tnode[letter] = {}\n",
    "\t\t\tnode = node[letter]\n",
    "\n",
    "\t\tnode[self.endSymbol] = True\n",
    "\n",
    "# \t\tOn time O1 space \n",
    "    def contains(self, string):\n",
    "        # Write your code here.\n",
    "        node = self.root\n",
    "\t\tfor letter in string:\n",
    "\t\t\tif letter not in node:\n",
    "\t\t\t\treturn False\n",
    "\t\t\tnode = node[letter]\n",
    "\t\t\t\n",
    "\t\treturn self.endSymbol in node"
   ]
  },
  {
   "cell_type": "markdown",
   "metadata": {},
   "source": [
    "# positional Element"
   ]
  },
  {
   "cell_type": "code",
   "execution_count": 1,
   "metadata": {},
   "outputs": [
    {
     "name": "stdout",
     "output_type": "stream",
     "text": [
      "7\n"
     ]
    }
   ],
   "source": [
    "arr = [[1, 3, 4], [5, 2, 9], [8, 7, 6]]\n",
    "\n",
    "def positional_element(arr):\n",
    "    rows = len(arr)\n",
    "    cols = len(arr[0])\n",
    "    \n",
    "    rowmin, rowmax, colmin, colmax = [float('inf') for i in range(rows)], [float('inf') for i in range(rows)], [float('inf') for i in range(rows)], [float('inf') for i in range(rows)],\n",
    "    \n",
    "    for i in range(len(arr)):\n",
    "        rmin = float('inf')\n",
    "        rmax = -float('inf')\n",
    "        for j in range(len(arr)):\n",
    "            if arr[i][j] < rmin:\n",
    "                rmin = arr[i][j]\n",
    "            if arr[i][j] > rmax:\n",
    "                rmax = arr[i][j]\n",
    "                \n",
    "        rowmax[i] = rmax\n",
    "        rowmin[i] = rmin\n",
    "            \n",
    "\n",
    "    for j in range(len(arr[0])):\n",
    "        cmin = float('inf')\n",
    "        cmax = -float('inf')\n",
    "        for i in range(len(arr)):\n",
    "            if arr[i][j] < cmin:\n",
    "                cmin = arr[i][j]\n",
    "            if arr[i][j] > cmax:\n",
    "                cmax = arr[i][j]\n",
    "\n",
    "               \n",
    "        colmax[j] = cmax\n",
    "        colmin[j] = cmin\n",
    "    count = 0\n",
    "    for i in range(len(arr)):\n",
    "        for j in range(len(arr[0])):\n",
    "            if arr[i][j] == rowmin[i] or arr[i][j] == rowmax[i] or  arr[i][j] == colmin[j] or arr[i][j] == colmax[j]:\n",
    "            \n",
    "                count +=1\n",
    "                \n",
    "    print(count)\n",
    "            \n",
    "    \n",
    "positional_element(arr)\n",
    "    \n"
   ]
  },
  {
   "cell_type": "markdown",
   "metadata": {},
   "source": [
    "# median of 2 sorted arrays"
   ]
  },
  {
   "cell_type": "code",
   "execution_count": null,
   "metadata": {},
   "outputs": [],
   "source": [
    "#  * Time complexity is O(log(min(x,y))\n",
    "#  * Space complexity is O(1)\n",
    "class Solution:\n",
    "    def findMedianSortedArrays(self, nums1: List[int], nums2: List[int]) -> float:\n",
    "        \n",
    "        if len(nums1) > len(nums2):\n",
    "            return self.findMedianSortedArrays(nums2, nums1)\n",
    "        \n",
    "        x = len(nums1)\n",
    "        y = len(nums2)\n",
    "        low = 0\n",
    "        high = x\n",
    "        \n",
    "        while low <=high:\n",
    "            partionX = (low+high) //2\n",
    "            partionY = (x+y+1) // 2 - partionX\n",
    "            \n",
    "            \n",
    "            maxleftX = -float('inf') if partionX == 0  else nums1[partionX-1]\n",
    "            minRighX = float('inf')  if partionX  == x else nums1[partionX] \n",
    "\n",
    "            maxleftY =  -float('inf') if partionY == 0 else nums2[partionY-1]\n",
    "            minRightY = float('inf') if partionY  == y else nums2[partionY]\n",
    "                \n",
    "            if maxleftX <=minRightY and maxleftY <= minRighX:\n",
    "                \n",
    "                if (x+y) % 2 == 0:\n",
    "                    return  float((max(maxleftX, maxleftY) + min(minRighX,minRightY)) / 2)\n",
    "                else:\n",
    "                    return  float(max(maxleftX,maxleftY))  \n",
    "\n",
    "            if maxleftX > minRightY:\n",
    "                high = partionX -1\n",
    "            else:\n",
    "                low = partionX+1\n",
    "                "
   ]
  },
  {
   "cell_type": "markdown",
   "metadata": {},
   "source": [
    "# find all permutations "
   ]
  },
  {
   "cell_type": "code",
   "execution_count": 15,
   "metadata": {},
   "outputs": [
    {
     "data": {
      "text/plain": [
       "[[1, 2, 3], [1, 3, 2], [2, 1, 3], [2, 3, 1], [3, 2, 1], [3, 1, 2]]"
      ]
     },
     "execution_count": 15,
     "metadata": {},
     "output_type": "execute_result"
    }
   ],
   "source": [
    "def getPermutations(array):\n",
    "    # Write your code here.\n",
    "    permutations = []\n",
    "    return getPermutationsHelper(0, array, permutations)\n",
    " \n",
    "def getPermutationsHelper(i, array, permutations):\n",
    "\n",
    "    if i == len(array)-1:\n",
    "        permutations.append(array[:])\n",
    "\n",
    "    else:\n",
    "        for j in range(i,len(array)):\n",
    "            swap(i,j,array)\n",
    "            getPermutationsHelper(i+1, array, permutations)\n",
    "            swap(i,j,array)\n",
    "            \n",
    "    return permutations\n",
    "          \n",
    "def swap(i,j, array):\n",
    "    array[i], array[j] = array[j],array[i]        \n",
    "    \n",
    "    \n",
    "perm = getPermutations([1,2,3])\n",
    "perm"
   ]
  },
  {
   "cell_type": "markdown",
   "metadata": {},
   "source": [
    "# next permutation solved in gs2"
   ]
  },
  {
   "cell_type": "code",
   "execution_count": null,
   "metadata": {},
   "outputs": [],
   "source": []
  },
  {
   "cell_type": "code",
   "execution_count": 1,
   "metadata": {},
   "outputs": [],
   "source": [
    "# def findNext(number,n): \n",
    "\n",
    "#     # Start from the right most digit and find the first \n",
    "#     # digit that is smaller than the digit next to it \n",
    "#     for i in range(n-1,0,-1): \n",
    "#         if number[i] > number[i-1]: \n",
    "#             break\n",
    "         \n",
    "#     if i == 1 and number[i] < number[i-1]:\n",
    "#         return \"Not possible\"\n",
    "    \n",
    "#     smallest = a\n",
    "# number = [6,2,1,5,4,3,0]\n",
    "# # number = [5,4,3,0]\n",
    "\n",
    "# findNext(number,4)"
   ]
  },
  {
   "cell_type": "code",
   "execution_count": null,
   "metadata": {},
   "outputs": [],
   "source": []
  },
  {
   "cell_type": "code",
   "execution_count": null,
   "metadata": {},
   "outputs": [],
   "source": []
  },
  {
   "cell_type": "code",
   "execution_count": null,
   "metadata": {},
   "outputs": [],
   "source": []
  }
 ],
 "metadata": {
  "kernelspec": {
   "display_name": "Python 3",
   "language": "python",
   "name": "python3"
  },
  "language_info": {
   "codemirror_mode": {
    "name": "ipython",
    "version": 3
   },
   "file_extension": ".py",
   "mimetype": "text/x-python",
   "name": "python",
   "nbconvert_exporter": "python",
   "pygments_lexer": "ipython3",
   "version": "3.7.0"
  }
 },
 "nbformat": 4,
 "nbformat_minor": 2
}
