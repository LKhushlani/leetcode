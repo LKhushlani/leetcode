{
 "cells": [
  {
   "cell_type": "code",
   "execution_count": null,
   "metadata": {},
   "outputs": [],
   "source": [
    "from itertools import combinations\n",
    "v = [1,2,3,34]\n",
    "\n",
    "c = list(combinations(v,2))\n",
    "target = 5"
   ]
  },
  {
   "cell_type": "code",
   "execution_count": null,
   "metadata": {},
   "outputs": [],
   "source": []
  },
  {
   "cell_type": "code",
   "execution_count": null,
   "metadata": {},
   "outputs": [],
   "source": [
    "for i, pair in enumerate(c):\n",
    "    if  pair[0] + pair[1] == target:\n",
    "        print([pair[0] , pair[1]])"
   ]
  },
  {
   "cell_type": "code",
   "execution_count": null,
   "metadata": {},
   "outputs": [],
   "source": [
    "sorted(v)"
   ]
  },
  {
   "cell_type": "code",
   "execution_count": null,
   "metadata": {},
   "outputs": [],
   "source": [
    "def twoNumberSum(array, targetSum):\n",
    "    # Write your code here.\n",
    "#   array = sorted(array)\n",
    "    array.sort()\n",
    "    print(array)\n",
    "    left = 0\n",
    "    right  = len(array)-1\n",
    "    while left <= right:\n",
    "        s = array[left]+ array[right]\n",
    "        if s == targetSum:\n",
    "            return [array[left], array[right]]\n",
    "        elif s < targetSum:\n",
    "            left += 1\n",
    "        else:\n",
    "            right -=1"
   ]
  },
  {
   "cell_type": "code",
   "execution_count": null,
   "metadata": {},
   "outputs": [],
   "source": [
    "a =[1,2,3,34]\n",
    "sub = [2,34]\n",
    "twoNumberSum(a,5)"
   ]
  },
  {
   "cell_type": "code",
   "execution_count": null,
   "metadata": {},
   "outputs": [],
   "source": [
    "def twoNumberSum(array, targetSum):\n",
    "    # Write your code here.\n",
    "#   array = sorted(array)\n",
    "    array.sort()\n",
    "    print(array)\n",
    "    left = 0\n",
    "    right  = len(array)-1\n",
    "    while left <= right:\n",
    "        s = array[left]+ array[right]\n",
    "        if s == targetSum:\n",
    "            return [array[left], array[right]]\n",
    "        elif s < targetSum:\n",
    "            left += 1\n",
    "        else:\n",
    "            right -=1"
   ]
  },
  {
   "cell_type": "code",
   "execution_count": null,
   "metadata": {},
   "outputs": [],
   "source": [
    "ind = [a.index(x) for x in sub]"
   ]
  },
  {
   "cell_type": "code",
   "execution_count": null,
   "metadata": {},
   "outputs": [],
   "source": [
    "ind"
   ]
  },
  {
   "cell_type": "code",
   "execution_count": null,
   "metadata": {},
   "outputs": [],
   "source": [
    "def isValidSubsequence(array, sequence):\n",
    "    # Write your code here.\n",
    "    ind = [array.index(x) if x else (return False) for x in sequence]\n",
    "    if ind == sorted(ind):\n",
    "        return 'true'\n",
    "    else:\n",
    "        print(ind)\n",
    "        print(sorted(ind))\n",
    "        return 'false'"
   ]
  },
  {
   "cell_type": "code",
   "execution_count": null,
   "metadata": {},
   "outputs": [],
   "source": [
    "a = [5, 1, 22, 25, 6, -1, 8, 10]\n",
    "sequence= [1, 6, -1, 10]"
   ]
  },
  {
   "cell_type": "code",
   "execution_count": null,
   "metadata": {},
   "outputs": [],
   "source": [
    "isValidSubsequence(a,sequence)"
   ]
  },
  {
   "cell_type": "markdown",
   "metadata": {},
   "source": [
    "# closest value in BST"
   ]
  },
  {
   "cell_type": "code",
   "execution_count": null,
   "metadata": {},
   "outputs": [],
   "source": [
    "def findClosestValueInBst(tree, target):\n",
    "    # Write your code here.\n",
    "    print(\"Tree\", tree.value, target)\n",
    "    if tree.value == target:\n",
    "        return tree.value\n",
    "    elif target > tree.value:\n",
    "        print(\"2nd if\")\n",
    "        print(\"2nd if value\",tree.value)\n",
    "        print(\"tree right\", tree.right.value)\n",
    "        if tree.right is not None:\n",
    "            print(\"tree right not none\")\n",
    "            print(tree.right.value)\n",
    "            return findClosestValueInBst(tree.right,target)\n",
    "        else:\n",
    "            print(\"None\")\n",
    "            return tree.value\n",
    "    elif target < tree.value:\n",
    "        print(\"In left tree.value\", tree.value)\n",
    "        if tree.left is not None:\n",
    "            print(\"Tree.left ! none\", tree.left.value)\n",
    "            return findClosestValueInBst(tree.left,target)\n",
    "        else:\n",
    "            print(\"Return tree vlaue\", tree.value)\n",
    "            value = tree.value\n",
    "            print(value)\n",
    "            return value"
   ]
  },
  {
   "cell_type": "code",
   "execution_count": null,
   "metadata": {},
   "outputs": [],
   "source": [
    "# import program\n",
    "import unittest\n",
    "\n",
    "\n",
    "class BST:\n",
    "    def __init__(self, value):\n",
    "        self.value = value\n",
    "        self.left = None\n",
    "        self.right = None\n",
    "\n",
    "\n",
    "class TestProgram(unittest.TestCase):\n",
    "    def test_case_1(self):\n",
    "        root = BST(10)\n",
    "        root.left = BST(5)\n",
    "        root.left.left = BST(2)\n",
    "        root.left.left.left = BST(1)\n",
    "        root.left.right = BST(5)\n",
    "        root.right = BST(15)\n",
    "        root.right.left = BST(13)\n",
    "        root.right.left.right = BST(14)\n",
    "        root.right.right = BST(22)\n",
    "        expected = 13\n",
    "        actual = findClosestValueInBst(root, 12)\n",
    "#         print(actual)\n"
   ]
  },
  {
   "cell_type": "code",
   "execution_count": null,
   "metadata": {},
   "outputs": [],
   "source": [
    "actual = TestProgram.test_case_1(\"abc\")"
   ]
  },
  {
   "cell_type": "code",
   "execution_count": null,
   "metadata": {},
   "outputs": [],
   "source": [
    "type(actual)"
   ]
  },
  {
   "cell_type": "code",
   "execution_count": null,
   "metadata": {},
   "outputs": [],
   "source": [
    "#test\n",
    "d = [1]\n",
    "if d.pop() is None:\n",
    "    print(\"S\")"
   ]
  },
  {
   "cell_type": "markdown",
   "metadata": {},
   "source": [
    "# tree depths"
   ]
  },
  {
   "cell_type": "code",
   "execution_count": null,
   "metadata": {},
   "outputs": [],
   "source": [
    "def nodeDepths(root):\n",
    "    \n",
    "    stack = [{'node': root, 'depth': 0}]\n",
    "    while  len(stack) > 0:\n",
    "        info = stack.pop()\n",
    "        node, depth = info['node'], info['value']\n",
    "        if node is None:\n",
    "            continue\n",
    "        depthSum += depth\n",
    "        stack.append({'node': node.left, 'depth': depth+1})\n",
    "        stack.append({'node': node.right, 'depth': depth+1})\n",
    "        "
   ]
  },
  {
   "cell_type": "markdown",
   "metadata": {},
   "source": [
    "# BinarySErch"
   ]
  },
  {
   "cell_type": "code",
   "execution_count": null,
   "metadata": {},
   "outputs": [],
   "source": [
    "def binarySearch(array, target):\n",
    "    # Write your code here.\n",
    "    start = 0\n",
    "    end = len(array)-1\n",
    "    while start <= end:\n",
    "        print(start, end)\n",
    "        middle = (start + end)//2\n",
    "        if target > array[middle]:\n",
    "            start  = middle+1\n",
    "        elif target < array[middle]:\n",
    "            end  = middle+1\n",
    "        else:\n",
    "            print(\"Array\",array[middle])\n",
    "            return middle"
   ]
  },
  {
   "cell_type": "code",
   "execution_count": null,
   "metadata": {},
   "outputs": [],
   "source": [
    "array = [0, 1, 21, 33, 45, 45, 61, 71, 72, 73]\n",
    "target  = 61\n",
    "midd = binarySearch(array,target)"
   ]
  },
  {
   "cell_type": "code",
   "execution_count": null,
   "metadata": {},
   "outputs": [],
   "source": [
    "midd"
   ]
  },
  {
   "cell_type": "code",
   "execution_count": null,
   "metadata": {},
   "outputs": [],
   "source": [
    "def findThreeLargestNumbers(array):\n",
    "\n",
    "    result = array[:3]\n",
    "    rem = array[3:]\n",
    "    \n",
    "    for i in range(0,len(rem)):\n",
    "        print(i)\n",
    "        if rem[i] > result[0]:\n",
    "            rem[i], result[0]  = result[0],rem[i]\n",
    "        if rem[i] > result[1]:\n",
    "            rem[i], result[1]  = result[1],rem[i]\n",
    "        if rem[i] > result[2]:\n",
    "            rem[i], result[2]  = result[2],rem[i]\n",
    "            \n",
    "    return sorted(result)"
   ]
  },
  {
   "cell_type": "code",
   "execution_count": null,
   "metadata": {},
   "outputs": [],
   "source": [
    "a = [7, 8, 3, 11, 43, 55]\n",
    "val = findThreeLargestNumbers(a)\n",
    "val"
   ]
  },
  {
   "cell_type": "markdown",
   "metadata": {},
   "source": [
    "# method 2"
   ]
  },
  {
   "cell_type": "code",
   "execution_count": null,
   "metadata": {},
   "outputs": [],
   "source": [
    "res = [n, n,n] ]\n",
    "a = [7,8,3,11,43,55]\n",
    "num = 3\n"
   ]
  },
  {
   "cell_type": "code",
   "execution_count": null,
   "metadata": {},
   "outputs": [],
   "source": [
    "def findThreeLargestNumbers(array):\n",
    "    result  = [None,None,None]\n",
    "    for num in array:\n",
    "        updateLargest(result,num)\n",
    "\n",
    "def updateLargest(result, num):\n",
    "    if result[2] is None or num > result[2]:\n",
    "        shiftUpdate(result ,num, 2)\n",
    "    elif result[1] is None or num > result[1]:\n",
    "        shiftUpdate(result, num, 1)\n",
    "    elif result[0] is None or num > result[0]:\n",
    "        shiftUpdate(result,num, 0)\n",
    "        \n",
    "def shiftUpdate(result,num, idx):\n",
    "    # idx  = 2\n",
    "    # r = [n,n,n]\n",
    "    # num  = 7\n",
    "    for i in range(idx+1):\n",
    "        # i = 0,1\n",
    "        if i == idx:\n",
    "            result[i] = num\n",
    "        else:\n",
    "            # resul [0] = result[1]\n",
    "            # re[1] = re[2]\n",
    "            #r[2] = num\n",
    "            result[i] = result[i+1]\n",
    "        \n",
    "    return result\n",
    "    \n",
    "    \n",
    "    "
   ]
  },
  {
   "cell_type": "markdown",
   "metadata": {},
   "source": [
    "# bubble sort"
   ]
  },
  {
   "cell_type": "code",
   "execution_count": null,
   "metadata": {},
   "outputs": [],
   "source": [
    "def bubbleSort(array):\n",
    "    # Write your code here.\n",
    "    for i in range(len(array)-1,-1, -1):\n",
    "        for j in range(0,i):\n",
    "            if array[j] > array[j+1]:\n",
    "                array[j+1], array[j] = array[j], array[j+1]\n",
    "        print(array)"
   ]
  },
  {
   "cell_type": "code",
   "execution_count": null,
   "metadata": {},
   "outputs": [],
   "source": [
    "ar = [7,8,3,11,43,55]\n",
    "bubbleSort(ar)"
   ]
  },
  {
   "cell_type": "markdown",
   "metadata": {},
   "source": [
    "# Seletion sort"
   ]
  },
  {
   "cell_type": "code",
   "execution_count": null,
   "metadata": {},
   "outputs": [],
   "source": [
    "def selectionSort(array):\n",
    "    # Write your code here.\n",
    "    for i in range(len(array)):\n",
    "        pointer  = i\n",
    "        print(\"I\", i, array[i])\n",
    "        for j in range(i+1, len(array)):\n",
    "            if array[pointer] > array[j]:\n",
    "                pointer  = j\n",
    "                \n",
    "        swap(i,pointer,array)\n",
    "    return array\n",
    "\n",
    "def swap(i,j,array):\n",
    "        array[i], array[j] = array[j], array[i]"
   ]
  },
  {
   "cell_type": "code",
   "execution_count": null,
   "metadata": {},
   "outputs": [],
   "source": [
    "ar = [8, 5, 2, 9, 5, 6, 3]\n",
    "selectionSort(ar)"
   ]
  },
  {
   "cell_type": "markdown",
   "metadata": {},
   "source": [
    "# Caesar cypher encryptor"
   ]
  },
  {
   "cell_type": "code",
   "execution_count": null,
   "metadata": {},
   "outputs": [],
   "source": [
    "A = ord('A')"
   ]
  },
  {
   "cell_type": "code",
   "execution_count": null,
   "metadata": {},
   "outputs": [],
   "source": [
    "B = A+2"
   ]
  },
  {
   "cell_type": "code",
   "execution_count": null,
   "metadata": {},
   "outputs": [],
   "source": [
    "chr(B)"
   ]
  },
  {
   "cell_type": "code",
   "execution_count": null,
   "metadata": {},
   "outputs": [],
   "source": [
    "a= {1:2,3:4}"
   ]
  },
  {
   "cell_type": "code",
   "execution_count": null,
   "metadata": {},
   "outputs": [],
   "source": [
    "val1 = 1\n",
    "val2 = 2\n",
    "\n",
    "if val2 in a:\n",
    "    print(\"T\")"
   ]
  },
  {
   "cell_type": "code",
   "execution_count": 9,
   "metadata": {},
   "outputs": [],
   "source": [
    "b  =  [12, 3, 1, 2, -6, 5, -8, 6]\n",
    "b = sorted(b)"
   ]
  },
  {
   "cell_type": "code",
   "execution_count": 10,
   "metadata": {},
   "outputs": [
    {
     "data": {
      "text/plain": [
       "[-8, -6, 1, 2, 3, 5, 6, 12]"
      ]
     },
     "execution_count": 10,
     "metadata": {},
     "output_type": "execute_result"
    }
   ],
   "source": [
    "b"
   ]
  },
  {
   "cell_type": "markdown",
   "metadata": {},
   "source": [
    "# 3 sum"
   ]
  },
  {
   "cell_type": "code",
   "execution_count": 14,
   "metadata": {},
   "outputs": [],
   "source": [
    "result = []\n",
    "def threeNumberSum(array, targetSum):\n",
    "    # Write your code here.\n",
    "    array = sorted(array)\n",
    "    print(\"Array\", array)\n",
    "    for index,n in enumerate(array):\n",
    "        start = index+1\n",
    "        end = len(array)-1\n",
    "        rem = targetSum-n\n",
    "        print(\"Rem strt endd\", rem, start,end)\n",
    "        while start< end:\n",
    "            print(\"In while\")\n",
    "            if array[start] + array[end] == rem:\n",
    "                print(\"A\",[n,array[start],array[end]])\n",
    "                result.append([n,array[start],array[end]])\n",
    "                start += 1\n",
    "                end -=1\n",
    "            elif array[start] + array[end] > rem:\n",
    "                print(\"End\")\n",
    "                end -=1\n",
    "            elif array[start] + array[end] < rem:\n",
    "                print(\"S\")\n",
    "                start +=1 \n",
    "                \n",
    "    return result\n"
   ]
  },
  {
   "cell_type": "code",
   "execution_count": 15,
   "metadata": {},
   "outputs": [
    {
     "name": "stdout",
     "output_type": "stream",
     "text": [
      "Array [-8, -6, 1, 2, 3, 5, 6, 12]\n",
      "Rem strt endd 8 1 7\n",
      "In while\n",
      "S\n",
      "In while\n",
      "End\n",
      "In while\n",
      "S\n",
      "In while\n",
      "A [-8, 2, 6]\n",
      "In while\n",
      "A [-8, 3, 5]\n",
      "Rem strt endd 6 2 7\n",
      "In while\n",
      "End\n",
      "In while\n",
      "End\n",
      "In while\n",
      "A [-6, 1, 5]\n",
      "In while\n",
      "S\n",
      "Rem strt endd -1 3 7\n",
      "In while\n",
      "End\n",
      "In while\n",
      "End\n",
      "In while\n",
      "End\n",
      "In while\n",
      "End\n",
      "Rem strt endd -2 4 7\n",
      "In while\n",
      "End\n",
      "In while\n",
      "End\n",
      "In while\n",
      "End\n",
      "Rem strt endd -3 5 7\n",
      "In while\n",
      "End\n",
      "In while\n",
      "End\n",
      "Rem strt endd -5 6 7\n",
      "In while\n",
      "End\n",
      "Rem strt endd -6 7 7\n",
      "Rem strt endd -12 8 7\n"
     ]
    }
   ],
   "source": [
    "a  =  [12, 3, 1, 2, -6, 5, -8, 6]\n",
    "t = 0\n",
    "r = threeNumberSum(a,t)"
   ]
  },
  {
   "cell_type": "raw",
   "metadata": {},
   "source": [
    "r"
   ]
  },
  {
   "cell_type": "code",
   "execution_count": 16,
   "metadata": {},
   "outputs": [
    {
     "data": {
      "text/plain": [
       "[[-8, 2, 6], [-8, 3, 5], [-6, 1, 5]]"
      ]
     },
     "execution_count": 16,
     "metadata": {},
     "output_type": "execute_result"
    }
   ],
   "source": [
    "r"
   ]
  },
  {
   "cell_type": "markdown",
   "metadata": {},
   "source": [
    "# smallest difference"
   ]
  },
  {
   "cell_type": "code",
   "execution_count": 20,
   "metadata": {},
   "outputs": [],
   "source": [
    "def smallestDifference(arrayOne, arrayTwo):\n",
    "    # Write your code here.\n",
    "    arrayOne.sort()\n",
    "    arrayTwo.sort()\n",
    "    p1 = 0\n",
    "    p2 = 0\n",
    "    current = float('inf')\n",
    "    smallest = float('inf')\n",
    "    while p1 < len(arrayOne) and p2 < len(arrayTwo):\n",
    "        current = abs(arrayOne[p1] - arrayTwo[p2])\n",
    "        print(\"C\",current)\n",
    "        if current == 0:\n",
    "            return [arrayOne[p1], arrayTwo[p2]]\n",
    "        elif current <= smallest:\n",
    "            smallest = current\n",
    "            in1 = p1\n",
    "            in2 = p2\n",
    "            print(\"Smallest\", smallest)\n",
    "        if arrayOne[p1] <= arrayTwo[p2]:\n",
    "            p1 += 1\n",
    "        else:\n",
    "            p2 += 1\n",
    "        print(\"P1, p2\", p1, p2)\n",
    "    return  [arrayOne[in1], arrayTwo[in2]]"
   ]
  },
  {
   "cell_type": "code",
   "execution_count": 21,
   "metadata": {},
   "outputs": [
    {
     "name": "stdout",
     "output_type": "stream",
     "text": [
      "C 16\n",
      "Smallest 16\n",
      "P1, p2 1 0\n",
      "C 12\n",
      "Smallest 12\n",
      "P1, p2 2 0\n",
      "C 10\n",
      "Smallest 10\n",
      "P1, p2 3 0\n",
      "C 5\n",
      "Smallest 5\n",
      "P1, p2 4 0\n",
      "C 5\n",
      "Smallest 5\n",
      "P1, p2 4 1\n",
      "C 3\n",
      "Smallest 3\n",
      "P1, p2 4 2\n",
      "C 6\n",
      "P1, p2 5 2\n",
      "C 2\n",
      "Smallest 2\n",
      "P1, p2 5 3\n",
      "C 106\n",
      "P1, p2 6 3\n"
     ]
    }
   ],
   "source": [
    "a1 = [-1, 5, 10, 20, 28, 3]\n",
    "a2 = [26, 134, 135, 15, 17]\n",
    "r = smallestDifference(a1,a2)"
   ]
  },
  {
   "cell_type": "code",
   "execution_count": 22,
   "metadata": {},
   "outputs": [
    {
     "data": {
      "text/plain": [
       "[28, 26]"
      ]
     },
     "execution_count": 22,
     "metadata": {},
     "output_type": "execute_result"
    }
   ],
   "source": [
    "r"
   ]
  },
  {
   "cell_type": "code",
   "execution_count": null,
   "metadata": {},
   "outputs": [],
   "source": []
  },
  {
   "cell_type": "markdown",
   "metadata": {},
   "source": [
    "# 17. move numbers"
   ]
  },
  {
   "cell_type": "code",
   "execution_count": 16,
   "metadata": {},
   "outputs": [],
   "source": [
    "def moveElementToEnd(array, toMove):\n",
    "    ptr = 0\n",
    "    count = 0\n",
    "    length = len(array)\n",
    "    print(\"length\", length)\n",
    "    for index, value  in enumerate(array):\n",
    "        if value == toMove:\n",
    "            count += 1\n",
    "        else:\n",
    "            array[ptr] = value\n",
    "            ptr += 1 \n",
    "    print(array)\n",
    "    print(\"ptr\", ptr)\n",
    "    print(\"count\", count)\n",
    "    print(\"Start\", length-1, \"end\", length-count-1)\n",
    "    for i in range(ptr, len(array)):\n",
    "        array[i] = toMove\n",
    "    print(array)\n",
    "    return array\n",
    "    \n",
    "        "
   ]
  },
  {
   "cell_type": "code",
   "execution_count": 17,
   "metadata": {},
   "outputs": [
    {
     "name": "stdout",
     "output_type": "stream",
     "text": [
      "length 17\n",
      "[1, 2, 3, 4, 6, 7, 8, 9, 10, 11, 12, 7, 8, 9, 10, 11, 12]\n",
      "ptr 11\n",
      "count 6\n",
      "Start 16 end 10\n",
      "[1, 2, 3, 4, 6, 7, 8, 9, 10, 11, 12, 5, 5, 5, 5, 5, 5]\n"
     ]
    },
    {
     "data": {
      "text/plain": [
       "[1, 2, 3, 4, 6, 7, 8, 9, 10, 11, 12, 5, 5, 5, 5, 5, 5]"
      ]
     },
     "execution_count": 17,
     "metadata": {},
     "output_type": "execute_result"
    }
   ],
   "source": [
    "a = [5, 5, 5, 5, 5, 5, 1, 2, 3, 4, 6, 7, 8, 9, 10, 11, 12]\n",
    "t = 5\n",
    "moveElementToEnd(a,t)"
   ]
  },
  {
   "cell_type": "code",
   "execution_count": 18,
   "metadata": {},
   "outputs": [],
   "source": [
    "def moveElementToEnd(array, toMove):\n",
    "    ptr = 0\n",
    "    count = 0\n",
    "    for value  in array:\n",
    "        if value == toMove:\n",
    "            count += 1\n",
    "        else:\n",
    "            array[ptr] = value\n",
    "            ptr += 1 \n",
    "    for i in range(ptr, len(array)):\n",
    "        array[i] = toMove\n",
    "    return array"
   ]
  },
  {
   "cell_type": "markdown",
   "metadata": {},
   "source": [
    "# monotonous array"
   ]
  },
  {
   "cell_type": "code",
   "execution_count": 3,
   "metadata": {},
   "outputs": [],
   "source": [
    "def isMonotonic(array):\n",
    "    # Wri your code here.\n",
    "    p1,count = 0, 0\n",
    "    p2 = 1\n",
    "\n",
    "    for i in range(len(array) -1):\n",
    "        if check == 'asc':\n",
    "            print(array[p1], array[p2])\n",
    "            if array[p1] <= array[p2]:\n",
    "                count += 1\n",
    "            else:\n",
    "                return False\n",
    "        else:\n",
    "            print(\"In else\")\n",
    "            print(array[p1], array[p2])\n",
    "            if array[p1] >= array[p2]:\n",
    "                count += 1\n",
    "            else:\n",
    "                return False\n",
    "        p1 += 1\n",
    "        p2 +=1\n",
    "    print(count,p1,p2)\n",
    "    if count+1 == len(array):\n",
    "        return True"
   ]
  },
  {
   "cell_type": "code",
   "execution_count": 6,
   "metadata": {},
   "outputs": [
    {
     "data": {
      "text/plain": [
       "True"
      ]
     },
     "execution_count": 6,
     "metadata": {},
     "output_type": "execute_result"
    }
   ],
   "source": [
    "a= [1, 1, 2, 3, 4, 5, 5, 5, 6, 7, 8, 8, 9, 10, 11]\n",
    "isMonotonicA(a)"
   ]
  },
  {
   "cell_type": "code",
   "execution_count": 5,
   "metadata": {},
   "outputs": [],
   "source": [
    "def isMonotonicA(array):\n",
    "    # Write your code here.\n",
    "    isIncreaing = True\n",
    "    isDecreasing = True\n",
    "    for i in range(1,len(array)):\n",
    "        if array[i] < array[i-1]:\n",
    "            isDecreasing = False\n",
    "        if array[i] > array[i-1]:\n",
    "            isIncreasing = False\n",
    "\n",
    "    return isIncreasing or isDecreasing"
   ]
  },
  {
   "cell_type": "code",
   "execution_count": 30,
   "metadata": {},
   "outputs": [],
   "source": [
    "def isMonotonicB(array):\n",
    "    # Write your code here.\n",
    "    if len(array) <= 2:\n",
    "        return True\n",
    "    direction = array[1] - array[0]\n",
    "    print(direction)\n",
    "    for i in range(1,len(array)):\n",
    "        if direction == 0:\n",
    "            direction = array[i] - array[i-1]\n",
    "            print(\"d=0\", direction)\n",
    "\n",
    "        if changeDirection(array[i], array[i-1], direction):\n",
    "            print(\"Changed Dir\")\n",
    "            return False\n",
    "    return True\n",
    "\n",
    "def changeDirection(curr, prev, direction):\n",
    "\n",
    "    diff = curr - prev\n",
    "    print(curr, prev, diff)\n",
    "    if direction < 0:\n",
    "        print(\"D<0\")\n",
    "        return diff > 0\n",
    "    return diff < 0"
   ]
  },
  {
   "cell_type": "markdown",
   "metadata": {},
   "source": [
    "# Spiral Array"
   ]
  },
  {
   "cell_type": "code",
   "execution_count": 41,
   "metadata": {},
   "outputs": [],
   "source": [
    "# array = [[1, 2, 3, 4], [12, 13, 14, 5], [11, 16, 15, 6], [10, 9, 8, 7]]\n",
    "# array = [\n",
    "#     [4, 2, 3, 6, 7, 8, 1, 9, 5, 10],\n",
    "#     [12, 19, 15, 16, 20, 18, 13, 17, 11, 14]\n",
    "#   ]\n",
    "array = [\n",
    "    [27, 12, 35, 26],\n",
    "    [25, 21, 94, 11],\n",
    "    [19, 96, 43, 56],\n",
    "    [55, 36, 10, 18],\n",
    "    [96, 83, 31, 94],\n",
    "    [93, 11, 90, 16]\n",
    "  ]\n",
    "result = []"
   ]
  },
  {
   "cell_type": "code",
   "execution_count": 42,
   "metadata": {},
   "outputs": [
    {
     "name": "stdout",
     "output_type": "stream",
     "text": [
      "0 5 0 3\n",
      "27 12 35 26 1 6\n"
     ]
    },
    {
     "ename": "IndexError",
     "evalue": "list index out of range",
     "output_type": "error",
     "traceback": [
      "\u001b[1;31m---------------------------------------------------------------------------\u001b[0m",
      "\u001b[1;31mIndexError\u001b[0m                                Traceback (most recent call last)",
      "\u001b[1;32m<ipython-input-42-c2a1d514f511>\u001b[0m in \u001b[0;36m<module>\u001b[1;34m()\u001b[0m\n\u001b[0;32m     24\u001b[0m         \u001b[0mer\u001b[0m \u001b[1;33m-=\u001b[0m \u001b[1;36m1\u001b[0m\u001b[1;33m\u001b[0m\u001b[0m\n\u001b[0;32m     25\u001b[0m \u001b[1;33m\u001b[0m\u001b[0m\n\u001b[1;32m---> 26\u001b[1;33m \u001b[0mspiralTraverse\u001b[0m\u001b[1;33m(\u001b[0m\u001b[0marray\u001b[0m\u001b[1;33m)\u001b[0m\u001b[1;33m\u001b[0m\u001b[0m\n\u001b[0m",
      "\u001b[1;32m<ipython-input-42-c2a1d514f511>\u001b[0m in \u001b[0;36mspiralTraverse\u001b[1;34m(array)\u001b[0m\n\u001b[0;32m      9\u001b[0m         \u001b[0mprint\u001b[0m\u001b[1;33m(\u001b[0m\u001b[0msr\u001b[0m\u001b[1;33m+\u001b[0m\u001b[1;36m1\u001b[0m\u001b[1;33m,\u001b[0m \u001b[0mer\u001b[0m\u001b[1;33m+\u001b[0m\u001b[1;36m1\u001b[0m\u001b[1;33m)\u001b[0m\u001b[1;33m\u001b[0m\u001b[0m\n\u001b[0;32m     10\u001b[0m         \u001b[1;32mfor\u001b[0m \u001b[0mi\u001b[0m \u001b[1;32min\u001b[0m \u001b[0mrange\u001b[0m\u001b[1;33m(\u001b[0m\u001b[0msr\u001b[0m\u001b[1;33m+\u001b[0m\u001b[1;36m1\u001b[0m\u001b[1;33m,\u001b[0m \u001b[0mer\u001b[0m\u001b[1;33m+\u001b[0m\u001b[1;36m1\u001b[0m\u001b[1;33m)\u001b[0m\u001b[1;33m:\u001b[0m\u001b[1;33m\u001b[0m\u001b[0m\n\u001b[1;32m---> 11\u001b[1;33m             \u001b[0mresult\u001b[0m\u001b[1;33m.\u001b[0m\u001b[0mappend\u001b[0m\u001b[1;33m(\u001b[0m\u001b[0marray\u001b[0m\u001b[1;33m[\u001b[0m\u001b[0mi\u001b[0m\u001b[1;33m]\u001b[0m\u001b[1;33m[\u001b[0m\u001b[0mer\u001b[0m\u001b[1;33m]\u001b[0m\u001b[1;33m)\u001b[0m\u001b[1;33m\u001b[0m\u001b[0m\n\u001b[0m\u001b[0;32m     12\u001b[0m             \u001b[0mprint\u001b[0m\u001b[1;33m(\u001b[0m\u001b[0marray\u001b[0m\u001b[1;33m[\u001b[0m\u001b[0mi\u001b[0m\u001b[1;33m]\u001b[0m\u001b[1;33m[\u001b[0m\u001b[0mer\u001b[0m\u001b[1;33m]\u001b[0m\u001b[1;33m,\u001b[0m \u001b[0mend\u001b[0m\u001b[1;33m=\u001b[0m\u001b[1;34m\" \"\u001b[0m\u001b[1;33m)\u001b[0m\u001b[1;33m\u001b[0m\u001b[0m\n\u001b[0;32m     13\u001b[0m \u001b[1;33m\u001b[0m\u001b[0m\n",
      "\u001b[1;31mIndexError\u001b[0m: list index out of range"
     ]
    }
   ],
   "source": [
    "def spiralTraverse(array):\n",
    "    sr, er = 0, len(array)-1\n",
    "    sc, ec = 0, len(array[0])-1\n",
    "    print(sr,er,sc,ec)\n",
    "    while sr<= er and sc <= ec :\n",
    "        for i in range(sc,ec+1):\n",
    "            result.append(array[sc][i])\n",
    "            print(array[sc][i], end=\" \")\n",
    "        print(sr+1, er+1)\n",
    "        for i in range(sr+1, er+1):\n",
    "            result.append(array[i][er])\n",
    "            print(array[i][er], end=\" \")\n",
    "            \n",
    "        for i in range(ec-1,sc-1, -1):\n",
    "            result.append(array[ec][i])\n",
    "            print(array[ec][i], end=\" \")\n",
    "        for i in range(er-1,sr,-1):\n",
    "            result.append(array[i][sr])\n",
    "            print(array[i][sr], end=\" \")\n",
    "            \n",
    "        sc += 1\n",
    "        ec -= 1\n",
    "        sr += 1\n",
    "        er -= 1\n",
    "\n",
    "spiralTraverse(array)    "
   ]
  },
  {
   "cell_type": "code",
   "execution_count": 11,
   "metadata": {},
   "outputs": [
    {
     "ename": "SyntaxError",
     "evalue": "unexpected EOF while parsing (<ipython-input-11-233427492a9e>, line 15)",
     "output_type": "error",
     "traceback": [
      "\u001b[1;36m  File \u001b[1;32m\"<ipython-input-11-233427492a9e>\"\u001b[1;36m, line \u001b[1;32m15\u001b[0m\n\u001b[1;33m    while direction == 'D' and i < len(array) and j < len(array[0]):\u001b[0m\n\u001b[1;37m                                                                    ^\u001b[0m\n\u001b[1;31mSyntaxError\u001b[0m\u001b[1;31m:\u001b[0m unexpected EOF while parsing\n"
     ]
    }
   ],
   "source": [
    "def spiralTraverse(array):\n",
    "    # Write your code here.\n",
    "    direction = 'R'\n",
    "    i,j = 0,0\n",
    "    result = []\n",
    "    while direction == 'R' and  i < len(array) and j < len(array[0]):\n",
    "        result.append(array[i][j])\n",
    "        j+=1\n",
    "        if j == len(array[0])-1: \n",
    "            direction = 'D'\n",
    "            result.append(arrat[i][j])\n",
    "            j = 0\n",
    "            i += 1\n",
    "            break\n",
    "    while direction == 'D' and i < len(array) and j < len(array[0]):"
   ]
  },
  {
   "cell_type": "markdown",
   "metadata": {},
   "source": [
    "## try 2"
   ]
  },
  {
   "cell_type": "code",
   "execution_count": 48,
   "metadata": {},
   "outputs": [],
   "source": [
    "array = [\n",
    "    [27, 12, 35, 26],\n",
    "    [25, 21, 94, 11],\n",
    "    [19, 96, 43, 56],\n",
    "    [55, 36, 10, 18],\n",
    "    [96, 83, 31, 94],\n",
    "    [93, 11, 90, 16]\n",
    "  ]\n",
    "result = []"
   ]
  },
  {
   "cell_type": "code",
   "execution_count": 53,
   "metadata": {},
   "outputs": [
    {
     "name": "stdout",
     "output_type": "stream",
     "text": [
      "0 5 0 3\n",
      "27 12 35 26 S\n",
      "11 56 18 94 16 T\n",
      "90 11 93 P\n",
      "EC, SC 1 4\n",
      "i, sc 4 0\n",
      "96 EC, SC 1 4\n",
      "i, sc 3 0\n",
      "55 EC, SC 1 4\n",
      "i, sc 2 0\n",
      "19 EC, SC 1 4\n",
      "i, sc 1 0\n",
      "25 H\n",
      "21 94 S\n",
      "43 10 31 T\n",
      "83 P\n",
      "EC, SC 2 3\n",
      "i, sc 3 1\n",
      "36 EC, SC 2 3\n",
      "i, sc 2 1\n",
      "96 H\n"
     ]
    }
   ],
   "source": [
    "def spiralTraverse(array):\n",
    "    sr, er = 0, len(array)-1\n",
    "    sc, ec = 0, len(array[0])-1\n",
    "    print(sr,er,sc,ec)\n",
    "    \n",
    "    while sr<= er and sc <= ec :\n",
    "        \n",
    "        for i in range(sc,ec+1):\n",
    "            result.append(array[sr][i])\n",
    "            print(array[sr][i], end=\" \")\n",
    "        \n",
    "        sr += 1\n",
    "        for i in range(sr, er+1):\n",
    "            result.append(array[i][ec])\n",
    "            print(array[i][ec], end=\" \")\n",
    "            \n",
    "        ec -=1\n",
    "        for i in range(ec,sc-1, -1):\n",
    "            result.append(array[er][i])\n",
    "            print(array[er][i], end=\" \")\n",
    "            \n",
    "        er -=1\n",
    "        for i in range(er,sr,-1):\n",
    "            result.append(array[i][sc])\n",
    "            print(array[i][sc], end=\" \")\n",
    "        sc += 1\n",
    "            \n",
    "spiralTraverse(array)  "
   ]
  },
  {
   "cell_type": "code",
   "execution_count": 55,
   "metadata": {},
   "outputs": [
    {
     "name": "stdout",
     "output_type": "stream",
     "text": [
      "[27, 12, 35, 26, 11, 56, 18, 94, 16, 90, 11, 93, 96, 55, 19, 21, 94, 43, 10, 31, 83, 36, 27, 12, 35, 26, 11, 56, 18, 94, 16, 90, 11, 93, 96, 55, 19, 21, 94, 43, 10, 31, 83, 36, 27, 12, 35, 26, 11, 56, 18, 94, 16, 90, 11, 93, 96, 55, 19, 21, 94, 43, 10, 31, 83, 36, 27, 12, 35, 26, 11, 56, 18, 94, 16, 90, 11, 93, 96, 55, 19, 21, 94, 43, 10, 31, 83, 36, 27, 12, 35, 26, 11, 56, 18, 94, 16, 90, 11, 93, 96, 55, 19, 25, 21, 94, 43, 10, 31, 83, 36, 96]\n"
     ]
    }
   ],
   "source": [
    "print(result)"
   ]
  },
  {
   "cell_type": "code",
   "execution_count": 56,
   "metadata": {},
   "outputs": [],
   "source": [
    "array = [\n",
    "    [27, 12, 35, 26],\n",
    "    [25, 21, 94, 11],\n",
    "    [19, 96, 43, 56],\n",
    "    [55, 36, 10, 18],\n",
    "    [96, 83, 31, 94],\n",
    "    [93, 11, 90, 16]\n",
    "  ]\n",
    "result = []"
   ]
  },
  {
   "cell_type": "code",
   "execution_count": 59,
   "metadata": {},
   "outputs": [],
   "source": [
    "def spiralTraverse(array):\n",
    "    result = []\n",
    "    sr, er = 0, len(array)-1\n",
    "    sc, ec = 0, len(array[0])-1\n",
    "\n",
    "    while sr<= er and sc <= ec :\n",
    "        for i in range(sc,ec+1):\n",
    "            result.append(array[sr][i])\n",
    "\n",
    "        for i in range(sr+1, er+1):\n",
    "            result.append(array[i][ec])\n",
    "            print(array[i][ec], end=\" \")\n",
    "\n",
    "        for i in range(ec-1,sc-1, -1):\n",
    "            result.append(array[er][i])\n",
    "            print(array[er][i], end=\" \")\n",
    "        for i in range(er-1,sr,-1):\n",
    "            result.append(array[i][sc])\n",
    "            print(array[i][sc], end=\" \")\n",
    "\n",
    "        sc += 1\n",
    "        ec -= 1\n",
    "        sr += 1\n",
    "        er -= 1\n",
    "\n",
    "\n",
    "    return result"
   ]
  },
  {
   "cell_type": "code",
   "execution_count": 60,
   "metadata": {},
   "outputs": [
    {
     "name": "stdout",
     "output_type": "stream",
     "text": [
      "11 56 18 94 16 90 11 93 96 55 19 25 43 10 31 83 36 96 "
     ]
    },
    {
     "data": {
      "text/plain": [
       "[27,\n",
       " 12,\n",
       " 35,\n",
       " 26,\n",
       " 11,\n",
       " 56,\n",
       " 18,\n",
       " 94,\n",
       " 16,\n",
       " 90,\n",
       " 11,\n",
       " 93,\n",
       " 96,\n",
       " 55,\n",
       " 19,\n",
       " 25,\n",
       " 21,\n",
       " 94,\n",
       " 43,\n",
       " 10,\n",
       " 31,\n",
       " 83,\n",
       " 36,\n",
       " 96]"
      ]
     },
     "execution_count": 60,
     "metadata": {},
     "output_type": "execute_result"
    }
   ],
   "source": [
    "spiralTraverse(array)"
   ]
  },
  {
   "cell_type": "markdown",
   "metadata": {},
   "source": [
    "# Longest Peak"
   ]
  },
  {
   "cell_type": "code",
   "execution_count": 72,
   "metadata": {},
   "outputs": [],
   "source": [
    "array = [1, 2, 3, 3, 4, 0, 10, 6, 5, -1, -3, 2, 3]\n",
    "\n",
    "def longestPeak(array):\n",
    "    # Write your code here.\n",
    "    count, maxCount = 1,0\n",
    "    maxNo = None\n",
    "    \n",
    "    for i in range(len(array)-1):\n",
    "        if array[i] < array[i+1]:\n",
    "            print(\"one\",  array[i], array[i+1] )\n",
    "            count += 1\n",
    "            print(\"Count\", count)\n",
    "        elif array[i] == array[i+1]:\n",
    "            print(\"2\",  array[i], array[i+1] )\n",
    "            count = 1\n",
    "        if count > maxCount:\n",
    "            print(\"M\",maxCount)\n",
    "            maxCount = count\n",
    "            print(\"MaxCount\", maxCount)\n",
    "    return maxCount"
   ]
  },
  {
   "cell_type": "code",
   "execution_count": 73,
   "metadata": {},
   "outputs": [
    {
     "name": "stdout",
     "output_type": "stream",
     "text": [
      "one 1 2\n",
      "Count 2\n",
      "M 0\n",
      "MaxCount 2\n",
      "one 2 3\n",
      "Count 3\n",
      "M 2\n",
      "MaxCount 3\n",
      "2 3 3\n",
      "one 3 4\n",
      "Count 2\n",
      "one 0 10\n",
      "Count 3\n",
      "one -3 2\n",
      "Count 4\n",
      "M 3\n",
      "MaxCount 4\n",
      "one 2 3\n",
      "Count 5\n",
      "M 4\n",
      "MaxCount 5\n"
     ]
    },
    {
     "data": {
      "text/plain": [
       "5"
      ]
     },
     "execution_count": 73,
     "metadata": {},
     "output_type": "execute_result"
    }
   ],
   "source": [
    "longestPeak(array)"
   ]
  },
  {
   "cell_type": "code",
   "execution_count": 9,
   "metadata": {},
   "outputs": [],
   "source": [
    "def longestPeak(array):\n",
    "    # Write your code here.\n",
    "    lengthOfLongestPeak = 0\n",
    "    i = 1\n",
    "    while i < len(array)-1:\n",
    "        isPeak = array[i-1] < array[i] and array[i] > array[i+1]\n",
    "        if not isPeak:\n",
    "            i += 1\n",
    "            continue\n",
    "        leftI = i-2\n",
    "        while leftI >= 0 and array[leftI] < array[leftI+1]:\n",
    "            leftI -=1\n",
    "        \n",
    "        rightI = i+2\n",
    "        while rightI < len(array) and array[rightI] < array[rightI-1]:\n",
    "            rightI += 1\n",
    "        currentLength = rightI - leftI -1\n",
    "        print(currentLength)\n",
    "\n",
    "        lengthOfLongestPeak = max(lengthOfLongestPeak, currentLength)\n",
    "        i = rightI\n",
    "        \n",
    "    return lengthOfLongestPeak\n",
    "        "
   ]
  },
  {
   "cell_type": "code",
   "execution_count": 10,
   "metadata": {},
   "outputs": [
    {
     "name": "stdout",
     "output_type": "stream",
     "text": [
      "3\n",
      "6\n"
     ]
    },
    {
     "data": {
      "text/plain": [
       "6"
      ]
     },
     "execution_count": 10,
     "metadata": {},
     "output_type": "execute_result"
    }
   ],
   "source": [
    "longestPeak([1, 2, 3, 3, 4, 0, 10, 6, 5, -1, -3, 2, 3])                             "
   ]
  },
  {
   "cell_type": "markdown",
   "metadata": {},
   "source": [
    "# Binary Nitish "
   ]
  },
  {
   "cell_type": "code",
   "execution_count": 24,
   "metadata": {
    "scrolled": false
   },
   "outputs": [],
   "source": [
    "# start = 1\n",
    "# end = 65\n",
    "# for i in range(start, end+1):\n",
    "#     print(i,bin(i))"
   ]
  },
  {
   "cell_type": "code",
   "execution_count": 47,
   "metadata": {},
   "outputs": [],
   "source": [
    "import pandas as pd\n",
    "df = pd.DataFrame({'gin': [123,567,4321], 'amount': [12345.123,12345.123,1212311]})"
   ]
  },
  {
   "cell_type": "code",
   "execution_count": 48,
   "metadata": {},
   "outputs": [
    {
     "data": {
      "text/html": [
       "<div>\n",
       "<style scoped>\n",
       "    .dataframe tbody tr th:only-of-type {\n",
       "        vertical-align: middle;\n",
       "    }\n",
       "\n",
       "    .dataframe tbody tr th {\n",
       "        vertical-align: top;\n",
       "    }\n",
       "\n",
       "    .dataframe thead th {\n",
       "        text-align: right;\n",
       "    }\n",
       "</style>\n",
       "<table border=\"1\" class=\"dataframe\">\n",
       "  <thead>\n",
       "    <tr style=\"text-align: right;\">\n",
       "      <th></th>\n",
       "      <th>gin</th>\n",
       "      <th>amount</th>\n",
       "    </tr>\n",
       "  </thead>\n",
       "  <tbody>\n",
       "    <tr>\n",
       "      <th>0</th>\n",
       "      <td>123</td>\n",
       "      <td>12345.123</td>\n",
       "    </tr>\n",
       "    <tr>\n",
       "      <th>1</th>\n",
       "      <td>567</td>\n",
       "      <td>12345.123</td>\n",
       "    </tr>\n",
       "    <tr>\n",
       "      <th>2</th>\n",
       "      <td>4321</td>\n",
       "      <td>1212311.000</td>\n",
       "    </tr>\n",
       "  </tbody>\n",
       "</table>\n",
       "</div>"
      ],
      "text/plain": [
       "    gin       amount\n",
       "0   123    12345.123\n",
       "1   567    12345.123\n",
       "2  4321  1212311.000"
      ]
     },
     "execution_count": 48,
     "metadata": {},
     "output_type": "execute_result"
    }
   ],
   "source": [
    "df "
   ]
  },
  {
   "cell_type": "code",
   "execution_count": 49,
   "metadata": {},
   "outputs": [
    {
     "data": {
      "text/plain": [
       "dict_values([12345.123, 12345.123, 1212311.0])"
      ]
     },
     "execution_count": 49,
     "metadata": {},
     "output_type": "execute_result"
    }
   ],
   "source": [
    "area_dict = dict(zip(df.gin, df.amount))\n",
    "area_dict\n",
    "area_dict.values()"
   ]
  },
  {
   "cell_type": "code",
   "execution_count": 50,
   "metadata": {},
   "outputs": [],
   "source": [
    "amt_list = [12345.123,12345.123]\n",
    "for a in amt_list:\n",
    "    if a in area_dict.values():\n",
    "        gin_l = list(area_dict.keys())[list(area_dict.values()).index(a)]\n"
   ]
  },
  {
   "cell_type": "code",
   "execution_count": 51,
   "metadata": {},
   "outputs": [
    {
     "data": {
      "text/plain": [
       "123"
      ]
     },
     "execution_count": 51,
     "metadata": {},
     "output_type": "execute_result"
    }
   ],
   "source": [
    "gin_l"
   ]
  },
  {
   "cell_type": "markdown",
   "metadata": {},
   "source": [
    "# Binary Tree"
   ]
  },
  {
   "cell_type": "code",
   "execution_count": null,
   "metadata": {},
   "outputs": [],
   "source": []
  },
  {
   "cell_type": "code",
   "execution_count": null,
   "metadata": {},
   "outputs": [],
   "source": [
    "class BST:\n",
    "    def __init__(self, value):\n",
    "        self.value = value\n",
    "        self.left = None\n",
    "        self.right = None\n",
    "\n",
    "    def insert(self, value):\n",
    "        currentN = self\n",
    "        while currentN is not None:\n",
    "            if value < currentN.value: \n",
    "                if currentN.left is not None:\n",
    "                    currentN = currentN.left\n",
    "                else:\n",
    "                    currentN.left.value = BST(value)               \n",
    "            else:\n",
    "                if currentN.right is not None:\n",
    "                    currentN = currentN.right\n",
    "                else:\n",
    "                    currentN.right.value = BST(value)\n",
    "        return self\n",
    "\n",
    "    def contains(self, value):\n",
    "        currentN = self\n",
    "        while currentN is not None:\n",
    "            if currentN.value == value:\n",
    "                return True\n",
    "            elif value < currentN.value: \n",
    "                currentN = currentN.left              \n",
    "            else:\n",
    "                currentN = currentN.right\n",
    "        return False\n",
    "\n",
    "    def remove(self, value):\n",
    "        currentN = self\n",
    "        while currentN is not None:\n",
    "            if value < currentN.value and currentN.left is not None: \n",
    "                parentN = currentN\n",
    "                currentN = currentN.left    \n",
    "            elif value > currentN.value and currentN.right is not None:\n",
    "                parentN = currentN\n",
    "                currentN = currentN.right \n",
    "            else:\n",
    "                if currentN\n",
    "            \n",
    "\n",
    "        return self"
   ]
  }
 ],
 "metadata": {
  "kernelspec": {
   "display_name": "Python 3",
   "language": "python",
   "name": "python3"
  },
  "language_info": {
   "codemirror_mode": {
    "name": "ipython",
    "version": 3
   },
   "file_extension": ".py",
   "mimetype": "text/x-python",
   "name": "python",
   "nbconvert_exporter": "python",
   "pygments_lexer": "ipython3",
   "version": "3.7.0"
  }
 },
 "nbformat": 4,
 "nbformat_minor": 2
}
