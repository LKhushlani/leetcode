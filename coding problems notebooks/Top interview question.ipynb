{
 "cells": [
  {
   "cell_type": "markdown",
   "metadata": {},
   "source": [
    "# Arrays"
   ]
  },
  {
   "cell_type": "markdown",
   "metadata": {},
   "source": [
    "## duplicate sorted array return length of unique no list"
   ]
  },
  {
   "cell_type": "code",
   "execution_count": 39,
   "metadata": {},
   "outputs": [
    {
     "name": "stdout",
     "output_type": "stream",
     "text": [
      "[1, 2, 2]\n",
      "[1, 2, 2]\n"
     ]
    }
   ],
   "source": [
    "nums = [1,1,2]\n",
    "n_len = 1\n",
    "for i in range(1,len(nums)):\n",
    "    if nums[i] != nums[i-1]:\n",
    "        nums[n_len] = nums[i]\n",
    "        print(nums)\n",
    "        n_len += 1\n",
    "        \n",
    "print(nums)"
   ]
  },
  {
   "cell_type": "code",
   "execution_count": 40,
   "metadata": {},
   "outputs": [
    {
     "data": {
      "text/plain": [
       "2"
      ]
     },
     "execution_count": 40,
     "metadata": {},
     "output_type": "execute_result"
    }
   ],
   "source": [
    "n_len"
   ]
  },
  {
   "cell_type": "markdown",
   "metadata": {},
   "source": [
    "## rotate array"
   ]
  },
  {
   "cell_type": "code",
   "execution_count": null,
   "metadata": {},
   "outputs": [],
   "source": [
    "class Solution:\n",
    "    def rotate(self, nums: List[int], k: int) -> None:\n",
    "        \"\"\"\n",
    "        Do not return anything, modify nums in-place instead.\n",
    "        \"\"\"\n",
    "        def reverse(nums,start_i, end_i):\n",
    "            while start_i <= end_i:\n",
    "                nums[start_i], nums[end_i] = nums[end_i], nums[start_i]\n",
    "                start_i +=1 \n",
    "                end_i -= 1\n",
    "            return nums\n",
    "            \n",
    "            \n",
    "        if len(nums) == 1:\n",
    "            return nums\n",
    "        elif len(nums) == 0:\n",
    "            return 0\n",
    "        \n",
    "        start_i = 0\n",
    "        l = len(nums)\n",
    "        k %= l\n",
    "        \n",
    "        nums = reverse(nums, 0,l-1)\n",
    "        nums = reverse(nums, 0,k-1)\n",
    "        nums = reverse(nums, k, l-1)\n",
    "        return nums\n",
    "                \n",
    "        \n",
    "        "
   ]
  },
  {
   "cell_type": "markdown",
   "metadata": {},
   "source": [
    "## Duplicate vals"
   ]
  },
  {
   "cell_type": "code",
   "execution_count": 10,
   "metadata": {},
   "outputs": [
    {
     "name": "stdout",
     "output_type": "stream",
     "text": [
      "False\n"
     ]
    }
   ],
   "source": [
    "nums = [1,2,3,4,5,1]\n",
    "d = {}\n",
    "for i in nums:\n",
    "    if i in d:\n",
    "        print(\"False\")\n",
    "#         return false\n",
    "    else:\n",
    "        d[i] = 1\n",
    "\n"
   ]
  },
  {
   "cell_type": "code",
   "execution_count": 15,
   "metadata": {},
   "outputs": [
    {
     "name": "stdout",
     "output_type": "stream",
     "text": [
      "0\n"
     ]
    }
   ],
   "source": [
    "nums = [4,4,1,2,1,2]\n",
    "val = 0\n",
    "for i in nums:\n",
    "    val ^= i\n",
    "print(val)"
   ]
  },
  {
   "cell_type": "markdown",
   "metadata": {},
   "source": [
    "## intersection of 2 arrays"
   ]
  },
  {
   "cell_type": "code",
   "execution_count": 25,
   "metadata": {},
   "outputs": [
    {
     "name": "stdout",
     "output_type": "stream",
     "text": [
      "[1, 1, 1, 3]\n"
     ]
    }
   ],
   "source": [
    "nums1 = [1,2,3,1,2,1]\n",
    "nums2 = [1,3,4,5,24,1, 1]\n",
    "\n",
    "from collections import Counter\n",
    "a = Counter(nums1)\n",
    "b = Counter(nums2)\n",
    "\n",
    "\n",
    "print(list((a&b).elements()))"
   ]
  },
  {
   "cell_type": "code",
   "execution_count": 29,
   "metadata": {},
   "outputs": [
    {
     "name": "stdout",
     "output_type": "stream",
     "text": [
      "[1, 2, 2, 1]\n"
     ]
    }
   ],
   "source": [
    "from collections import Counter\n",
    "\n",
    "nums1 = [1,2,2,1]\n",
    "nums2 = [1,2,2,4,2,1]\n",
    "d = Counter(nums1)\n",
    "\n",
    "ans = []\n",
    "for x in nums2:\n",
    "    if x in d and d[x] > 0:\n",
    "        ans.append(x)\n",
    "        d[x] -= 1\n",
    "\n",
    "print(ans)"
   ]
  },
  {
   "cell_type": "markdown",
   "metadata": {},
   "source": [
    "## plus one "
   ]
  },
  {
   "cell_type": "code",
   "execution_count": 34,
   "metadata": {},
   "outputs": [
    {
     "name": "stdout",
     "output_type": "stream",
     "text": [
      "[1, 0, 0, 0, 0, 0]\n"
     ]
    }
   ],
   "source": [
    "digits = [9,9,9,9,9]\n",
    "l = len(digits)\n",
    "last_digit = digits[l-1]\n",
    "if last_digit >=0 and last_digit <=8:\n",
    "    digits[l-1] = digits[l-1] +1\n",
    "    print(digits)\n",
    "#     return digits\n",
    "else:\n",
    "    s = 0\n",
    "    val = l-1\n",
    "    for d in digits:\n",
    "        s += d*(10**val)\n",
    "        val -= 1\n",
    "    s = s+1\n",
    "    print([int(i) for i in str(s)])\n",
    "#     return [int(i) for i in str(s)]"
   ]
  },
  {
   "cell_type": "markdown",
   "metadata": {},
   "source": [
    "## move zeros"
   ]
  },
  {
   "cell_type": "code",
   "execution_count": 42,
   "metadata": {},
   "outputs": [
    {
     "name": "stdout",
     "output_type": "stream",
     "text": [
      "0\n",
      "1\n",
      "2\n",
      "3\n",
      "4\n",
      "5\n"
     ]
    }
   ],
   "source": [
    "nums = [1,2,0,0,0,1]\n",
    "index = 0\n",
    "l = len(nums)\n",
    "count = 0\n",
    "for i in range(len(nums)):\n",
    "    print(i)\n",
    "    if nums[i] !=0:\n",
    "        nums[index] = nums[i]\n",
    "        index += 1 \n",
    "    else:\n",
    "        count += 1\n",
    "\n",
    "for i in range(count):\n",
    "    nums[index] = 0\n",
    "    index += 1"
   ]
  },
  {
   "cell_type": "code",
   "execution_count": 43,
   "metadata": {},
   "outputs": [
    {
     "data": {
      "text/plain": [
       "[1, 2, 1, 0, 0, 0]"
      ]
     },
     "execution_count": 43,
     "metadata": {},
     "output_type": "execute_result"
    }
   ],
   "source": [
    "nums"
   ]
  },
  {
   "cell_type": "markdown",
   "metadata": {},
   "source": [
    "## Valid sudoku"
   ]
  },
  {
   "cell_type": "code",
   "execution_count": 50,
   "metadata": {},
   "outputs": [],
   "source": [
    "sudoku = [\n",
    "  [\"8\",\"3\",\".\",\".\",\"7\",\".\",\".\",\".\",\".\"],\n",
    "  [\"6\",\".\",\".\",\"1\",\"9\",\"5\",\".\",\".\",\".\"],\n",
    "  [\".\",\"9\",\"8\",\".\",\".\",\".\",\".\",\"6\",\".\"],\n",
    "  [\"8\",\".\",\".\",\".\",\"6\",\".\",\".\",\".\",\"3\"],\n",
    "  [\"4\",\".\",\".\",\"8\",\".\",\"3\",\".\",\".\",\"1\"],\n",
    "  [\"7\",\".\",\".\",\".\",\"2\",\".\",\".\",\".\",\"6\"],\n",
    "  [\".\",\"6\",\".\",\".\",\".\",\".\",\"2\",\"8\",\".\"],\n",
    "  [\".\",\".\",\".\",\"4\",\"1\",\"9\",\".\",\".\",\"5\"],\n",
    "  [\".\",\".\",\".\",\".\",\"8\",\".\",\".\",\"7\",\"9\"]\n",
    "]\n",
    "\n"
   ]
  },
  {
   "cell_type": "code",
   "execution_count": 58,
   "metadata": {},
   "outputs": [
    {
     "name": "stdout",
     "output_type": "stream",
     "text": [
      "['8', '3', '.', '.', '7', '.', '.', '.', '.']\n",
      "j 8 j 3 j . j . j 7 j . j . j . j . \n",
      "['6', '.', '.', '1', '9', '5', '.', '.', '.']\n",
      "j 6 j . j . j 1 j 9 j 5 j . j . j . \n",
      "['.', '9', '8', '.', '.', '.', '.', '6', '.']\n",
      "j . j 9 j 8 j . j . j . j . j 6 j . \n",
      "['8', '.', '.', '.', '6', '.', '.', '.', '3']\n",
      "j 8 j . j . j . j 6 j . j . j . j 3 \n",
      "['4', '.', '.', '8', '.', '3', '.', '.', '1']\n",
      "j 4 j . j . j 8 j . j 3 j . j . j 1 \n",
      "['7', '.', '.', '.', '2', '.', '.', '.', '6']\n",
      "j 7 j . j . j . j 2 j . j . j . j 6 \n",
      "['.', '6', '.', '.', '.', '.', '2', '8', '.']\n",
      "j . j 6 j . j . j . j . j 2 j 8 j . \n",
      "['.', '.', '.', '4', '1', '9', '.', '.', '5']\n",
      "j . j . j . j 4 j 1 j 9 j . j . j 5 \n",
      "['.', '.', '.', '.', '8', '.', '.', '7', '9']\n",
      "j . j . j . j . j 8 j . j . j 7 j 9 \n"
     ]
    }
   ],
   "source": [
    "for i in range(len(sudoku)):\n",
    "    print(sudoku[i])\n",
    "    for j in range(len(sudoku[0])):\n",
    "        print(\"j\", sudoku[i][j], end=\" \")\n",
    "    print()"
   ]
  },
  {
   "cell_type": "code",
   "execution_count": 44,
   "metadata": {},
   "outputs": [],
   "source": [
    "def isValidSudoku(self, board: List[List[str]]) -> bool:0\n",
    "\n",
    "    def valid_row():\n",
    "        \n",
    "    def valid_column():\n",
    "    \n",
    "    def  ():\n",
    "        \n",
    "    \n",
    "        "
   ]
  },
  {
   "cell_type": "code",
   "execution_count": 48,
   "metadata": {},
   "outputs": [],
   "source": []
  },
  {
   "cell_type": "code",
   "execution_count": null,
   "metadata": {},
   "outputs": [],
   "source": []
  },
  {
   "cell_type": "code",
   "execution_count": null,
   "metadata": {},
   "outputs": [],
   "source": []
  }
 ],
 "metadata": {
  "kernelspec": {
   "display_name": "Python 3",
   "language": "python",
   "name": "python3"
  },
  "language_info": {
   "codemirror_mode": {
    "name": "ipython",
    "version": 3
   },
   "file_extension": ".py",
   "mimetype": "text/x-python",
   "name": "python",
   "nbconvert_exporter": "python",
   "pygments_lexer": "ipython3",
   "version": "3.7.0"
  }
 },
 "nbformat": 4,
 "nbformat_minor": 2
}
